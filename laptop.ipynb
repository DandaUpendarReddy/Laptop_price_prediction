{
 "cells": [
  {
   "cell_type": "code",
   "execution_count": 1,
   "metadata": {
    "id": "pONZACW4ERbU"
   },
   "outputs": [],
   "source": [
    "import numpy as np\n",
    "import pandas as pd\n",
    "import matplotlib.pyplot as plt\n",
    "import seaborn as sns\n",
    "import warnings\n",
    "warnings.filterwarnings(\"ignore\")\n",
    "import re"
   ]
  },
  {
   "cell_type": "code",
   "execution_count": 2,
   "metadata": {
    "id": "vZVY0iAsEkhs"
   },
   "outputs": [],
   "source": [
    "df=pd.read_csv(r\"C:\\Users\\Dell\\Downloads\\laptop_details.csv\")"
   ]
  },
  {
   "cell_type": "code",
   "execution_count": 3,
   "metadata": {
    "colab": {
     "base_uri": "https://localhost:8080/",
     "height": 641
    },
    "id": "JuDc5L3jEsef",
    "outputId": "6bbb1838-cd53-461f-b2fd-319a6dab8f95"
   },
   "outputs": [
    {
     "data": {
      "text/html": [
       "<div>\n",
       "<style scoped>\n",
       "    .dataframe tbody tr th:only-of-type {\n",
       "        vertical-align: middle;\n",
       "    }\n",
       "\n",
       "    .dataframe tbody tr th {\n",
       "        vertical-align: top;\n",
       "    }\n",
       "\n",
       "    .dataframe thead th {\n",
       "        text-align: right;\n",
       "    }\n",
       "</style>\n",
       "<table border=\"1\" class=\"dataframe\">\n",
       "  <thead>\n",
       "    <tr style=\"text-align: right;\">\n",
       "      <th></th>\n",
       "      <th>Product</th>\n",
       "      <th>Rating</th>\n",
       "      <th>MRP</th>\n",
       "      <th>Feature</th>\n",
       "    </tr>\n",
       "  </thead>\n",
       "  <tbody>\n",
       "    <tr>\n",
       "      <th>0</th>\n",
       "      <td>Lenovo IdeaPad 3 Core i3 11th Gen - (8 GB/256 ...</td>\n",
       "      <td>4.2</td>\n",
       "      <td>₹36,990</td>\n",
       "      <td>Intel Core i3 Processor (11th Gen)8 GB DDR4 RA...</td>\n",
       "    </tr>\n",
       "    <tr>\n",
       "      <th>1</th>\n",
       "      <td>Lenovo IdeaPad 3 Core i3 11th Gen - (8 GB/512 ...</td>\n",
       "      <td>4.2</td>\n",
       "      <td>₹39,990</td>\n",
       "      <td>Intel Core i3 Processor (11th Gen)8 GB DDR4 RA...</td>\n",
       "    </tr>\n",
       "    <tr>\n",
       "      <th>2</th>\n",
       "      <td>ASUS VivoBook 15 (2022) Core i3 10th Gen - (8 ...</td>\n",
       "      <td>4.3</td>\n",
       "      <td>₹32,990</td>\n",
       "      <td>Intel Core i3 Processor (10th Gen)8 GB DDR4 RA...</td>\n",
       "    </tr>\n",
       "    <tr>\n",
       "      <th>3</th>\n",
       "      <td>HP Pavilion Ryzen 5 Hexa Core AMD R5-5600H - (...</td>\n",
       "      <td>4.4</td>\n",
       "      <td>₹49,990</td>\n",
       "      <td>AMD Ryzen 5 Hexa Core Processor8 GB DDR4 RAM64...</td>\n",
       "    </tr>\n",
       "    <tr>\n",
       "      <th>4</th>\n",
       "      <td>ASUS TUF Gaming F15 Core i5 10th Gen - (8 GB/5...</td>\n",
       "      <td>4.4</td>\n",
       "      <td>₹49,990</td>\n",
       "      <td>Intel Core i5 Processor (10th Gen)8 GB DDR4 RA...</td>\n",
       "    </tr>\n",
       "    <tr>\n",
       "      <th>...</th>\n",
       "      <td>...</td>\n",
       "      <td>...</td>\n",
       "      <td>...</td>\n",
       "      <td>...</td>\n",
       "    </tr>\n",
       "    <tr>\n",
       "      <th>715</th>\n",
       "      <td>ASUS Chromebook Flip Touch Celeron Dual Core -...</td>\n",
       "      <td>4.0</td>\n",
       "      <td>₹23,490</td>\n",
       "      <td>Intel Celeron Dual Core Processor4 GB LPDDR4 R...</td>\n",
       "    </tr>\n",
       "    <tr>\n",
       "      <th>716</th>\n",
       "      <td>Lenovo IdeaPad Gaming 3 Ryzen 7 Octa Core AMD ...</td>\n",
       "      <td>4.5</td>\n",
       "      <td>₹73,490</td>\n",
       "      <td>AMD Ryzen 7 Octa Core Processor8 GB DDR4 RAM64...</td>\n",
       "    </tr>\n",
       "    <tr>\n",
       "      <th>717</th>\n",
       "      <td>ASUS ROG Zephyrus G15 Ryzen 9 Octa Core 6900HS...</td>\n",
       "      <td>NaN</td>\n",
       "      <td>₹1,94,990</td>\n",
       "      <td>AMD Ryzen 9 Octa Core Processor16 GB DDR5 RAM6...</td>\n",
       "    </tr>\n",
       "    <tr>\n",
       "      <th>718</th>\n",
       "      <td>ASUS Zenbook Flip 14 OLED (2022) Touch Panel C...</td>\n",
       "      <td>3.0</td>\n",
       "      <td>₹1,25,990</td>\n",
       "      <td>Intel Core i7 Processor (12th Gen)16 GB LPDDR5...</td>\n",
       "    </tr>\n",
       "    <tr>\n",
       "      <th>719</th>\n",
       "      <td>Lenovo Ideapad Slim 3i Core i5 10th Gen - (8 G...</td>\n",
       "      <td>4.2</td>\n",
       "      <td>₹50,990</td>\n",
       "      <td>Intel Core i5 Processor (10th Gen)8 GB DDR4 RA...</td>\n",
       "    </tr>\n",
       "  </tbody>\n",
       "</table>\n",
       "<p>720 rows × 4 columns</p>\n",
       "</div>"
      ],
      "text/plain": [
       "                                               Product  Rating        MRP  \\\n",
       "0    Lenovo IdeaPad 3 Core i3 11th Gen - (8 GB/256 ...     4.2    ₹36,990   \n",
       "1    Lenovo IdeaPad 3 Core i3 11th Gen - (8 GB/512 ...     4.2    ₹39,990   \n",
       "2    ASUS VivoBook 15 (2022) Core i3 10th Gen - (8 ...     4.3    ₹32,990   \n",
       "3    HP Pavilion Ryzen 5 Hexa Core AMD R5-5600H - (...     4.4    ₹49,990   \n",
       "4    ASUS TUF Gaming F15 Core i5 10th Gen - (8 GB/5...     4.4    ₹49,990   \n",
       "..                                                 ...     ...        ...   \n",
       "715  ASUS Chromebook Flip Touch Celeron Dual Core -...     4.0    ₹23,490   \n",
       "716  Lenovo IdeaPad Gaming 3 Ryzen 7 Octa Core AMD ...     4.5    ₹73,490   \n",
       "717  ASUS ROG Zephyrus G15 Ryzen 9 Octa Core 6900HS...     NaN  ₹1,94,990   \n",
       "718  ASUS Zenbook Flip 14 OLED (2022) Touch Panel C...     3.0  ₹1,25,990   \n",
       "719  Lenovo Ideapad Slim 3i Core i5 10th Gen - (8 G...     4.2    ₹50,990   \n",
       "\n",
       "                                               Feature  \n",
       "0    Intel Core i3 Processor (11th Gen)8 GB DDR4 RA...  \n",
       "1    Intel Core i3 Processor (11th Gen)8 GB DDR4 RA...  \n",
       "2    Intel Core i3 Processor (10th Gen)8 GB DDR4 RA...  \n",
       "3    AMD Ryzen 5 Hexa Core Processor8 GB DDR4 RAM64...  \n",
       "4    Intel Core i5 Processor (10th Gen)8 GB DDR4 RA...  \n",
       "..                                                 ...  \n",
       "715  Intel Celeron Dual Core Processor4 GB LPDDR4 R...  \n",
       "716  AMD Ryzen 7 Octa Core Processor8 GB DDR4 RAM64...  \n",
       "717  AMD Ryzen 9 Octa Core Processor16 GB DDR5 RAM6...  \n",
       "718  Intel Core i7 Processor (12th Gen)16 GB LPDDR5...  \n",
       "719  Intel Core i5 Processor (10th Gen)8 GB DDR4 RA...  \n",
       "\n",
       "[720 rows x 4 columns]"
      ]
     },
     "execution_count": 3,
     "metadata": {},
     "output_type": "execute_result"
    }
   ],
   "source": [
    "df"
   ]
  },
  {
   "cell_type": "code",
   "execution_count": 4,
   "metadata": {
    "id": "h4qaZucoEtFD"
   },
   "outputs": [],
   "source": [
    "df[\"processor_company\"]=df[\"Feature\"].apply(lambda x:re.search('\\w+',x).group())"
   ]
  },
  {
   "cell_type": "code",
   "execution_count": 5,
   "metadata": {
    "colab": {
     "base_uri": "https://localhost:8080/",
     "height": 832
    },
    "id": "V5CxocqRFXrP",
    "outputId": "2b6bf55a-109f-437c-8021-dcebcaac4dff"
   },
   "outputs": [
    {
     "data": {
      "text/html": [
       "<div>\n",
       "<style scoped>\n",
       "    .dataframe tbody tr th:only-of-type {\n",
       "        vertical-align: middle;\n",
       "    }\n",
       "\n",
       "    .dataframe tbody tr th {\n",
       "        vertical-align: top;\n",
       "    }\n",
       "\n",
       "    .dataframe thead th {\n",
       "        text-align: right;\n",
       "    }\n",
       "</style>\n",
       "<table border=\"1\" class=\"dataframe\">\n",
       "  <thead>\n",
       "    <tr style=\"text-align: right;\">\n",
       "      <th></th>\n",
       "      <th>Product</th>\n",
       "      <th>Rating</th>\n",
       "      <th>MRP</th>\n",
       "      <th>Feature</th>\n",
       "      <th>processor_company</th>\n",
       "    </tr>\n",
       "  </thead>\n",
       "  <tbody>\n",
       "    <tr>\n",
       "      <th>0</th>\n",
       "      <td>Lenovo IdeaPad 3 Core i3 11th Gen - (8 GB/256 ...</td>\n",
       "      <td>4.2</td>\n",
       "      <td>₹36,990</td>\n",
       "      <td>Intel Core i3 Processor (11th Gen)8 GB DDR4 RA...</td>\n",
       "      <td>Intel</td>\n",
       "    </tr>\n",
       "    <tr>\n",
       "      <th>1</th>\n",
       "      <td>Lenovo IdeaPad 3 Core i3 11th Gen - (8 GB/512 ...</td>\n",
       "      <td>4.2</td>\n",
       "      <td>₹39,990</td>\n",
       "      <td>Intel Core i3 Processor (11th Gen)8 GB DDR4 RA...</td>\n",
       "      <td>Intel</td>\n",
       "    </tr>\n",
       "    <tr>\n",
       "      <th>2</th>\n",
       "      <td>ASUS VivoBook 15 (2022) Core i3 10th Gen - (8 ...</td>\n",
       "      <td>4.3</td>\n",
       "      <td>₹32,990</td>\n",
       "      <td>Intel Core i3 Processor (10th Gen)8 GB DDR4 RA...</td>\n",
       "      <td>Intel</td>\n",
       "    </tr>\n",
       "    <tr>\n",
       "      <th>3</th>\n",
       "      <td>HP Pavilion Ryzen 5 Hexa Core AMD R5-5600H - (...</td>\n",
       "      <td>4.4</td>\n",
       "      <td>₹49,990</td>\n",
       "      <td>AMD Ryzen 5 Hexa Core Processor8 GB DDR4 RAM64...</td>\n",
       "      <td>AMD</td>\n",
       "    </tr>\n",
       "    <tr>\n",
       "      <th>4</th>\n",
       "      <td>ASUS TUF Gaming F15 Core i5 10th Gen - (8 GB/5...</td>\n",
       "      <td>4.4</td>\n",
       "      <td>₹49,990</td>\n",
       "      <td>Intel Core i5 Processor (10th Gen)8 GB DDR4 RA...</td>\n",
       "      <td>Intel</td>\n",
       "    </tr>\n",
       "    <tr>\n",
       "      <th>...</th>\n",
       "      <td>...</td>\n",
       "      <td>...</td>\n",
       "      <td>...</td>\n",
       "      <td>...</td>\n",
       "      <td>...</td>\n",
       "    </tr>\n",
       "    <tr>\n",
       "      <th>715</th>\n",
       "      <td>ASUS Chromebook Flip Touch Celeron Dual Core -...</td>\n",
       "      <td>4.0</td>\n",
       "      <td>₹23,490</td>\n",
       "      <td>Intel Celeron Dual Core Processor4 GB LPDDR4 R...</td>\n",
       "      <td>Intel</td>\n",
       "    </tr>\n",
       "    <tr>\n",
       "      <th>716</th>\n",
       "      <td>Lenovo IdeaPad Gaming 3 Ryzen 7 Octa Core AMD ...</td>\n",
       "      <td>4.5</td>\n",
       "      <td>₹73,490</td>\n",
       "      <td>AMD Ryzen 7 Octa Core Processor8 GB DDR4 RAM64...</td>\n",
       "      <td>AMD</td>\n",
       "    </tr>\n",
       "    <tr>\n",
       "      <th>717</th>\n",
       "      <td>ASUS ROG Zephyrus G15 Ryzen 9 Octa Core 6900HS...</td>\n",
       "      <td>NaN</td>\n",
       "      <td>₹1,94,990</td>\n",
       "      <td>AMD Ryzen 9 Octa Core Processor16 GB DDR5 RAM6...</td>\n",
       "      <td>AMD</td>\n",
       "    </tr>\n",
       "    <tr>\n",
       "      <th>718</th>\n",
       "      <td>ASUS Zenbook Flip 14 OLED (2022) Touch Panel C...</td>\n",
       "      <td>3.0</td>\n",
       "      <td>₹1,25,990</td>\n",
       "      <td>Intel Core i7 Processor (12th Gen)16 GB LPDDR5...</td>\n",
       "      <td>Intel</td>\n",
       "    </tr>\n",
       "    <tr>\n",
       "      <th>719</th>\n",
       "      <td>Lenovo Ideapad Slim 3i Core i5 10th Gen - (8 G...</td>\n",
       "      <td>4.2</td>\n",
       "      <td>₹50,990</td>\n",
       "      <td>Intel Core i5 Processor (10th Gen)8 GB DDR4 RA...</td>\n",
       "      <td>Intel</td>\n",
       "    </tr>\n",
       "  </tbody>\n",
       "</table>\n",
       "<p>720 rows × 5 columns</p>\n",
       "</div>"
      ],
      "text/plain": [
       "                                               Product  Rating        MRP  \\\n",
       "0    Lenovo IdeaPad 3 Core i3 11th Gen - (8 GB/256 ...     4.2    ₹36,990   \n",
       "1    Lenovo IdeaPad 3 Core i3 11th Gen - (8 GB/512 ...     4.2    ₹39,990   \n",
       "2    ASUS VivoBook 15 (2022) Core i3 10th Gen - (8 ...     4.3    ₹32,990   \n",
       "3    HP Pavilion Ryzen 5 Hexa Core AMD R5-5600H - (...     4.4    ₹49,990   \n",
       "4    ASUS TUF Gaming F15 Core i5 10th Gen - (8 GB/5...     4.4    ₹49,990   \n",
       "..                                                 ...     ...        ...   \n",
       "715  ASUS Chromebook Flip Touch Celeron Dual Core -...     4.0    ₹23,490   \n",
       "716  Lenovo IdeaPad Gaming 3 Ryzen 7 Octa Core AMD ...     4.5    ₹73,490   \n",
       "717  ASUS ROG Zephyrus G15 Ryzen 9 Octa Core 6900HS...     NaN  ₹1,94,990   \n",
       "718  ASUS Zenbook Flip 14 OLED (2022) Touch Panel C...     3.0  ₹1,25,990   \n",
       "719  Lenovo Ideapad Slim 3i Core i5 10th Gen - (8 G...     4.2    ₹50,990   \n",
       "\n",
       "                                               Feature processor_company  \n",
       "0    Intel Core i3 Processor (11th Gen)8 GB DDR4 RA...             Intel  \n",
       "1    Intel Core i3 Processor (11th Gen)8 GB DDR4 RA...             Intel  \n",
       "2    Intel Core i3 Processor (10th Gen)8 GB DDR4 RA...             Intel  \n",
       "3    AMD Ryzen 5 Hexa Core Processor8 GB DDR4 RAM64...               AMD  \n",
       "4    Intel Core i5 Processor (10th Gen)8 GB DDR4 RA...             Intel  \n",
       "..                                                 ...               ...  \n",
       "715  Intel Celeron Dual Core Processor4 GB LPDDR4 R...             Intel  \n",
       "716  AMD Ryzen 7 Octa Core Processor8 GB DDR4 RAM64...               AMD  \n",
       "717  AMD Ryzen 9 Octa Core Processor16 GB DDR5 RAM6...               AMD  \n",
       "718  Intel Core i7 Processor (12th Gen)16 GB LPDDR5...             Intel  \n",
       "719  Intel Core i5 Processor (10th Gen)8 GB DDR4 RA...             Intel  \n",
       "\n",
       "[720 rows x 5 columns]"
      ]
     },
     "execution_count": 5,
     "metadata": {},
     "output_type": "execute_result"
    }
   ],
   "source": [
    "df"
   ]
  },
  {
   "cell_type": "code",
   "execution_count": 6,
   "metadata": {
    "colab": {
     "base_uri": "https://localhost:8080/"
    },
    "id": "vWFU-LbTFYQq",
    "outputId": "54c35e89-2fd8-40dc-da6a-2d264b374ec0"
   },
   "outputs": [
    {
     "data": {
      "text/plain": [
       "Intel        366\n",
       "AMD          303\n",
       "Apple         19\n",
       "Processor     10\n",
       "NVIDIA         7\n",
       "Free           4\n",
       "Pre            3\n",
       "Stylish        2\n",
       "Powered        2\n",
       "15             2\n",
       "Qualcomm       1\n",
       "First          1\n",
       "Name: processor_company, dtype: int64"
      ]
     },
     "execution_count": 6,
     "metadata": {},
     "output_type": "execute_result"
    }
   ],
   "source": [
    "df.processor_company.value_counts()"
   ]
  },
  {
   "cell_type": "code",
   "execution_count": 7,
   "metadata": {
    "colab": {
     "base_uri": "https://localhost:8080/",
     "height": 358
    },
    "id": "GopX6S9RG9cU",
    "outputId": "c871faa5-48b8-4e12-8422-23a50db9ac91"
   },
   "outputs": [
    {
     "data": {
      "text/html": [
       "<div>\n",
       "<style scoped>\n",
       "    .dataframe tbody tr th:only-of-type {\n",
       "        vertical-align: middle;\n",
       "    }\n",
       "\n",
       "    .dataframe tbody tr th {\n",
       "        vertical-align: top;\n",
       "    }\n",
       "\n",
       "    .dataframe thead th {\n",
       "        text-align: right;\n",
       "    }\n",
       "</style>\n",
       "<table border=\"1\" class=\"dataframe\">\n",
       "  <thead>\n",
       "    <tr style=\"text-align: right;\">\n",
       "      <th></th>\n",
       "      <th>Product</th>\n",
       "      <th>Rating</th>\n",
       "      <th>MRP</th>\n",
       "      <th>Feature</th>\n",
       "      <th>processor_company</th>\n",
       "    </tr>\n",
       "  </thead>\n",
       "  <tbody>\n",
       "    <tr>\n",
       "      <th>33</th>\n",
       "      <td>acer Aspire 7 Ryzen 5 Hexa Core AMD R5-5500U -...</td>\n",
       "      <td>4.4</td>\n",
       "      <td>₹47,990</td>\n",
       "      <td>Free upgrade to Windows 11 when availableAMD R...</td>\n",
       "      <td>Free</td>\n",
       "    </tr>\n",
       "    <tr>\n",
       "      <th>54</th>\n",
       "      <td>acer Aspire 7 Core i5 10th Gen - (8 GB/512 GB ...</td>\n",
       "      <td>4.4</td>\n",
       "      <td>₹47,990</td>\n",
       "      <td>Free upgrade to Windows 11 when availableIntel...</td>\n",
       "      <td>Free</td>\n",
       "    </tr>\n",
       "    <tr>\n",
       "      <th>393</th>\n",
       "      <td>acer Aspire 5 Core i5 11th Gen - (8 GB/1 TB HD...</td>\n",
       "      <td>4.0</td>\n",
       "      <td>₹47,130</td>\n",
       "      <td>Free upgrade to Windows 11 when availableIntel...</td>\n",
       "      <td>Free</td>\n",
       "    </tr>\n",
       "    <tr>\n",
       "      <th>502</th>\n",
       "      <td>acer Nitro 5 Ryzen 5 Hexa Core 4600H - (8 GB/1...</td>\n",
       "      <td>4.5</td>\n",
       "      <td>₹61,490</td>\n",
       "      <td>Free upgrade to Windows 11 when availableAMD R...</td>\n",
       "      <td>Free</td>\n",
       "    </tr>\n",
       "  </tbody>\n",
       "</table>\n",
       "</div>"
      ],
      "text/plain": [
       "                                               Product  Rating      MRP  \\\n",
       "33   acer Aspire 7 Ryzen 5 Hexa Core AMD R5-5500U -...     4.4  ₹47,990   \n",
       "54   acer Aspire 7 Core i5 10th Gen - (8 GB/512 GB ...     4.4  ₹47,990   \n",
       "393  acer Aspire 5 Core i5 11th Gen - (8 GB/1 TB HD...     4.0  ₹47,130   \n",
       "502  acer Nitro 5 Ryzen 5 Hexa Core 4600H - (8 GB/1...     4.5  ₹61,490   \n",
       "\n",
       "                                               Feature processor_company  \n",
       "33   Free upgrade to Windows 11 when availableAMD R...              Free  \n",
       "54   Free upgrade to Windows 11 when availableIntel...              Free  \n",
       "393  Free upgrade to Windows 11 when availableIntel...              Free  \n",
       "502  Free upgrade to Windows 11 when availableAMD R...              Free  "
      ]
     },
     "execution_count": 7,
     "metadata": {},
     "output_type": "execute_result"
    }
   ],
   "source": [
    "df[df['processor_company']==\"Free\"]"
   ]
  },
  {
   "cell_type": "code",
   "execution_count": 8,
   "metadata": {
    "id": "K7kG29fYHeYl"
   },
   "outputs": [],
   "source": [
    "df['processor_company'][[33,502]]=\"AMD\""
   ]
  },
  {
   "cell_type": "code",
   "execution_count": 9,
   "metadata": {
    "id": "nLuI7lxaIN0w"
   },
   "outputs": [],
   "source": [
    "df['processor_company'][[54,393]]=\"Intel\""
   ]
  },
  {
   "cell_type": "code",
   "execution_count": 10,
   "metadata": {
    "colab": {
     "base_uri": "https://localhost:8080/",
     "height": 292
    },
    "id": "7XeJLaWKIi1M",
    "outputId": "7cbb7d5d-c5c2-4d01-bfe8-f680c4b4c0d7"
   },
   "outputs": [
    {
     "data": {
      "text/html": [
       "<div>\n",
       "<style scoped>\n",
       "    .dataframe tbody tr th:only-of-type {\n",
       "        vertical-align: middle;\n",
       "    }\n",
       "\n",
       "    .dataframe tbody tr th {\n",
       "        vertical-align: top;\n",
       "    }\n",
       "\n",
       "    .dataframe thead th {\n",
       "        text-align: right;\n",
       "    }\n",
       "</style>\n",
       "<table border=\"1\" class=\"dataframe\">\n",
       "  <thead>\n",
       "    <tr style=\"text-align: right;\">\n",
       "      <th></th>\n",
       "      <th>Product</th>\n",
       "      <th>Rating</th>\n",
       "      <th>MRP</th>\n",
       "      <th>Feature</th>\n",
       "      <th>processor_company</th>\n",
       "    </tr>\n",
       "  </thead>\n",
       "  <tbody>\n",
       "    <tr>\n",
       "      <th>232</th>\n",
       "      <td>MSI Pulse GL66 Core i7 11th Gen - (16 GB/1 TB ...</td>\n",
       "      <td>4.5</td>\n",
       "      <td>₹1,14,990</td>\n",
       "      <td>Pre-installed Genuine Windows 10 Home OSIntel ...</td>\n",
       "      <td>Pre</td>\n",
       "    </tr>\n",
       "    <tr>\n",
       "      <th>438</th>\n",
       "      <td>acer Predator Helios 300 Core i5 7th Gen - (8 ...</td>\n",
       "      <td>4.5</td>\n",
       "      <td>₹1,29,999</td>\n",
       "      <td>Pre-installed Genuine Windows 10 Operating Sys...</td>\n",
       "      <td>Pre</td>\n",
       "    </tr>\n",
       "    <tr>\n",
       "      <th>443</th>\n",
       "      <td>MSI Pulse GL66 Core i7 11th Gen - (16 GB/512 G...</td>\n",
       "      <td>4.6</td>\n",
       "      <td>₹1,07,790</td>\n",
       "      <td>Pre-installed Genuine Windows 10 Home OSIntel ...</td>\n",
       "      <td>Pre</td>\n",
       "    </tr>\n",
       "  </tbody>\n",
       "</table>\n",
       "</div>"
      ],
      "text/plain": [
       "                                               Product  Rating        MRP  \\\n",
       "232  MSI Pulse GL66 Core i7 11th Gen - (16 GB/1 TB ...     4.5  ₹1,14,990   \n",
       "438  acer Predator Helios 300 Core i5 7th Gen - (8 ...     4.5  ₹1,29,999   \n",
       "443  MSI Pulse GL66 Core i7 11th Gen - (16 GB/512 G...     4.6  ₹1,07,790   \n",
       "\n",
       "                                               Feature processor_company  \n",
       "232  Pre-installed Genuine Windows 10 Home OSIntel ...               Pre  \n",
       "438  Pre-installed Genuine Windows 10 Operating Sys...               Pre  \n",
       "443  Pre-installed Genuine Windows 10 Home OSIntel ...               Pre  "
      ]
     },
     "execution_count": 10,
     "metadata": {},
     "output_type": "execute_result"
    }
   ],
   "source": [
    "df[df['processor_company']==\"Pre\"]"
   ]
  },
  {
   "cell_type": "code",
   "execution_count": 11,
   "metadata": {
    "colab": {
     "base_uri": "https://localhost:8080/",
     "height": 87
    },
    "id": "4HfZIjIiI72j",
    "outputId": "bd4c7c74-8fe0-4b50-99a3-3b1ea1d678b7"
   },
   "outputs": [
    {
     "data": {
      "text/plain": [
       "'Pre-installed Genuine Windows 10 Home OSIntel Core i7 Processor (11th Gen)16 GB DDR4 RAM64 bit Windows 10 Operating System512 GB SSD39.62 cm (15.6 inches) DisplayCooler Boost 5, Hi-Res Audio, Nahimic 3, Speaker Tuning Engine, MSI Center2 Year Warranty Term'"
      ]
     },
     "execution_count": 11,
     "metadata": {},
     "output_type": "execute_result"
    }
   ],
   "source": [
    "df.loc[443][-2]"
   ]
  },
  {
   "cell_type": "code",
   "execution_count": 12,
   "metadata": {
    "id": "ngUCSAFyJKAp"
   },
   "outputs": [],
   "source": [
    "df['processor_company'][[232,438,443]]=\"Intel\""
   ]
  },
  {
   "cell_type": "code",
   "execution_count": 13,
   "metadata": {
    "colab": {
     "base_uri": "https://localhost:8080/",
     "height": 754
    },
    "id": "bjPdQHYdJj9g",
    "outputId": "d888abb1-d34a-4817-acc4-d1df7f4e9339"
   },
   "outputs": [
    {
     "data": {
      "text/html": [
       "<div>\n",
       "<style scoped>\n",
       "    .dataframe tbody tr th:only-of-type {\n",
       "        vertical-align: middle;\n",
       "    }\n",
       "\n",
       "    .dataframe tbody tr th {\n",
       "        vertical-align: top;\n",
       "    }\n",
       "\n",
       "    .dataframe thead th {\n",
       "        text-align: right;\n",
       "    }\n",
       "</style>\n",
       "<table border=\"1\" class=\"dataframe\">\n",
       "  <thead>\n",
       "    <tr style=\"text-align: right;\">\n",
       "      <th></th>\n",
       "      <th>Product</th>\n",
       "      <th>Rating</th>\n",
       "      <th>MRP</th>\n",
       "      <th>Feature</th>\n",
       "      <th>processor_company</th>\n",
       "    </tr>\n",
       "  </thead>\n",
       "  <tbody>\n",
       "    <tr>\n",
       "      <th>6</th>\n",
       "      <td>DELL Inspiron Core i3 11th Gen - (8 GB/1 TB HD...</td>\n",
       "      <td>4.3</td>\n",
       "      <td>₹38,990</td>\n",
       "      <td>Processor: Intel i3-1115G4 (Base- 1.70 GHz &amp; T...</td>\n",
       "      <td>Processor</td>\n",
       "    </tr>\n",
       "    <tr>\n",
       "      <th>69</th>\n",
       "      <td>DELL Ryzen 5 Hexa Core AMD R5-5600H - (16 GB/5...</td>\n",
       "      <td>4.6</td>\n",
       "      <td>₹70,990</td>\n",
       "      <td>Processor: AMD Ryzen R5-5600H (3.30 GHz up to ...</td>\n",
       "      <td>Processor</td>\n",
       "    </tr>\n",
       "    <tr>\n",
       "      <th>94</th>\n",
       "      <td>DELL Inspiron Pentium Silver - (8 GB/256 GB SS...</td>\n",
       "      <td>4.2</td>\n",
       "      <td>₹30,428</td>\n",
       "      <td>Processor: Intel PQC-N5030 (1.10 GHz up to 3.1...</td>\n",
       "      <td>Processor</td>\n",
       "    </tr>\n",
       "    <tr>\n",
       "      <th>142</th>\n",
       "      <td>DELL Vostro Ryzen 3 Dual Core R3-3250U - (8 GB...</td>\n",
       "      <td>3.8</td>\n",
       "      <td>₹33,099</td>\n",
       "      <td>Processor: AMD Ryzen 3-3250U (2.60 GHz up to 3...</td>\n",
       "      <td>Processor</td>\n",
       "    </tr>\n",
       "    <tr>\n",
       "      <th>172</th>\n",
       "      <td>DELL Inspiron Core i3 11th Gen - (8 GB/1 TB HD...</td>\n",
       "      <td>4.3</td>\n",
       "      <td>₹45,900</td>\n",
       "      <td>Processor: Intel i3-1115G4 (Base- 1.70 GHz &amp; T...</td>\n",
       "      <td>Processor</td>\n",
       "    </tr>\n",
       "    <tr>\n",
       "      <th>249</th>\n",
       "      <td>DELL Inspiron Core i3 11th Gen - (8 GB/256 GB ...</td>\n",
       "      <td>4.3</td>\n",
       "      <td>₹54,900</td>\n",
       "      <td>Processor: Intel i3-1125G4 (2.00 GHz up to 3.7...</td>\n",
       "      <td>Processor</td>\n",
       "    </tr>\n",
       "    <tr>\n",
       "      <th>253</th>\n",
       "      <td>DELL Inspiron Ryzen 5 Dual Core 3450U - (8 GB/...</td>\n",
       "      <td>4.3</td>\n",
       "      <td>₹48,184</td>\n",
       "      <td>Processor: AMD Ryzen 5-3450U (2.10 GHz up to 3...</td>\n",
       "      <td>Processor</td>\n",
       "    </tr>\n",
       "    <tr>\n",
       "      <th>349</th>\n",
       "      <td>DELL Vostro Core i5 11th Gen - (8 GB/512 GB SS...</td>\n",
       "      <td>3.9</td>\n",
       "      <td>₹63,090</td>\n",
       "      <td>Processor: 11th Generation Intel Core i5-1135G...</td>\n",
       "      <td>Processor</td>\n",
       "    </tr>\n",
       "    <tr>\n",
       "      <th>355</th>\n",
       "      <td>DELL Vostro Core i3 10th Gen - (8 GB/512 GB SS...</td>\n",
       "      <td>4.1</td>\n",
       "      <td>₹43,090</td>\n",
       "      <td>Processor: 10th Generation Intel Core i3-1005G...</td>\n",
       "      <td>Processor</td>\n",
       "    </tr>\n",
       "    <tr>\n",
       "      <th>593</th>\n",
       "      <td>DELL Core i7 11th Gen - (16 GB/512 GB SSD/Wind...</td>\n",
       "      <td>4.2</td>\n",
       "      <td>₹1,01,990</td>\n",
       "      <td>Processor: Intel i7-11800H- (2.30 GHz up to 4....</td>\n",
       "      <td>Processor</td>\n",
       "    </tr>\n",
       "  </tbody>\n",
       "</table>\n",
       "</div>"
      ],
      "text/plain": [
       "                                               Product  Rating        MRP  \\\n",
       "6    DELL Inspiron Core i3 11th Gen - (8 GB/1 TB HD...     4.3    ₹38,990   \n",
       "69   DELL Ryzen 5 Hexa Core AMD R5-5600H - (16 GB/5...     4.6    ₹70,990   \n",
       "94   DELL Inspiron Pentium Silver - (8 GB/256 GB SS...     4.2    ₹30,428   \n",
       "142  DELL Vostro Ryzen 3 Dual Core R3-3250U - (8 GB...     3.8    ₹33,099   \n",
       "172  DELL Inspiron Core i3 11th Gen - (8 GB/1 TB HD...     4.3    ₹45,900   \n",
       "249  DELL Inspiron Core i3 11th Gen - (8 GB/256 GB ...     4.3    ₹54,900   \n",
       "253  DELL Inspiron Ryzen 5 Dual Core 3450U - (8 GB/...     4.3    ₹48,184   \n",
       "349  DELL Vostro Core i5 11th Gen - (8 GB/512 GB SS...     3.9    ₹63,090   \n",
       "355  DELL Vostro Core i3 10th Gen - (8 GB/512 GB SS...     4.1    ₹43,090   \n",
       "593  DELL Core i7 11th Gen - (16 GB/512 GB SSD/Wind...     4.2  ₹1,01,990   \n",
       "\n",
       "                                               Feature processor_company  \n",
       "6    Processor: Intel i3-1115G4 (Base- 1.70 GHz & T...         Processor  \n",
       "69   Processor: AMD Ryzen R5-5600H (3.30 GHz up to ...         Processor  \n",
       "94   Processor: Intel PQC-N5030 (1.10 GHz up to 3.1...         Processor  \n",
       "142  Processor: AMD Ryzen 3-3250U (2.60 GHz up to 3...         Processor  \n",
       "172  Processor: Intel i3-1115G4 (Base- 1.70 GHz & T...         Processor  \n",
       "249  Processor: Intel i3-1125G4 (2.00 GHz up to 3.7...         Processor  \n",
       "253  Processor: AMD Ryzen 5-3450U (2.10 GHz up to 3...         Processor  \n",
       "349  Processor: 11th Generation Intel Core i5-1135G...         Processor  \n",
       "355  Processor: 10th Generation Intel Core i3-1005G...         Processor  \n",
       "593  Processor: Intel i7-11800H- (2.30 GHz up to 4....         Processor  "
      ]
     },
     "execution_count": 13,
     "metadata": {},
     "output_type": "execute_result"
    }
   ],
   "source": [
    "df[df['processor_company']==\"Processor\"]"
   ]
  },
  {
   "cell_type": "code",
   "execution_count": 14,
   "metadata": {
    "id": "5go6p3beJuzX"
   },
   "outputs": [],
   "source": [
    "df['processor_company'][[69,142,253]]=\"AMD\"\n",
    "df['processor_company'][[6,94,172,249,349,355,593]]=\"Intel\""
   ]
  },
  {
   "cell_type": "code",
   "execution_count": 15,
   "metadata": {
    "colab": {
     "base_uri": "https://localhost:8080/",
     "height": 556
    },
    "id": "kdcShQwNKL6C",
    "outputId": "653157d0-c54e-475f-8963-7531a231b297"
   },
   "outputs": [
    {
     "data": {
      "text/html": [
       "<div>\n",
       "<style scoped>\n",
       "    .dataframe tbody tr th:only-of-type {\n",
       "        vertical-align: middle;\n",
       "    }\n",
       "\n",
       "    .dataframe tbody tr th {\n",
       "        vertical-align: top;\n",
       "    }\n",
       "\n",
       "    .dataframe thead th {\n",
       "        text-align: right;\n",
       "    }\n",
       "</style>\n",
       "<table border=\"1\" class=\"dataframe\">\n",
       "  <thead>\n",
       "    <tr style=\"text-align: right;\">\n",
       "      <th></th>\n",
       "      <th>Product</th>\n",
       "      <th>Rating</th>\n",
       "      <th>MRP</th>\n",
       "      <th>Feature</th>\n",
       "      <th>processor_company</th>\n",
       "    </tr>\n",
       "  </thead>\n",
       "  <tbody>\n",
       "    <tr>\n",
       "      <th>122</th>\n",
       "      <td>DELL Ryzen 7 Octa Core AMD R7-5800H - (16 GB/5...</td>\n",
       "      <td>5.0</td>\n",
       "      <td>₹89,081</td>\n",
       "      <td>NVIDIA RTX 3050 Graphics upto 90W TGP15.6 inch...</td>\n",
       "      <td>NVIDIA</td>\n",
       "    </tr>\n",
       "    <tr>\n",
       "      <th>259</th>\n",
       "      <td>DELL Core i5 11th Gen - (8 GB/512 GB SSD/Windo...</td>\n",
       "      <td>4.4</td>\n",
       "      <td>₹67,990</td>\n",
       "      <td>NVIDIA RTX 3050 Graphics upto 90W TGP15.6 inch...</td>\n",
       "      <td>NVIDIA</td>\n",
       "    </tr>\n",
       "    <tr>\n",
       "      <th>628</th>\n",
       "      <td>ALIENWARE Core i9 10th Gen - (32 GB/1 TB SSD/W...</td>\n",
       "      <td>4.6</td>\n",
       "      <td>₹3,45,390</td>\n",
       "      <td>NVIDIA GeForce RTX 2080 with Max-Q15.6 inch Fu...</td>\n",
       "      <td>NVIDIA</td>\n",
       "    </tr>\n",
       "    <tr>\n",
       "      <th>644</th>\n",
       "      <td>acer Predator Helios 300 Core i5 8th Gen - (8 ...</td>\n",
       "      <td>4.6</td>\n",
       "      <td>₹74,590</td>\n",
       "      <td>NVIDIA Geforce GTX 1050 Ti for Desktop Level P...</td>\n",
       "      <td>NVIDIA</td>\n",
       "    </tr>\n",
       "    <tr>\n",
       "      <th>645</th>\n",
       "      <td>DELL Ryzen 5 Hexa Core AMD R5-5600H - (8 GB/51...</td>\n",
       "      <td>4.7</td>\n",
       "      <td>₹71,990</td>\n",
       "      <td>NVIDIA RTX 3050 Graphics upto 90W TGP15.6 inch...</td>\n",
       "      <td>NVIDIA</td>\n",
       "    </tr>\n",
       "    <tr>\n",
       "      <th>688</th>\n",
       "      <td>ALIENWARE Core i7 10th Gen - (16 GB/1 TB SSD/W...</td>\n",
       "      <td>4.1</td>\n",
       "      <td>₹2,14,790</td>\n",
       "      <td>NVIDIA GeForce RTX 206015.6 inch Full HD LED B...</td>\n",
       "      <td>NVIDIA</td>\n",
       "    </tr>\n",
       "    <tr>\n",
       "      <th>689</th>\n",
       "      <td>ALIENWARE Core i7 10th Gen - (16 GB/512 GB SSD...</td>\n",
       "      <td>4.9</td>\n",
       "      <td>₹1,99,990</td>\n",
       "      <td>NVIDIA GeForce GTX 1660 Ti15.6 inch Full HD LE...</td>\n",
       "      <td>NVIDIA</td>\n",
       "    </tr>\n",
       "  </tbody>\n",
       "</table>\n",
       "</div>"
      ],
      "text/plain": [
       "                                               Product  Rating        MRP  \\\n",
       "122  DELL Ryzen 7 Octa Core AMD R7-5800H - (16 GB/5...     5.0    ₹89,081   \n",
       "259  DELL Core i5 11th Gen - (8 GB/512 GB SSD/Windo...     4.4    ₹67,990   \n",
       "628  ALIENWARE Core i9 10th Gen - (32 GB/1 TB SSD/W...     4.6  ₹3,45,390   \n",
       "644  acer Predator Helios 300 Core i5 8th Gen - (8 ...     4.6    ₹74,590   \n",
       "645  DELL Ryzen 5 Hexa Core AMD R5-5600H - (8 GB/51...     4.7    ₹71,990   \n",
       "688  ALIENWARE Core i7 10th Gen - (16 GB/1 TB SSD/W...     4.1  ₹2,14,790   \n",
       "689  ALIENWARE Core i7 10th Gen - (16 GB/512 GB SSD...     4.9  ₹1,99,990   \n",
       "\n",
       "                                               Feature processor_company  \n",
       "122  NVIDIA RTX 3050 Graphics upto 90W TGP15.6 inch...            NVIDIA  \n",
       "259  NVIDIA RTX 3050 Graphics upto 90W TGP15.6 inch...            NVIDIA  \n",
       "628  NVIDIA GeForce RTX 2080 with Max-Q15.6 inch Fu...            NVIDIA  \n",
       "644  NVIDIA Geforce GTX 1050 Ti for Desktop Level P...            NVIDIA  \n",
       "645  NVIDIA RTX 3050 Graphics upto 90W TGP15.6 inch...            NVIDIA  \n",
       "688  NVIDIA GeForce RTX 206015.6 inch Full HD LED B...            NVIDIA  \n",
       "689  NVIDIA GeForce GTX 1660 Ti15.6 inch Full HD LE...            NVIDIA  "
      ]
     },
     "execution_count": 15,
     "metadata": {},
     "output_type": "execute_result"
    }
   ],
   "source": [
    "df[df['processor_company']==\"NVIDIA\"]"
   ]
  },
  {
   "cell_type": "code",
   "execution_count": 16,
   "metadata": {
    "id": "5a25TWo1KWMl"
   },
   "outputs": [],
   "source": [
    "df['processor_company'][[122,645]]=\"AMD\"\n",
    "df['processor_company'][[259,628,644,688,689]]=\"Intel\""
   ]
  },
  {
   "cell_type": "code",
   "execution_count": 17,
   "metadata": {
    "colab": {
     "base_uri": "https://localhost:8080/",
     "height": 225
    },
    "id": "M_rwyS7-LAXX",
    "outputId": "66f06f6f-100a-4e63-c017-8ff04011daed"
   },
   "outputs": [
    {
     "data": {
      "text/html": [
       "<div>\n",
       "<style scoped>\n",
       "    .dataframe tbody tr th:only-of-type {\n",
       "        vertical-align: middle;\n",
       "    }\n",
       "\n",
       "    .dataframe tbody tr th {\n",
       "        vertical-align: top;\n",
       "    }\n",
       "\n",
       "    .dataframe thead th {\n",
       "        text-align: right;\n",
       "    }\n",
       "</style>\n",
       "<table border=\"1\" class=\"dataframe\">\n",
       "  <thead>\n",
       "    <tr style=\"text-align: right;\">\n",
       "      <th></th>\n",
       "      <th>Product</th>\n",
       "      <th>Rating</th>\n",
       "      <th>MRP</th>\n",
       "      <th>Feature</th>\n",
       "      <th>processor_company</th>\n",
       "    </tr>\n",
       "  </thead>\n",
       "  <tbody>\n",
       "    <tr>\n",
       "      <th>8</th>\n",
       "      <td>realme Book (Slim) Core i3 11th Gen - (8 GB/25...</td>\n",
       "      <td>4.4</td>\n",
       "      <td>₹46,990</td>\n",
       "      <td>Stylish &amp; Portable Thin and Light Laptop14 inc...</td>\n",
       "      <td>Stylish</td>\n",
       "    </tr>\n",
       "    <tr>\n",
       "      <th>29</th>\n",
       "      <td>realme Book (Slim) Core i3 11th Gen - (8 GB/25...</td>\n",
       "      <td>4.4</td>\n",
       "      <td>₹46,990</td>\n",
       "      <td>Stylish &amp; Portable Thin and Light Laptop14 inc...</td>\n",
       "      <td>Stylish</td>\n",
       "    </tr>\n",
       "  </tbody>\n",
       "</table>\n",
       "</div>"
      ],
      "text/plain": [
       "                                              Product  Rating      MRP  \\\n",
       "8   realme Book (Slim) Core i3 11th Gen - (8 GB/25...     4.4  ₹46,990   \n",
       "29  realme Book (Slim) Core i3 11th Gen - (8 GB/25...     4.4  ₹46,990   \n",
       "\n",
       "                                              Feature processor_company  \n",
       "8   Stylish & Portable Thin and Light Laptop14 inc...           Stylish  \n",
       "29  Stylish & Portable Thin and Light Laptop14 inc...           Stylish  "
      ]
     },
     "execution_count": 17,
     "metadata": {},
     "output_type": "execute_result"
    }
   ],
   "source": [
    "df[df['processor_company']==\"Stylish\"]"
   ]
  },
  {
   "cell_type": "code",
   "execution_count": 18,
   "metadata": {
    "id": "S7ZaFwhRLfGB"
   },
   "outputs": [],
   "source": [
    "df['processor_company'][[8,29]]=\"Intel\""
   ]
  },
  {
   "cell_type": "code",
   "execution_count": 19,
   "metadata": {
    "colab": {
     "base_uri": "https://localhost:8080/",
     "height": 225
    },
    "id": "tdOaAjiALkFt",
    "outputId": "90fe4b10-1551-4326-8072-c8f16f5fb9b2"
   },
   "outputs": [
    {
     "data": {
      "text/html": [
       "<div>\n",
       "<style scoped>\n",
       "    .dataframe tbody tr th:only-of-type {\n",
       "        vertical-align: middle;\n",
       "    }\n",
       "\n",
       "    .dataframe tbody tr th {\n",
       "        vertical-align: top;\n",
       "    }\n",
       "\n",
       "    .dataframe thead th {\n",
       "        text-align: right;\n",
       "    }\n",
       "</style>\n",
       "<table border=\"1\" class=\"dataframe\">\n",
       "  <thead>\n",
       "    <tr style=\"text-align: right;\">\n",
       "      <th></th>\n",
       "      <th>Product</th>\n",
       "      <th>Rating</th>\n",
       "      <th>MRP</th>\n",
       "      <th>Feature</th>\n",
       "      <th>processor_company</th>\n",
       "    </tr>\n",
       "  </thead>\n",
       "  <tbody>\n",
       "    <tr>\n",
       "      <th>53</th>\n",
       "      <td>realme Book(Slim) Intel Evo Core i5 11th Gen -...</td>\n",
       "      <td>4.4</td>\n",
       "      <td>₹59,990</td>\n",
       "      <td>Powered by 11th Gen Intel Evo Core i5 Processo...</td>\n",
       "      <td>Powered</td>\n",
       "    </tr>\n",
       "    <tr>\n",
       "      <th>116</th>\n",
       "      <td>realme Book(Slim) Intel Evo Core i5 11th Gen -...</td>\n",
       "      <td>4.4</td>\n",
       "      <td>₹59,990</td>\n",
       "      <td>Powered by 11th Gen Intel Evo Core i5 Processo...</td>\n",
       "      <td>Powered</td>\n",
       "    </tr>\n",
       "  </tbody>\n",
       "</table>\n",
       "</div>"
      ],
      "text/plain": [
       "                                               Product  Rating      MRP  \\\n",
       "53   realme Book(Slim) Intel Evo Core i5 11th Gen -...     4.4  ₹59,990   \n",
       "116  realme Book(Slim) Intel Evo Core i5 11th Gen -...     4.4  ₹59,990   \n",
       "\n",
       "                                               Feature processor_company  \n",
       "53   Powered by 11th Gen Intel Evo Core i5 Processo...           Powered  \n",
       "116  Powered by 11th Gen Intel Evo Core i5 Processo...           Powered  "
      ]
     },
     "execution_count": 19,
     "metadata": {},
     "output_type": "execute_result"
    }
   ],
   "source": [
    "df[df['processor_company']==\"Powered\"]"
   ]
  },
  {
   "cell_type": "code",
   "execution_count": 20,
   "metadata": {
    "id": "mTFs_1CDL3Bg"
   },
   "outputs": [],
   "source": [
    "df['processor_company'][[53,116]]=\"Intel\""
   ]
  },
  {
   "cell_type": "code",
   "execution_count": 21,
   "metadata": {
    "colab": {
     "base_uri": "https://localhost:8080/",
     "height": 225
    },
    "id": "ju0AU6HFMH98",
    "outputId": "71a9c4ed-1970-4178-f916-4a0747e9da9c"
   },
   "outputs": [
    {
     "data": {
      "text/html": [
       "<div>\n",
       "<style scoped>\n",
       "    .dataframe tbody tr th:only-of-type {\n",
       "        vertical-align: middle;\n",
       "    }\n",
       "\n",
       "    .dataframe tbody tr th {\n",
       "        vertical-align: top;\n",
       "    }\n",
       "\n",
       "    .dataframe thead th {\n",
       "        text-align: right;\n",
       "    }\n",
       "</style>\n",
       "<table border=\"1\" class=\"dataframe\">\n",
       "  <thead>\n",
       "    <tr style=\"text-align: right;\">\n",
       "      <th></th>\n",
       "      <th>Product</th>\n",
       "      <th>Rating</th>\n",
       "      <th>MRP</th>\n",
       "      <th>Feature</th>\n",
       "      <th>processor_company</th>\n",
       "    </tr>\n",
       "  </thead>\n",
       "  <tbody>\n",
       "    <tr>\n",
       "      <th>508</th>\n",
       "      <td>MSI GF63 Thin Core i5 9th Gen - (8 GB/1 TB HDD...</td>\n",
       "      <td>4.2</td>\n",
       "      <td>₹62,190</td>\n",
       "      <td>15.6 inches Full HD IPS Thin Bezel Display (60...</td>\n",
       "      <td>15</td>\n",
       "    </tr>\n",
       "    <tr>\n",
       "      <th>622</th>\n",
       "      <td>MSI GP65 Leopard Core i7 10th Gen - (16 GB/1 T...</td>\n",
       "      <td>4.5</td>\n",
       "      <td>₹99,990</td>\n",
       "      <td>15.6 inches Full HD IPS Thin Bezel Display (14...</td>\n",
       "      <td>15</td>\n",
       "    </tr>\n",
       "  </tbody>\n",
       "</table>\n",
       "</div>"
      ],
      "text/plain": [
       "                                               Product  Rating      MRP  \\\n",
       "508  MSI GF63 Thin Core i5 9th Gen - (8 GB/1 TB HDD...     4.2  ₹62,190   \n",
       "622  MSI GP65 Leopard Core i7 10th Gen - (16 GB/1 T...     4.5  ₹99,990   \n",
       "\n",
       "                                               Feature processor_company  \n",
       "508  15.6 inches Full HD IPS Thin Bezel Display (60...                15  \n",
       "622  15.6 inches Full HD IPS Thin Bezel Display (14...                15  "
      ]
     },
     "execution_count": 21,
     "metadata": {},
     "output_type": "execute_result"
    }
   ],
   "source": [
    "df[df['processor_company']==\"15\"]"
   ]
  },
  {
   "cell_type": "code",
   "execution_count": 22,
   "metadata": {
    "id": "MdgjO1LtMPsx"
   },
   "outputs": [],
   "source": [
    "df['processor_company'][[508,622]]=\"Intel\""
   ]
  },
  {
   "cell_type": "code",
   "execution_count": 23,
   "metadata": {
    "colab": {
     "base_uri": "https://localhost:8080/",
     "height": 159
    },
    "id": "Elk2gmn_MU7l",
    "outputId": "aef0dba2-12ba-456d-d7b2-5ce944ce1787"
   },
   "outputs": [
    {
     "data": {
      "text/html": [
       "<div>\n",
       "<style scoped>\n",
       "    .dataframe tbody tr th:only-of-type {\n",
       "        vertical-align: middle;\n",
       "    }\n",
       "\n",
       "    .dataframe tbody tr th {\n",
       "        vertical-align: top;\n",
       "    }\n",
       "\n",
       "    .dataframe thead th {\n",
       "        text-align: right;\n",
       "    }\n",
       "</style>\n",
       "<table border=\"1\" class=\"dataframe\">\n",
       "  <thead>\n",
       "    <tr style=\"text-align: right;\">\n",
       "      <th></th>\n",
       "      <th>Product</th>\n",
       "      <th>Rating</th>\n",
       "      <th>MRP</th>\n",
       "      <th>Feature</th>\n",
       "      <th>processor_company</th>\n",
       "    </tr>\n",
       "  </thead>\n",
       "  <tbody>\n",
       "    <tr>\n",
       "      <th>83</th>\n",
       "      <td>SAMSUNG Galaxy Book Go Snapdragon 7c Gen 2 - (...</td>\n",
       "      <td>4.4</td>\n",
       "      <td>₹32,990</td>\n",
       "      <td>Qualcomm Snapdragon 7c Gen 2 Processor4 GB LPD...</td>\n",
       "      <td>Qualcomm</td>\n",
       "    </tr>\n",
       "  </tbody>\n",
       "</table>\n",
       "</div>"
      ],
      "text/plain": [
       "                                              Product  Rating      MRP  \\\n",
       "83  SAMSUNG Galaxy Book Go Snapdragon 7c Gen 2 - (...     4.4  ₹32,990   \n",
       "\n",
       "                                              Feature processor_company  \n",
       "83  Qualcomm Snapdragon 7c Gen 2 Processor4 GB LPD...          Qualcomm  "
      ]
     },
     "execution_count": 23,
     "metadata": {},
     "output_type": "execute_result"
    }
   ],
   "source": [
    "df[df['processor_company']==\"Qualcomm\"]"
   ]
  },
  {
   "cell_type": "code",
   "execution_count": 24,
   "metadata": {
    "colab": {
     "base_uri": "https://localhost:8080/",
     "height": 159
    },
    "id": "lX_1s3XHMcTu",
    "outputId": "8949b3ae-5156-4f13-c3a5-d4a6dc435fe0"
   },
   "outputs": [
    {
     "data": {
      "text/html": [
       "<div>\n",
       "<style scoped>\n",
       "    .dataframe tbody tr th:only-of-type {\n",
       "        vertical-align: middle;\n",
       "    }\n",
       "\n",
       "    .dataframe tbody tr th {\n",
       "        vertical-align: top;\n",
       "    }\n",
       "\n",
       "    .dataframe thead th {\n",
       "        text-align: right;\n",
       "    }\n",
       "</style>\n",
       "<table border=\"1\" class=\"dataframe\">\n",
       "  <thead>\n",
       "    <tr style=\"text-align: right;\">\n",
       "      <th></th>\n",
       "      <th>Product</th>\n",
       "      <th>Rating</th>\n",
       "      <th>MRP</th>\n",
       "      <th>Feature</th>\n",
       "      <th>processor_company</th>\n",
       "    </tr>\n",
       "  </thead>\n",
       "  <tbody>\n",
       "    <tr>\n",
       "      <th>643</th>\n",
       "      <td>ASUS ZenBook Pro 15 Core i7 8th Gen - (16 GB/1...</td>\n",
       "      <td>4.8</td>\n",
       "      <td>₹1,10,990</td>\n",
       "      <td>First Ever ScreenpadNVIDIA GeForce GTX 1050 Ti...</td>\n",
       "      <td>First</td>\n",
       "    </tr>\n",
       "  </tbody>\n",
       "</table>\n",
       "</div>"
      ],
      "text/plain": [
       "                                               Product  Rating        MRP  \\\n",
       "643  ASUS ZenBook Pro 15 Core i7 8th Gen - (16 GB/1...     4.8  ₹1,10,990   \n",
       "\n",
       "                                               Feature processor_company  \n",
       "643  First Ever ScreenpadNVIDIA GeForce GTX 1050 Ti...             First  "
      ]
     },
     "execution_count": 24,
     "metadata": {},
     "output_type": "execute_result"
    }
   ],
   "source": [
    "df[df['processor_company']==\"First\"]"
   ]
  },
  {
   "cell_type": "code",
   "execution_count": 25,
   "metadata": {
    "id": "WKkS-MDNM0Nq"
   },
   "outputs": [],
   "source": [
    "df['processor_company'][[643]]=\"Intel\""
   ]
  },
  {
   "cell_type": "code",
   "execution_count": 26,
   "metadata": {
    "colab": {
     "base_uri": "https://localhost:8080/"
    },
    "id": "wzHTYMfQM46t",
    "outputId": "1989f1bb-f515-4aaf-a1a3-4b98e8ca9fe0"
   },
   "outputs": [
    {
     "data": {
      "text/plain": [
       "Intel       390\n",
       "AMD         310\n",
       "Apple        19\n",
       "Qualcomm      1\n",
       "Name: processor_company, dtype: int64"
      ]
     },
     "execution_count": 26,
     "metadata": {},
     "output_type": "execute_result"
    }
   ],
   "source": [
    "df.processor_company.value_counts()"
   ]
  },
  {
   "cell_type": "code",
   "execution_count": 27,
   "metadata": {
    "colab": {
     "base_uri": "https://localhost:8080/",
     "height": 70
    },
    "id": "93alqgrCOnYX",
    "outputId": "94402a5f-0cee-477d-cf6d-d5d437566cdb"
   },
   "outputs": [
    {
     "data": {
      "text/plain": [
       "'Intel Core i3 Processor (11th Gen)8 GB DDR4 RAM64 bit Windows 11 Operating System256 GB SSD35.56 cm (14 inch) DisplayOffice Home and Student 20212 Year Onsite�Warranty'"
      ]
     },
     "execution_count": 27,
     "metadata": {},
     "output_type": "execute_result"
    }
   ],
   "source": [
    "df['Feature'][0]"
   ]
  },
  {
   "cell_type": "code",
   "execution_count": 28,
   "metadata": {
    "id": "YeAGUZJQNEVw"
   },
   "outputs": [],
   "source": [
    "test=re.compile('[0-9]\\sGB\\s[A-Za-z0-9]+').search(df['Feature'][0]).group()"
   ]
  },
  {
   "cell_type": "code",
   "execution_count": 29,
   "metadata": {
    "colab": {
     "base_uri": "https://localhost:8080/",
     "height": 35
    },
    "id": "zNbqGvrQO36Y",
    "outputId": "da76351b-0bd6-4c1a-8344-32d2f62718fb"
   },
   "outputs": [
    {
     "data": {
      "text/plain": [
       "'8 GB DDR4'"
      ]
     },
     "execution_count": 29,
     "metadata": {},
     "output_type": "execute_result"
    }
   ],
   "source": [
    "test"
   ]
  },
  {
   "cell_type": "code",
   "execution_count": 30,
   "metadata": {
    "id": "UsHQqtKvO5Bk"
   },
   "outputs": [],
   "source": [
    "df['Ram']=df['Feature'].apply(lambda x:re.compile('[0-9]\\sGB\\s[A-Za-z0-9]+').search(x).group())"
   ]
  },
  {
   "cell_type": "code",
   "execution_count": 31,
   "metadata": {
    "id": "R_NexZlS87Qz"
   },
   "outputs": [],
   "source": [
    "df['Ram_1']=df['Product'].apply(lambda x:re.compile('[(0-9]{2} GB').search(x).group().replace('(',\"\").replace(\"GB\",\"\").replace(\" \",\"\"))"
   ]
  },
  {
   "cell_type": "code",
   "execution_count": 32,
   "metadata": {
    "colab": {
     "base_uri": "https://localhost:8080/"
    },
    "id": "E-eF-C-8mV_S",
    "outputId": "4d17596b-a206-4aa0-d7ec-369c1b22300c"
   },
   "outputs": [
    {
     "data": {
      "text/plain": [
       "8     403\n",
       "16    263\n",
       "4      37\n",
       "32     17\n",
       "Name: Ram_1, dtype: int64"
      ]
     },
     "execution_count": 32,
     "metadata": {},
     "output_type": "execute_result"
    }
   ],
   "source": [
    "df['Ram_1'].value_counts()"
   ]
  },
  {
   "cell_type": "code",
   "execution_count": 33,
   "metadata": {
    "colab": {
     "base_uri": "https://localhost:8080/"
    },
    "id": "3xige5qDmivD",
    "outputId": "15cddd03-e42b-4d29-fbc2-d860114a8e86"
   },
   "outputs": [
    {
     "data": {
      "text/plain": [
       "0        8 GB DDR4\n",
       "1        8 GB DDR4\n",
       "2        8 GB DDR4\n",
       "3        8 GB DDR4\n",
       "4        8 GB DDR4\n",
       "          ...     \n",
       "715    4 GB LPDDR4\n",
       "716      8 GB DDR4\n",
       "717      6 GB DDR5\n",
       "718    6 GB LPDDR5\n",
       "719      8 GB DDR4\n",
       "Name: Ram, Length: 720, dtype: object"
      ]
     },
     "execution_count": 33,
     "metadata": {},
     "output_type": "execute_result"
    }
   ],
   "source": [
    "df.Ram"
   ]
  },
  {
   "cell_type": "code",
   "execution_count": 34,
   "metadata": {
    "colab": {
     "base_uri": "https://localhost:8080/"
    },
    "id": "Woj3lEMNPznz",
    "outputId": "350e7b36-5939-4c81-e391-7255b75212d8"
   },
   "outputs": [
    {
     "data": {
      "text/plain": [
       "Product                0\n",
       "Rating               139\n",
       "MRP                    0\n",
       "Feature                0\n",
       "processor_company      0\n",
       "Ram                    0\n",
       "Ram_1                  0\n",
       "dtype: int64"
      ]
     },
     "execution_count": 34,
     "metadata": {},
     "output_type": "execute_result"
    }
   ],
   "source": [
    "\n",
    "df.isnull().sum()"
   ]
  },
  {
   "cell_type": "code",
   "execution_count": 35,
   "metadata": {
    "colab": {
     "base_uri": "https://localhost:8080/",
     "height": 35
    },
    "id": "Ncd3une3P12D",
    "outputId": "c5916df4-3fbc-46be-c3b3-c4ca65bcf233"
   },
   "outputs": [
    {
     "data": {
      "text/plain": [
       "'DDR4'"
      ]
     },
     "execution_count": 35,
     "metadata": {},
     "output_type": "execute_result"
    }
   ],
   "source": [
    "df['Ram'][0].split(\" \")[-1]"
   ]
  },
  {
   "cell_type": "code",
   "execution_count": 36,
   "metadata": {
    "id": "0ECtn8CVS3IQ"
   },
   "outputs": [],
   "source": [
    "df[\"Ram_type\"]=df[\"Ram\"].apply(lambda x:x.split(\" \")[-1])"
   ]
  },
  {
   "cell_type": "code",
   "execution_count": 37,
   "metadata": {
    "id": "MRBeFtoOTT--"
   },
   "outputs": [],
   "source": [
    "df[\"Ram\"]=df[\"Ram\"].apply(lambda x:x.replace(\"GB\",\"\"))"
   ]
  },
  {
   "cell_type": "code",
   "execution_count": 38,
   "metadata": {
    "id": "D_FjrpPLT1oT"
   },
   "outputs": [],
   "source": [
    "df[\"Ram\"]=df[\"Ram\"].apply(lambda x:re.compile(\"[0-9]\").search(x).group())"
   ]
  },
  {
   "cell_type": "code",
   "execution_count": 39,
   "metadata": {
    "id": "z49j2yn3Q0cj"
   },
   "outputs": [],
   "source": [
    "df['Processor'] = df['Feature'].apply(lambda x:re.compile('[\\sA-Za-z0-9]+Processor').search(x).group())"
   ]
  },
  {
   "cell_type": "code",
   "execution_count": 40,
   "metadata": {
    "colab": {
     "base_uri": "https://localhost:8080/",
     "height": 1000
    },
    "id": "IgmEA6GHSEEZ",
    "outputId": "76b70d91-06bc-49d2-dce6-e6de4df25e7e"
   },
   "outputs": [
    {
     "data": {
      "text/html": [
       "<div>\n",
       "<style scoped>\n",
       "    .dataframe tbody tr th:only-of-type {\n",
       "        vertical-align: middle;\n",
       "    }\n",
       "\n",
       "    .dataframe tbody tr th {\n",
       "        vertical-align: top;\n",
       "    }\n",
       "\n",
       "    .dataframe thead th {\n",
       "        text-align: right;\n",
       "    }\n",
       "</style>\n",
       "<table border=\"1\" class=\"dataframe\">\n",
       "  <thead>\n",
       "    <tr style=\"text-align: right;\">\n",
       "      <th></th>\n",
       "      <th>Product</th>\n",
       "      <th>Rating</th>\n",
       "      <th>MRP</th>\n",
       "      <th>Feature</th>\n",
       "      <th>processor_company</th>\n",
       "      <th>Ram</th>\n",
       "      <th>Ram_1</th>\n",
       "      <th>Ram_type</th>\n",
       "      <th>Processor</th>\n",
       "    </tr>\n",
       "  </thead>\n",
       "  <tbody>\n",
       "    <tr>\n",
       "      <th>0</th>\n",
       "      <td>Lenovo IdeaPad 3 Core i3 11th Gen - (8 GB/256 ...</td>\n",
       "      <td>4.2</td>\n",
       "      <td>₹36,990</td>\n",
       "      <td>Intel Core i3 Processor (11th Gen)8 GB DDR4 RA...</td>\n",
       "      <td>Intel</td>\n",
       "      <td>8</td>\n",
       "      <td>8</td>\n",
       "      <td>DDR4</td>\n",
       "      <td>Intel Core i3 Processor</td>\n",
       "    </tr>\n",
       "    <tr>\n",
       "      <th>1</th>\n",
       "      <td>Lenovo IdeaPad 3 Core i3 11th Gen - (8 GB/512 ...</td>\n",
       "      <td>4.2</td>\n",
       "      <td>₹39,990</td>\n",
       "      <td>Intel Core i3 Processor (11th Gen)8 GB DDR4 RA...</td>\n",
       "      <td>Intel</td>\n",
       "      <td>8</td>\n",
       "      <td>8</td>\n",
       "      <td>DDR4</td>\n",
       "      <td>Intel Core i3 Processor</td>\n",
       "    </tr>\n",
       "    <tr>\n",
       "      <th>2</th>\n",
       "      <td>ASUS VivoBook 15 (2022) Core i3 10th Gen - (8 ...</td>\n",
       "      <td>4.3</td>\n",
       "      <td>₹32,990</td>\n",
       "      <td>Intel Core i3 Processor (10th Gen)8 GB DDR4 RA...</td>\n",
       "      <td>Intel</td>\n",
       "      <td>8</td>\n",
       "      <td>8</td>\n",
       "      <td>DDR4</td>\n",
       "      <td>Intel Core i3 Processor</td>\n",
       "    </tr>\n",
       "    <tr>\n",
       "      <th>3</th>\n",
       "      <td>HP Pavilion Ryzen 5 Hexa Core AMD R5-5600H - (...</td>\n",
       "      <td>4.4</td>\n",
       "      <td>₹49,990</td>\n",
       "      <td>AMD Ryzen 5 Hexa Core Processor8 GB DDR4 RAM64...</td>\n",
       "      <td>AMD</td>\n",
       "      <td>8</td>\n",
       "      <td>8</td>\n",
       "      <td>DDR4</td>\n",
       "      <td>AMD Ryzen 5 Hexa Core Processor</td>\n",
       "    </tr>\n",
       "    <tr>\n",
       "      <th>4</th>\n",
       "      <td>ASUS TUF Gaming F15 Core i5 10th Gen - (8 GB/5...</td>\n",
       "      <td>4.4</td>\n",
       "      <td>₹49,990</td>\n",
       "      <td>Intel Core i5 Processor (10th Gen)8 GB DDR4 RA...</td>\n",
       "      <td>Intel</td>\n",
       "      <td>8</td>\n",
       "      <td>8</td>\n",
       "      <td>DDR4</td>\n",
       "      <td>Intel Core i5 Processor</td>\n",
       "    </tr>\n",
       "    <tr>\n",
       "      <th>...</th>\n",
       "      <td>...</td>\n",
       "      <td>...</td>\n",
       "      <td>...</td>\n",
       "      <td>...</td>\n",
       "      <td>...</td>\n",
       "      <td>...</td>\n",
       "      <td>...</td>\n",
       "      <td>...</td>\n",
       "      <td>...</td>\n",
       "    </tr>\n",
       "    <tr>\n",
       "      <th>715</th>\n",
       "      <td>ASUS Chromebook Flip Touch Celeron Dual Core -...</td>\n",
       "      <td>4.0</td>\n",
       "      <td>₹23,490</td>\n",
       "      <td>Intel Celeron Dual Core Processor4 GB LPDDR4 R...</td>\n",
       "      <td>Intel</td>\n",
       "      <td>4</td>\n",
       "      <td>4</td>\n",
       "      <td>LPDDR4</td>\n",
       "      <td>Intel Celeron Dual Core Processor</td>\n",
       "    </tr>\n",
       "    <tr>\n",
       "      <th>716</th>\n",
       "      <td>Lenovo IdeaPad Gaming 3 Ryzen 7 Octa Core AMD ...</td>\n",
       "      <td>4.5</td>\n",
       "      <td>₹73,490</td>\n",
       "      <td>AMD Ryzen 7 Octa Core Processor8 GB DDR4 RAM64...</td>\n",
       "      <td>AMD</td>\n",
       "      <td>8</td>\n",
       "      <td>8</td>\n",
       "      <td>DDR4</td>\n",
       "      <td>AMD Ryzen 7 Octa Core Processor</td>\n",
       "    </tr>\n",
       "    <tr>\n",
       "      <th>717</th>\n",
       "      <td>ASUS ROG Zephyrus G15 Ryzen 9 Octa Core 6900HS...</td>\n",
       "      <td>NaN</td>\n",
       "      <td>₹1,94,990</td>\n",
       "      <td>AMD Ryzen 9 Octa Core Processor16 GB DDR5 RAM6...</td>\n",
       "      <td>AMD</td>\n",
       "      <td>6</td>\n",
       "      <td>16</td>\n",
       "      <td>DDR5</td>\n",
       "      <td>AMD Ryzen 9 Octa Core Processor</td>\n",
       "    </tr>\n",
       "    <tr>\n",
       "      <th>718</th>\n",
       "      <td>ASUS Zenbook Flip 14 OLED (2022) Touch Panel C...</td>\n",
       "      <td>3.0</td>\n",
       "      <td>₹1,25,990</td>\n",
       "      <td>Intel Core i7 Processor (12th Gen)16 GB LPDDR5...</td>\n",
       "      <td>Intel</td>\n",
       "      <td>6</td>\n",
       "      <td>16</td>\n",
       "      <td>LPDDR5</td>\n",
       "      <td>Intel Core i7 Processor</td>\n",
       "    </tr>\n",
       "    <tr>\n",
       "      <th>719</th>\n",
       "      <td>Lenovo Ideapad Slim 3i Core i5 10th Gen - (8 G...</td>\n",
       "      <td>4.2</td>\n",
       "      <td>₹50,990</td>\n",
       "      <td>Intel Core i5 Processor (10th Gen)8 GB DDR4 RA...</td>\n",
       "      <td>Intel</td>\n",
       "      <td>8</td>\n",
       "      <td>8</td>\n",
       "      <td>DDR4</td>\n",
       "      <td>Intel Core i5 Processor</td>\n",
       "    </tr>\n",
       "  </tbody>\n",
       "</table>\n",
       "<p>720 rows × 9 columns</p>\n",
       "</div>"
      ],
      "text/plain": [
       "                                               Product  Rating        MRP  \\\n",
       "0    Lenovo IdeaPad 3 Core i3 11th Gen - (8 GB/256 ...     4.2    ₹36,990   \n",
       "1    Lenovo IdeaPad 3 Core i3 11th Gen - (8 GB/512 ...     4.2    ₹39,990   \n",
       "2    ASUS VivoBook 15 (2022) Core i3 10th Gen - (8 ...     4.3    ₹32,990   \n",
       "3    HP Pavilion Ryzen 5 Hexa Core AMD R5-5600H - (...     4.4    ₹49,990   \n",
       "4    ASUS TUF Gaming F15 Core i5 10th Gen - (8 GB/5...     4.4    ₹49,990   \n",
       "..                                                 ...     ...        ...   \n",
       "715  ASUS Chromebook Flip Touch Celeron Dual Core -...     4.0    ₹23,490   \n",
       "716  Lenovo IdeaPad Gaming 3 Ryzen 7 Octa Core AMD ...     4.5    ₹73,490   \n",
       "717  ASUS ROG Zephyrus G15 Ryzen 9 Octa Core 6900HS...     NaN  ₹1,94,990   \n",
       "718  ASUS Zenbook Flip 14 OLED (2022) Touch Panel C...     3.0  ₹1,25,990   \n",
       "719  Lenovo Ideapad Slim 3i Core i5 10th Gen - (8 G...     4.2    ₹50,990   \n",
       "\n",
       "                                               Feature processor_company Ram  \\\n",
       "0    Intel Core i3 Processor (11th Gen)8 GB DDR4 RA...             Intel   8   \n",
       "1    Intel Core i3 Processor (11th Gen)8 GB DDR4 RA...             Intel   8   \n",
       "2    Intel Core i3 Processor (10th Gen)8 GB DDR4 RA...             Intel   8   \n",
       "3    AMD Ryzen 5 Hexa Core Processor8 GB DDR4 RAM64...               AMD   8   \n",
       "4    Intel Core i5 Processor (10th Gen)8 GB DDR4 RA...             Intel   8   \n",
       "..                                                 ...               ...  ..   \n",
       "715  Intel Celeron Dual Core Processor4 GB LPDDR4 R...             Intel   4   \n",
       "716  AMD Ryzen 7 Octa Core Processor8 GB DDR4 RAM64...               AMD   8   \n",
       "717  AMD Ryzen 9 Octa Core Processor16 GB DDR5 RAM6...               AMD   6   \n",
       "718  Intel Core i7 Processor (12th Gen)16 GB LPDDR5...             Intel   6   \n",
       "719  Intel Core i5 Processor (10th Gen)8 GB DDR4 RA...             Intel   8   \n",
       "\n",
       "    Ram_1 Ram_type                          Processor  \n",
       "0       8     DDR4            Intel Core i3 Processor  \n",
       "1       8     DDR4            Intel Core i3 Processor  \n",
       "2       8     DDR4            Intel Core i3 Processor  \n",
       "3       8     DDR4    AMD Ryzen 5 Hexa Core Processor  \n",
       "4       8     DDR4            Intel Core i5 Processor  \n",
       "..    ...      ...                                ...  \n",
       "715     4   LPDDR4  Intel Celeron Dual Core Processor  \n",
       "716     8     DDR4    AMD Ryzen 7 Octa Core Processor  \n",
       "717    16     DDR5    AMD Ryzen 9 Octa Core Processor  \n",
       "718    16   LPDDR5            Intel Core i7 Processor  \n",
       "719     8     DDR4            Intel Core i5 Processor  \n",
       "\n",
       "[720 rows x 9 columns]"
      ]
     },
     "execution_count": 40,
     "metadata": {},
     "output_type": "execute_result"
    }
   ],
   "source": [
    "df"
   ]
  },
  {
   "cell_type": "code",
   "execution_count": 41,
   "metadata": {
    "colab": {
     "base_uri": "https://localhost:8080/"
    },
    "id": "CGiz9X_2SE7K",
    "outputId": "b34214e3-4b53-4c8b-bd7c-c5369ca48695"
   },
   "outputs": [
    {
     "data": {
      "text/plain": [
       "Intel Core i5 Processor                                                                                                                                                                                                                                                                                                             151\n",
       "Intel Core i3 Processor                                                                                                                                                                                                                                                                                                             129\n",
       "AMD Ryzen 9 Octa Core Processor                                                                                                                                                                                                                                                                                                      87\n",
       "AMD Ryzen 7 Octa Core Processor                                                                                                                                                                                                                                                                                                      79\n",
       "Intel Core i7 Processor                                                                                                                                                                                                                                                                                                              50\n",
       "AMD Ryzen 5 Hexa Core Processor                                                                                                                                                                                                                                                                                                      48\n",
       "AMD Ryzen 3 Dual Core Processor                                                                                                                                                                                                                                                                                                      42\n",
       "AMD Ryzen 5 Quad Core Processor                                                                                                                                                                                                                                                                                                      37\n",
       "Intel Celeron Dual Core Processor                                                                                                                                                                                                                                                                                                    20\n",
       "Intel Core i9 Processor                                                                                                                                                                                                                                                                                                              10\n",
       "Apple M1 Processor                                                                                                                                                                                                                                                                                                                    7\n",
       "Apple M1 Pro Processor                                                                                                                                                                                                                                                                                                                6\n",
       "Apple M2 Processor                                                                                                                                                                                                                                                                                                                    5\n",
       "AMD Ryzen 3 Quad Core Processor                                                                                                                                                                                                                                                                                                       4\n",
       "Intel Celeron Quad Core Processor                                                                                                                                                                                                                                                                                                     3\n",
       "Intel Pentium Quad Core Processor                                                                                                                                                                                                                                                                                                     3\n",
       "installed Genuine Windows 10 Home OSIntel Core i7 Processor                                                                                                                                                                                                                                                                           2\n",
       "Intel Pentium Silver Processor                                                                                                                                                                                                                                                                                                        2\n",
       "built Alienware Command center software with enhanced control over system settingsIntel Core i7 Processor                                                                                                                                                                                                                             2\n",
       "Powered by 11th Gen Intel Evo Core i5 Processor                                                                                                                                                                                                                                                                                       2\n",
       "AMD Athlon Dual Core Processor                                                                                                                                                                                                                                                                                                        2\n",
       "Free upgrade to Windows 11 when availableAMD Ryzen 5 Hexa Core Processor                                                                                                                                                                                                                                                              2\n",
       "Finger Print Sensor for Faster System AccessLight Laptop without Optical Disk DriveIntel Core i3 Processor                                                                                                                                                                                                                            2\n",
       "Free upgrade to Windows 11 when availableIntel Core i5 Processor                                                                                                                                                                                                                                                                      2\n",
       "Intel OptaneIntel Core i3 Processor                                                                                                                                                                                                                                                                                                   2\n",
       " and BluetoothAMD Ryzen 5 Hexa Core Processor                                                                                                                                                                                                                                                                                         1\n",
       "1005G1 Processor                                                                                                                                                                                                                                                                                                                      1\n",
       "Alienware Command CenterAMD Ryzen 5 Hexa Core Processor                                                                                                                                                                                                                                                                               1\n",
       "NVIDIA Geforce GTX 1050 Ti for Desktop Level PerformanceOptimized Dolby Audio Premium Sound Enhancement128 GB SSD Capacity for Reduced Boot Up Time and in Game LoadingDual Fan Cooling with Metal AeroBlade for Interuption Free GamingFineTip Backlit Keyboard with Independent Standard Numeric KeypadIntel Core i5 Processor      1\n",
       "First Ever ScreenpadNVIDIA GeForce GTX 1050 TiIntel Core i7 Processor                                                                                                                                                                                                                                                                 1\n",
       "built Alienware Command center software with enhanced control over system settingsIntel Core i9 Processor                                                                                                                                                                                                                             1\n",
       "AMD Ryzen 3 Hexa Core Processor                                                                                                                                                                                                                                                                                                       1\n",
       "micIntel Core i7 Processor                                                                                                                                                                                                                                                                                                            1\n",
       "AMD Dual Core Processor                                                                                                                                                                                                                                                                                                               1\n",
       "Dual Fan Cooling with Metal AeroBlade 3D128 GB SSD for Reduced Boot Up Time and in Game LoadingUpgradable SSD Upto 512 GB and RAM Upto 32 GBNVIDIA Geforce GTX 1050Ti for Desktop Level PerformanceIntel Core i5 Processor                                                                                                            1\n",
       "Alienware Command CenterIntel Core i5 Processor                                                                                                                                                                                                                                                                                       1\n",
       "1135G7 Processor                                                                                                                                                                                                                                                                                                                      1\n",
       "AMD Ryzen 5 Dual Core Processor                                                                                                                                                                                                                                                                                                       1\n",
       "11ac 1x1 WiFi and BluetoothAMD Ryzen 5 Dual Core Processor                                                                                                                                                                                                                                                                            1\n",
       "1Intel Core i3 Processor                                                                                                                                                                                                                                                                                                              1\n",
       "AMD Ryzen 7 Quad Core Processor                                                                                                                                                                                                                                                                                                       1\n",
       "Apple M1 Max Processor                                                                                                                                                                                                                                                                                                                1\n",
       "11ac 1x1 WiFi and BluetoothAMD Ryzen 3 Dual Core Processor                                                                                                                                                                                                                                                                            1\n",
       "Alienware Command CenterAMD Ryzen 7 Octa Core Processor                                                                                                                                                                                                                                                                               1\n",
       "Qualcomm Snapdragon 7c Gen 2 Processor                                                                                                                                                                                                                                                                                                1\n",
       "11ac 1x1 WiFi and BluetoothIntel Pentium Silver Processor                                                                                                                                                                                                                                                                             1\n",
       "Name: Processor, dtype: int64"
      ]
     },
     "execution_count": 41,
     "metadata": {},
     "output_type": "execute_result"
    }
   ],
   "source": [
    "df.Processor.value_counts()"
   ]
  },
  {
   "cell_type": "code",
   "execution_count": 42,
   "metadata": {
    "id": "Pm0YFPEZUbKy"
   },
   "outputs": [],
   "source": [
    "ind=df[df['Processor']==\"Intel Core i3 Processor\"].index.values"
   ]
  },
  {
   "cell_type": "code",
   "execution_count": 43,
   "metadata": {
    "id": "hmbY96PtUzWv"
   },
   "outputs": [],
   "source": [
    "for i in ind:\n",
    "  df['Processor'][i]=\"i3\""
   ]
  },
  {
   "cell_type": "code",
   "execution_count": 44,
   "metadata": {
    "colab": {
     "base_uri": "https://localhost:8080/"
    },
    "id": "68givybRWQQz",
    "outputId": "48ea167b-e5a4-474d-8802-dbe87b306bf3"
   },
   "outputs": [
    {
     "data": {
      "text/plain": [
       "Intel Core i5 Processor                                                                                                                                                                                                                                                                                                             151\n",
       "i3                                                                                                                                                                                                                                                                                                                                  129\n",
       "AMD Ryzen 9 Octa Core Processor                                                                                                                                                                                                                                                                                                      87\n",
       "AMD Ryzen 7 Octa Core Processor                                                                                                                                                                                                                                                                                                      79\n",
       "Intel Core i7 Processor                                                                                                                                                                                                                                                                                                              50\n",
       "AMD Ryzen 5 Hexa Core Processor                                                                                                                                                                                                                                                                                                      48\n",
       "AMD Ryzen 3 Dual Core Processor                                                                                                                                                                                                                                                                                                      42\n",
       "AMD Ryzen 5 Quad Core Processor                                                                                                                                                                                                                                                                                                      37\n",
       "Intel Celeron Dual Core Processor                                                                                                                                                                                                                                                                                                    20\n",
       "Intel Core i9 Processor                                                                                                                                                                                                                                                                                                              10\n",
       "Apple M1 Processor                                                                                                                                                                                                                                                                                                                    7\n",
       "Apple M1 Pro Processor                                                                                                                                                                                                                                                                                                                6\n",
       "Apple M2 Processor                                                                                                                                                                                                                                                                                                                    5\n",
       "AMD Ryzen 3 Quad Core Processor                                                                                                                                                                                                                                                                                                       4\n",
       "Intel Celeron Quad Core Processor                                                                                                                                                                                                                                                                                                     3\n",
       "Intel Pentium Quad Core Processor                                                                                                                                                                                                                                                                                                     3\n",
       "installed Genuine Windows 10 Home OSIntel Core i7 Processor                                                                                                                                                                                                                                                                           2\n",
       "Intel Pentium Silver Processor                                                                                                                                                                                                                                                                                                        2\n",
       "built Alienware Command center software with enhanced control over system settingsIntel Core i7 Processor                                                                                                                                                                                                                             2\n",
       "Powered by 11th Gen Intel Evo Core i5 Processor                                                                                                                                                                                                                                                                                       2\n",
       "AMD Athlon Dual Core Processor                                                                                                                                                                                                                                                                                                        2\n",
       "Free upgrade to Windows 11 when availableAMD Ryzen 5 Hexa Core Processor                                                                                                                                                                                                                                                              2\n",
       "Finger Print Sensor for Faster System AccessLight Laptop without Optical Disk DriveIntel Core i3 Processor                                                                                                                                                                                                                            2\n",
       "Free upgrade to Windows 11 when availableIntel Core i5 Processor                                                                                                                                                                                                                                                                      2\n",
       "Intel OptaneIntel Core i3 Processor                                                                                                                                                                                                                                                                                                   2\n",
       " and BluetoothAMD Ryzen 5 Hexa Core Processor                                                                                                                                                                                                                                                                                         1\n",
       "1005G1 Processor                                                                                                                                                                                                                                                                                                                      1\n",
       "Alienware Command CenterAMD Ryzen 5 Hexa Core Processor                                                                                                                                                                                                                                                                               1\n",
       "NVIDIA Geforce GTX 1050 Ti for Desktop Level PerformanceOptimized Dolby Audio Premium Sound Enhancement128 GB SSD Capacity for Reduced Boot Up Time and in Game LoadingDual Fan Cooling with Metal AeroBlade for Interuption Free GamingFineTip Backlit Keyboard with Independent Standard Numeric KeypadIntel Core i5 Processor      1\n",
       "First Ever ScreenpadNVIDIA GeForce GTX 1050 TiIntel Core i7 Processor                                                                                                                                                                                                                                                                 1\n",
       "built Alienware Command center software with enhanced control over system settingsIntel Core i9 Processor                                                                                                                                                                                                                             1\n",
       "AMD Ryzen 3 Hexa Core Processor                                                                                                                                                                                                                                                                                                       1\n",
       "micIntel Core i7 Processor                                                                                                                                                                                                                                                                                                            1\n",
       "AMD Dual Core Processor                                                                                                                                                                                                                                                                                                               1\n",
       "Dual Fan Cooling with Metal AeroBlade 3D128 GB SSD for Reduced Boot Up Time and in Game LoadingUpgradable SSD Upto 512 GB and RAM Upto 32 GBNVIDIA Geforce GTX 1050Ti for Desktop Level PerformanceIntel Core i5 Processor                                                                                                            1\n",
       "Alienware Command CenterIntel Core i5 Processor                                                                                                                                                                                                                                                                                       1\n",
       "1135G7 Processor                                                                                                                                                                                                                                                                                                                      1\n",
       "AMD Ryzen 5 Dual Core Processor                                                                                                                                                                                                                                                                                                       1\n",
       "11ac 1x1 WiFi and BluetoothAMD Ryzen 5 Dual Core Processor                                                                                                                                                                                                                                                                            1\n",
       "1Intel Core i3 Processor                                                                                                                                                                                                                                                                                                              1\n",
       "AMD Ryzen 7 Quad Core Processor                                                                                                                                                                                                                                                                                                       1\n",
       "Apple M1 Max Processor                                                                                                                                                                                                                                                                                                                1\n",
       "11ac 1x1 WiFi and BluetoothAMD Ryzen 3 Dual Core Processor                                                                                                                                                                                                                                                                            1\n",
       "Alienware Command CenterAMD Ryzen 7 Octa Core Processor                                                                                                                                                                                                                                                                               1\n",
       "Qualcomm Snapdragon 7c Gen 2 Processor                                                                                                                                                                                                                                                                                                1\n",
       "11ac 1x1 WiFi and BluetoothIntel Pentium Silver Processor                                                                                                                                                                                                                                                                             1\n",
       "Name: Processor, dtype: int64"
      ]
     },
     "execution_count": 44,
     "metadata": {},
     "output_type": "execute_result"
    }
   ],
   "source": [
    "df.Processor.value_counts()"
   ]
  },
  {
   "cell_type": "code",
   "execution_count": 45,
   "metadata": {
    "id": "na3C8KFBWWxX"
   },
   "outputs": [],
   "source": [
    "for i in df[df['Processor']==\"Intel Core i5 Processor\"].index.values:\n",
    "    df['Processor'][i]=\"i5\""
   ]
  },
  {
   "cell_type": "code",
   "execution_count": 46,
   "metadata": {
    "id": "IcjSsf4EYcDu"
   },
   "outputs": [],
   "source": [
    "for i in df[df['Processor']==\"AMD Ryzen 9 Octa Core Processor\"].index.values:\n",
    "    df['Processor'][i]=\"r9\""
   ]
  },
  {
   "cell_type": "code",
   "execution_count": 47,
   "metadata": {
    "id": "9b_XGL7bZUJX"
   },
   "outputs": [],
   "source": [
    "for i in df[df['Processor']==\"AMD Ryzen 7 Octa Core Processor\"].index.values:\n",
    "    df['Processor'][i]=\"r7\""
   ]
  },
  {
   "cell_type": "code",
   "execution_count": 48,
   "metadata": {
    "id": "fqwIBUpIZkNf"
   },
   "outputs": [],
   "source": [
    "for i in df[df['Processor']==\"Intel Core i7 Processor\"].index.values:\n",
    "    df['Processor'][i]=\"i7\""
   ]
  },
  {
   "cell_type": "code",
   "execution_count": 49,
   "metadata": {
    "id": "gfhJVc2QZwLZ"
   },
   "outputs": [],
   "source": [
    "for i in df[df['Processor']==\"AMD Ryzen 5 Hexa Core Processor\"].index.values:\n",
    "    df['Processor'][i]=\"r5\""
   ]
  },
  {
   "cell_type": "code",
   "execution_count": 50,
   "metadata": {
    "id": "GH_PwU-TaNJy"
   },
   "outputs": [],
   "source": [
    "for i in df[df['Processor']==\"AMD Ryzen 3 Dual Core Processor\"].index.values:\n",
    "    df['Processor'][i]=\"r3\""
   ]
  },
  {
   "cell_type": "code",
   "execution_count": 51,
   "metadata": {
    "id": "n6dqpbeWa7B8"
   },
   "outputs": [],
   "source": [
    "for i in df[df['Processor']==\"AMD Ryzen 5 Quad Core Processor\"].index.values:\n",
    "    df['Processor'][i]=\"r5\""
   ]
  },
  {
   "cell_type": "code",
   "execution_count": 52,
   "metadata": {
    "id": "wgxOawXxbQEZ"
   },
   "outputs": [],
   "source": [
    "for i in df[df['Processor']==\"Intel Celeron Dual Core Processor\"].index.values:\n",
    "    df['Processor'][i]=\"Celeron\""
   ]
  },
  {
   "cell_type": "code",
   "execution_count": 53,
   "metadata": {
    "id": "0ZkEo2HTcSK5"
   },
   "outputs": [],
   "source": [
    "for i in df[df['Processor']==\"Intel Core i9 Processor\"].index.values:\n",
    "    df['Processor'][i]=\"i9\""
   ]
  },
  {
   "cell_type": "code",
   "execution_count": 54,
   "metadata": {
    "id": "4SQvu4EvdDBH"
   },
   "outputs": [],
   "source": [
    "for i in df[df['Processor']==\"Apple M1 Processor\"].index.values:\n",
    "    df['Processor'][i]=\"M1\""
   ]
  },
  {
   "cell_type": "code",
   "execution_count": 55,
   "metadata": {
    "id": "KdDz7Hw5dYkk"
   },
   "outputs": [],
   "source": [
    "for i in df[df['Processor']==\"Apple M1 Pro Processor\"].index.values:\n",
    "    df['Processor'][i]=\"M1P\""
   ]
  },
  {
   "cell_type": "code",
   "execution_count": 56,
   "metadata": {
    "id": "cm5Sz-vceFrx"
   },
   "outputs": [],
   "source": [
    "for i in df[df['Processor']==\"Apple M2 Processor\"].index.values:\n",
    "    df['Processor'][i]=\"M2\""
   ]
  },
  {
   "cell_type": "code",
   "execution_count": 57,
   "metadata": {
    "id": "b_i_ii9jeP2S"
   },
   "outputs": [],
   "source": [
    "for i in df[df['Processor']==\"AMD Ryzen 3 Quad Core Processor\"].index.values:\n",
    "    df['Processor'][i]=\"r3\""
   ]
  },
  {
   "cell_type": "code",
   "execution_count": 58,
   "metadata": {
    "colab": {
     "base_uri": "https://localhost:8080/"
    },
    "id": "RzmtTMDLeril",
    "outputId": "12fc1a81-3002-41bf-9aca-d087e3994f63"
   },
   "outputs": [
    {
     "data": {
      "text/plain": [
       "i5                                                                                                                                                                                                                                                                                                                                  151\n",
       "i3                                                                                                                                                                                                                                                                                                                                  129\n",
       "r9                                                                                                                                                                                                                                                                                                                                   87\n",
       "r5                                                                                                                                                                                                                                                                                                                                   85\n",
       "r7                                                                                                                                                                                                                                                                                                                                   79\n",
       "i7                                                                                                                                                                                                                                                                                                                                   50\n",
       "r3                                                                                                                                                                                                                                                                                                                                   46\n",
       "Celeron                                                                                                                                                                                                                                                                                                                              20\n",
       "i9                                                                                                                                                                                                                                                                                                                                   10\n",
       "M1                                                                                                                                                                                                                                                                                                                                    7\n",
       "M1P                                                                                                                                                                                                                                                                                                                                   6\n",
       "M2                                                                                                                                                                                                                                                                                                                                    5\n",
       "Intel Celeron Quad Core Processor                                                                                                                                                                                                                                                                                                     3\n",
       "Intel Pentium Quad Core Processor                                                                                                                                                                                                                                                                                                     3\n",
       "Intel Pentium Silver Processor                                                                                                                                                                                                                                                                                                        2\n",
       "installed Genuine Windows 10 Home OSIntel Core i7 Processor                                                                                                                                                                                                                                                                           2\n",
       "built Alienware Command center software with enhanced control over system settingsIntel Core i7 Processor                                                                                                                                                                                                                             2\n",
       "Powered by 11th Gen Intel Evo Core i5 Processor                                                                                                                                                                                                                                                                                       2\n",
       "AMD Athlon Dual Core Processor                                                                                                                                                                                                                                                                                                        2\n",
       "Free upgrade to Windows 11 when availableAMD Ryzen 5 Hexa Core Processor                                                                                                                                                                                                                                                              2\n",
       "Finger Print Sensor for Faster System AccessLight Laptop without Optical Disk DriveIntel Core i3 Processor                                                                                                                                                                                                                            2\n",
       "Free upgrade to Windows 11 when availableIntel Core i5 Processor                                                                                                                                                                                                                                                                      2\n",
       "Intel OptaneIntel Core i3 Processor                                                                                                                                                                                                                                                                                                   2\n",
       " and BluetoothAMD Ryzen 5 Hexa Core Processor                                                                                                                                                                                                                                                                                         1\n",
       "1005G1 Processor                                                                                                                                                                                                                                                                                                                      1\n",
       "Alienware Command CenterAMD Ryzen 5 Hexa Core Processor                                                                                                                                                                                                                                                                               1\n",
       "NVIDIA Geforce GTX 1050 Ti for Desktop Level PerformanceOptimized Dolby Audio Premium Sound Enhancement128 GB SSD Capacity for Reduced Boot Up Time and in Game LoadingDual Fan Cooling with Metal AeroBlade for Interuption Free GamingFineTip Backlit Keyboard with Independent Standard Numeric KeypadIntel Core i5 Processor      1\n",
       "First Ever ScreenpadNVIDIA GeForce GTX 1050 TiIntel Core i7 Processor                                                                                                                                                                                                                                                                 1\n",
       "built Alienware Command center software with enhanced control over system settingsIntel Core i9 Processor                                                                                                                                                                                                                             1\n",
       "AMD Ryzen 3 Hexa Core Processor                                                                                                                                                                                                                                                                                                       1\n",
       "micIntel Core i7 Processor                                                                                                                                                                                                                                                                                                            1\n",
       "AMD Dual Core Processor                                                                                                                                                                                                                                                                                                               1\n",
       "Dual Fan Cooling with Metal AeroBlade 3D128 GB SSD for Reduced Boot Up Time and in Game LoadingUpgradable SSD Upto 512 GB and RAM Upto 32 GBNVIDIA Geforce GTX 1050Ti for Desktop Level PerformanceIntel Core i5 Processor                                                                                                            1\n",
       "Alienware Command CenterIntel Core i5 Processor                                                                                                                                                                                                                                                                                       1\n",
       "1135G7 Processor                                                                                                                                                                                                                                                                                                                      1\n",
       "AMD Ryzen 5 Dual Core Processor                                                                                                                                                                                                                                                                                                       1\n",
       "11ac 1x1 WiFi and BluetoothAMD Ryzen 5 Dual Core Processor                                                                                                                                                                                                                                                                            1\n",
       "1Intel Core i3 Processor                                                                                                                                                                                                                                                                                                              1\n",
       "AMD Ryzen 7 Quad Core Processor                                                                                                                                                                                                                                                                                                       1\n",
       "Apple M1 Max Processor                                                                                                                                                                                                                                                                                                                1\n",
       "11ac 1x1 WiFi and BluetoothAMD Ryzen 3 Dual Core Processor                                                                                                                                                                                                                                                                            1\n",
       "11ac 1x1 WiFi and BluetoothIntel Pentium Silver Processor                                                                                                                                                                                                                                                                             1\n",
       "Qualcomm Snapdragon 7c Gen 2 Processor                                                                                                                                                                                                                                                                                                1\n",
       "Alienware Command CenterAMD Ryzen 7 Octa Core Processor                                                                                                                                                                                                                                                                               1\n",
       "Name: Processor, dtype: int64"
      ]
     },
     "execution_count": 58,
     "metadata": {},
     "output_type": "execute_result"
    }
   ],
   "source": [
    "df.Processor.value_counts()"
   ]
  },
  {
   "cell_type": "code",
   "execution_count": 59,
   "metadata": {
    "id": "fuHh90SUBZ_c"
   },
   "outputs": [],
   "source": [
    "for i in df[df['Processor']==\"Intel Celeron Quad Core Processor\"].index.values:\n",
    "    df['Processor'][i]=\"Celeron\""
   ]
  },
  {
   "cell_type": "code",
   "execution_count": 60,
   "metadata": {
    "id": "rQ0fPLsPCHs8"
   },
   "outputs": [],
   "source": [
    "for i in df[df['Processor']==\"Intel Pentium Quad Core Processor\"].index.values:\n",
    "    df['Processor'][i]=\"Pentium\""
   ]
  },
  {
   "cell_type": "code",
   "execution_count": 61,
   "metadata": {
    "id": "7Z-OLCS9DAww"
   },
   "outputs": [],
   "source": [
    "for i in df[df['Processor']==\"IIntel Pentium Silver Processor\"].index.values:\n",
    "    df['Processor'][i]=\"Pentium\""
   ]
  },
  {
   "cell_type": "code",
   "execution_count": 62,
   "metadata": {
    "id": "NL4rFEuMDFvA"
   },
   "outputs": [],
   "source": [
    "for i in df[df['Processor']==\"installed Genuine Windows 10 Home OSIntel Core i7 Processor\"].index.values:\n",
    "    df['Processor'][i]=\"i7\""
   ]
  },
  {
   "cell_type": "code",
   "execution_count": 63,
   "metadata": {
    "id": "8NtQRqBfDQMd"
   },
   "outputs": [],
   "source": [
    "for i in df[df['Processor']==\"built Alienware Command center software with enhanced control over system settingsIntel Core i7 Processor\"].index.values:\n",
    "    df['Processor'][i]=\"i7\""
   ]
  },
  {
   "cell_type": "code",
   "execution_count": 64,
   "metadata": {
    "id": "A75ccuiIDadi"
   },
   "outputs": [],
   "source": [
    "for i in df[df['Processor']==\"Powered by 11th Gen Intel Evo Core i5 Processor\"].index.values:\n",
    "    df['Processor'][i]=\"i5\""
   ]
  },
  {
   "cell_type": "code",
   "execution_count": 65,
   "metadata": {
    "id": "AyMQO0BTDmh7"
   },
   "outputs": [],
   "source": [
    "for i in df[df['Processor']==\"AMD Athlon Dual Core Processor\"].index.values:\n",
    "    df['Processor'][i]=\"Athlon\""
   ]
  },
  {
   "cell_type": "code",
   "execution_count": 66,
   "metadata": {
    "id": "yoYWBb01Dx_B"
   },
   "outputs": [],
   "source": [
    "for i in df[df['Processor']==\"Free upgrade to Windows 11 when availableAMD Ryzen 5 Hexa Core Processor\"].index.values:\n",
    "    df['Processor'][i]=\"r5\""
   ]
  },
  {
   "cell_type": "code",
   "execution_count": 67,
   "metadata": {
    "id": "onCpTvfCD_9y"
   },
   "outputs": [],
   "source": [
    "for i in df[df['Processor']==\"Finger Print Sensor for Faster System AccessLight Laptop without Optical Disk DriveIntel Core i3 Processor\"].index.values:\n",
    "    df['Processor'][i]=\"i3\""
   ]
  },
  {
   "cell_type": "code",
   "execution_count": 68,
   "metadata": {
    "id": "YlAck5h6EI5r"
   },
   "outputs": [],
   "source": [
    "for i in df[df['Processor']==\"Free upgrade to Windows 11 when availableIntel Core i5 Processor\"].index.values:\n",
    "    df['Processor'][i]=\"i5\""
   ]
  },
  {
   "cell_type": "code",
   "execution_count": 69,
   "metadata": {
    "id": "QO4gDpAGEVbS"
   },
   "outputs": [],
   "source": [
    "for i in df[df['Processor']==\"Intel OptaneIntel Core i3 Processor\"].index.values:\n",
    "    df['Processor'][i]=\"i3\""
   ]
  },
  {
   "cell_type": "code",
   "execution_count": 70,
   "metadata": {
    "id": "_6bQvEw-EeYt"
   },
   "outputs": [],
   "source": [
    "for i in df[df['Processor']==\" and BluetoothAMD Ryzen 5 Hexa Core Processor\"].index.values:\n",
    "    df['Processor'][i]=\"r5\""
   ]
  },
  {
   "cell_type": "code",
   "execution_count": 71,
   "metadata": {
    "id": "DXX8L-0GEo53"
   },
   "outputs": [],
   "source": [
    "for i in df[df['Processor']==\"1005G1 Processor\"].index.values:\n",
    "    df['Processor'][i]=\"i3\""
   ]
  },
  {
   "cell_type": "code",
   "execution_count": 72,
   "metadata": {
    "id": "PQjQR4GKE3Lu"
   },
   "outputs": [],
   "source": [
    "for i in df[df['Processor']==\"Alienware Command CenterAMD Ryzen 5 Hexa Core Processor\"].index.values:\n",
    "    df['Processor'][i]=\"r5\""
   ]
  },
  {
   "cell_type": "code",
   "execution_count": 73,
   "metadata": {
    "id": "OzyLhY4pFSDN"
   },
   "outputs": [],
   "source": [
    "for i in df[df['Processor']==\"NVIDIA Geforce GTX 1050 Ti for Desktop Level PerformanceOptimized Dolby Audio Premium Sound Enhancement128 GB SSD Capacity for Reduced Boot Up Time and in Game LoadingDual Fan Cooling with Metal AeroBlade for Interuption Free GamingFineTip Backlit Keyboard with Independent Standard Numeric KeypadIntel Core i5 Processor\"].index.values:\n",
    "    df['Processor'][i]=\"i5\""
   ]
  },
  {
   "cell_type": "code",
   "execution_count": 74,
   "metadata": {
    "id": "H-1UacOCFs9o"
   },
   "outputs": [],
   "source": [
    "for i in df[df['Processor']==\"First Ever ScreenpadNVIDIA GeForce GTX 1050 TiIntel Core i7 Processor\"].index.values:\n",
    "    df['Processor'][i]=\"i7\""
   ]
  },
  {
   "cell_type": "code",
   "execution_count": 75,
   "metadata": {
    "id": "UQx9AxG1F1Jc"
   },
   "outputs": [],
   "source": [
    "for i in df[df['Processor']==\"built Alienware Command center software with enhanced control over system settingsIntel Core i9 Processor\"].index.values:\n",
    "    df['Processor'][i]=\"i9\""
   ]
  },
  {
   "cell_type": "code",
   "execution_count": 76,
   "metadata": {
    "id": "K1VbCPwAF83Y"
   },
   "outputs": [],
   "source": [
    "for i in df[df['Processor']==\"AMD Ryzen 3 Hexa Core Processor\"].index.values:\n",
    "    df['Processor'][i]=\"r3\""
   ]
  },
  {
   "cell_type": "code",
   "execution_count": 77,
   "metadata": {
    "id": "GUc0BTmkGLQC"
   },
   "outputs": [],
   "source": [
    "for i in df[df['Processor']==\"micIntel Core i7 Processor\"].index.values:\n",
    "    df['Processor'][i]=\"i7\""
   ]
  },
  {
   "cell_type": "code",
   "execution_count": 78,
   "metadata": {
    "id": "LZM8mndeGYkF"
   },
   "outputs": [],
   "source": [
    "for i in df[df['Processor']==\"AMD Dual Core Processor\"].index.values:\n",
    "    df['Processor'][i]=\"Dual\""
   ]
  },
  {
   "cell_type": "code",
   "execution_count": 79,
   "metadata": {
    "id": "bjSr7mdqGg1V"
   },
   "outputs": [],
   "source": [
    "for i in df[df['Processor']==\"Dual Fan Cooling with Metal AeroBlade 3D128 GB SSD for Reduced Boot Up Time and in Game LoadingUpgradable SSD Upto 512 GB and RAM Upto 32 GBNVIDIA Geforce GTX 1050Ti for Desktop Level PerformanceIntel Core i5 Processor\"].index.values:\n",
    "    df['Processor'][i]=\"i5\""
   ]
  },
  {
   "cell_type": "code",
   "execution_count": 80,
   "metadata": {
    "id": "RPsb6AQQG-Yl"
   },
   "outputs": [],
   "source": [
    "for i in df[df['Processor']==\"Alienware Command CenterIntel Core i5 Processor\"].index.values:\n",
    "    df['Processor'][i]=\"i5\""
   ]
  },
  {
   "cell_type": "code",
   "execution_count": 81,
   "metadata": {
    "id": "_XR9Pgi0HIkl"
   },
   "outputs": [],
   "source": [
    "for i in df[df['Processor']==\"1135G7 Processor\"].index.values:\n",
    "    df['Processor'][i]=\"i5\""
   ]
  },
  {
   "cell_type": "code",
   "execution_count": 82,
   "metadata": {
    "id": "z0WAhslzHUQ2"
   },
   "outputs": [],
   "source": [
    "for i in df[df['Processor']==\"AMD Ryzen 5 Dual Core Processor\"].index.values:\n",
    "    df['Processor'][i]=\"r5\""
   ]
  },
  {
   "cell_type": "code",
   "execution_count": 83,
   "metadata": {
    "id": "QuqeEzUDHhLa"
   },
   "outputs": [],
   "source": [
    "for i in df[df['Processor']==\"11ac 1x1 WiFi and BluetoothAMD Ryzen 5 Dual Core Processor\"].index.values:\n",
    "    df['Processor'][i]=\"r5\""
   ]
  },
  {
   "cell_type": "code",
   "execution_count": 84,
   "metadata": {
    "id": "glhI_VymHoEs"
   },
   "outputs": [],
   "source": [
    "for i in df[df['Processor']==\"1Intel Core i3 Processor\"].index.values:\n",
    "    df['Processor'][i]=\"i3\""
   ]
  },
  {
   "cell_type": "code",
   "execution_count": 85,
   "metadata": {
    "id": "Gm7eqecfHvYk"
   },
   "outputs": [],
   "source": [
    "for i in df[df['Processor']==\"1AMD Ryzen 7 Quad Core Processor\"].index.values:\n",
    "    df['Processor'][i]=\"r7\""
   ]
  },
  {
   "cell_type": "code",
   "execution_count": 86,
   "metadata": {
    "id": "Cw20mAqNH5b6"
   },
   "outputs": [],
   "source": [
    "for i in df[df['Processor']==\"Apple M1 Max Processor\"].index.values:\n",
    "    df['Processor'][i]=\"M1M\""
   ]
  },
  {
   "cell_type": "code",
   "execution_count": 87,
   "metadata": {
    "id": "48EJ3eDvITFb"
   },
   "outputs": [],
   "source": [
    "for i in df[df['Processor']==\"11ac 1x1 WiFi and BluetoothAMD Ryzen 3 Dual Core Processor\"].index.values:\n",
    "    df['Processor'][i]=\"r3\""
   ]
  },
  {
   "cell_type": "code",
   "execution_count": 88,
   "metadata": {
    "id": "y2MLIJDAIb13"
   },
   "outputs": [],
   "source": [
    "for i in df[df['Processor']==\"11ac 1x1 WiFi and BluetoothIntel Pentium Silver Processor\"].index.values:\n",
    "    df['Processor'][i]=\"Pentium\""
   ]
  },
  {
   "cell_type": "code",
   "execution_count": 89,
   "metadata": {
    "id": "uV2hJYXgIsOE"
   },
   "outputs": [],
   "source": [
    "for i in df[df['Processor']==\"Qualcomm Snapdragon 7c Gen 2 Processor\"].index.values:\n",
    "    df['Processor'][i]=\"Snapdragon\""
   ]
  },
  {
   "cell_type": "code",
   "execution_count": 90,
   "metadata": {
    "id": "NCTow_KlI2R7"
   },
   "outputs": [],
   "source": [
    "for i in df[df['Processor']==\"Alienware Command CenterAMD Ryzen 7 Octa Core Processor\"].index.values:\n",
    "    df['Processor'][i]=\"r7\""
   ]
  },
  {
   "cell_type": "code",
   "execution_count": 91,
   "metadata": {
    "id": "XgpmBqYlJGZk"
   },
   "outputs": [],
   "source": [
    "for i in df[df['Processor']==\"Intel Pentium Silver Processor\"].index.values:\n",
    "    df['Processor'][i]=\"Pentium\""
   ]
  },
  {
   "cell_type": "code",
   "execution_count": 92,
   "metadata": {
    "id": "orhnH8CjJoUV"
   },
   "outputs": [],
   "source": [
    "for i in df[df['Processor']==\"AMD Ryzen 7 Quad Core Processor\"].index.values:\n",
    "    df['Processor'][i]=\"r7\""
   ]
  },
  {
   "cell_type": "code",
   "execution_count": 93,
   "metadata": {
    "colab": {
     "base_uri": "https://localhost:8080/"
    },
    "id": "G96tOzM8JBCP",
    "outputId": "0f2f6e83-0bbf-4d56-d189-e1c9071735d5"
   },
   "outputs": [
    {
     "data": {
      "text/plain": [
       "i5            159\n",
       "i3            135\n",
       "r5             91\n",
       "r9             87\n",
       "r7             81\n",
       "i7             56\n",
       "r3             48\n",
       "Celeron        23\n",
       "i9             11\n",
       "M1              7\n",
       "Pentium         6\n",
       "M1P             6\n",
       "M2              5\n",
       "Athlon          2\n",
       "M1M             1\n",
       "Snapdragon      1\n",
       "Dual            1\n",
       "Name: Processor, dtype: int64"
      ]
     },
     "execution_count": 93,
     "metadata": {},
     "output_type": "execute_result"
    }
   ],
   "source": [
    "df.Processor.value_counts()"
   ]
  },
  {
   "cell_type": "code",
   "execution_count": 94,
   "metadata": {
    "colab": {
     "base_uri": "https://localhost:8080/",
     "height": 1000
    },
    "id": "QyU8zz_xJj3n",
    "outputId": "bce2ea25-66de-4a1f-aed1-8e53f2a706f8"
   },
   "outputs": [
    {
     "data": {
      "text/html": [
       "<div>\n",
       "<style scoped>\n",
       "    .dataframe tbody tr th:only-of-type {\n",
       "        vertical-align: middle;\n",
       "    }\n",
       "\n",
       "    .dataframe tbody tr th {\n",
       "        vertical-align: top;\n",
       "    }\n",
       "\n",
       "    .dataframe thead th {\n",
       "        text-align: right;\n",
       "    }\n",
       "</style>\n",
       "<table border=\"1\" class=\"dataframe\">\n",
       "  <thead>\n",
       "    <tr style=\"text-align: right;\">\n",
       "      <th></th>\n",
       "      <th>Product</th>\n",
       "      <th>Rating</th>\n",
       "      <th>MRP</th>\n",
       "      <th>Feature</th>\n",
       "      <th>processor_company</th>\n",
       "      <th>Ram</th>\n",
       "      <th>Ram_1</th>\n",
       "      <th>Ram_type</th>\n",
       "      <th>Processor</th>\n",
       "    </tr>\n",
       "  </thead>\n",
       "  <tbody>\n",
       "    <tr>\n",
       "      <th>0</th>\n",
       "      <td>Lenovo IdeaPad 3 Core i3 11th Gen - (8 GB/256 ...</td>\n",
       "      <td>4.2</td>\n",
       "      <td>₹36,990</td>\n",
       "      <td>Intel Core i3 Processor (11th Gen)8 GB DDR4 RA...</td>\n",
       "      <td>Intel</td>\n",
       "      <td>8</td>\n",
       "      <td>8</td>\n",
       "      <td>DDR4</td>\n",
       "      <td>i3</td>\n",
       "    </tr>\n",
       "    <tr>\n",
       "      <th>1</th>\n",
       "      <td>Lenovo IdeaPad 3 Core i3 11th Gen - (8 GB/512 ...</td>\n",
       "      <td>4.2</td>\n",
       "      <td>₹39,990</td>\n",
       "      <td>Intel Core i3 Processor (11th Gen)8 GB DDR4 RA...</td>\n",
       "      <td>Intel</td>\n",
       "      <td>8</td>\n",
       "      <td>8</td>\n",
       "      <td>DDR4</td>\n",
       "      <td>i3</td>\n",
       "    </tr>\n",
       "    <tr>\n",
       "      <th>2</th>\n",
       "      <td>ASUS VivoBook 15 (2022) Core i3 10th Gen - (8 ...</td>\n",
       "      <td>4.3</td>\n",
       "      <td>₹32,990</td>\n",
       "      <td>Intel Core i3 Processor (10th Gen)8 GB DDR4 RA...</td>\n",
       "      <td>Intel</td>\n",
       "      <td>8</td>\n",
       "      <td>8</td>\n",
       "      <td>DDR4</td>\n",
       "      <td>i3</td>\n",
       "    </tr>\n",
       "    <tr>\n",
       "      <th>3</th>\n",
       "      <td>HP Pavilion Ryzen 5 Hexa Core AMD R5-5600H - (...</td>\n",
       "      <td>4.4</td>\n",
       "      <td>₹49,990</td>\n",
       "      <td>AMD Ryzen 5 Hexa Core Processor8 GB DDR4 RAM64...</td>\n",
       "      <td>AMD</td>\n",
       "      <td>8</td>\n",
       "      <td>8</td>\n",
       "      <td>DDR4</td>\n",
       "      <td>r5</td>\n",
       "    </tr>\n",
       "    <tr>\n",
       "      <th>4</th>\n",
       "      <td>ASUS TUF Gaming F15 Core i5 10th Gen - (8 GB/5...</td>\n",
       "      <td>4.4</td>\n",
       "      <td>₹49,990</td>\n",
       "      <td>Intel Core i5 Processor (10th Gen)8 GB DDR4 RA...</td>\n",
       "      <td>Intel</td>\n",
       "      <td>8</td>\n",
       "      <td>8</td>\n",
       "      <td>DDR4</td>\n",
       "      <td>i5</td>\n",
       "    </tr>\n",
       "    <tr>\n",
       "      <th>...</th>\n",
       "      <td>...</td>\n",
       "      <td>...</td>\n",
       "      <td>...</td>\n",
       "      <td>...</td>\n",
       "      <td>...</td>\n",
       "      <td>...</td>\n",
       "      <td>...</td>\n",
       "      <td>...</td>\n",
       "      <td>...</td>\n",
       "    </tr>\n",
       "    <tr>\n",
       "      <th>715</th>\n",
       "      <td>ASUS Chromebook Flip Touch Celeron Dual Core -...</td>\n",
       "      <td>4.0</td>\n",
       "      <td>₹23,490</td>\n",
       "      <td>Intel Celeron Dual Core Processor4 GB LPDDR4 R...</td>\n",
       "      <td>Intel</td>\n",
       "      <td>4</td>\n",
       "      <td>4</td>\n",
       "      <td>LPDDR4</td>\n",
       "      <td>Celeron</td>\n",
       "    </tr>\n",
       "    <tr>\n",
       "      <th>716</th>\n",
       "      <td>Lenovo IdeaPad Gaming 3 Ryzen 7 Octa Core AMD ...</td>\n",
       "      <td>4.5</td>\n",
       "      <td>₹73,490</td>\n",
       "      <td>AMD Ryzen 7 Octa Core Processor8 GB DDR4 RAM64...</td>\n",
       "      <td>AMD</td>\n",
       "      <td>8</td>\n",
       "      <td>8</td>\n",
       "      <td>DDR4</td>\n",
       "      <td>r7</td>\n",
       "    </tr>\n",
       "    <tr>\n",
       "      <th>717</th>\n",
       "      <td>ASUS ROG Zephyrus G15 Ryzen 9 Octa Core 6900HS...</td>\n",
       "      <td>NaN</td>\n",
       "      <td>₹1,94,990</td>\n",
       "      <td>AMD Ryzen 9 Octa Core Processor16 GB DDR5 RAM6...</td>\n",
       "      <td>AMD</td>\n",
       "      <td>6</td>\n",
       "      <td>16</td>\n",
       "      <td>DDR5</td>\n",
       "      <td>r9</td>\n",
       "    </tr>\n",
       "    <tr>\n",
       "      <th>718</th>\n",
       "      <td>ASUS Zenbook Flip 14 OLED (2022) Touch Panel C...</td>\n",
       "      <td>3.0</td>\n",
       "      <td>₹1,25,990</td>\n",
       "      <td>Intel Core i7 Processor (12th Gen)16 GB LPDDR5...</td>\n",
       "      <td>Intel</td>\n",
       "      <td>6</td>\n",
       "      <td>16</td>\n",
       "      <td>LPDDR5</td>\n",
       "      <td>i7</td>\n",
       "    </tr>\n",
       "    <tr>\n",
       "      <th>719</th>\n",
       "      <td>Lenovo Ideapad Slim 3i Core i5 10th Gen - (8 G...</td>\n",
       "      <td>4.2</td>\n",
       "      <td>₹50,990</td>\n",
       "      <td>Intel Core i5 Processor (10th Gen)8 GB DDR4 RA...</td>\n",
       "      <td>Intel</td>\n",
       "      <td>8</td>\n",
       "      <td>8</td>\n",
       "      <td>DDR4</td>\n",
       "      <td>i5</td>\n",
       "    </tr>\n",
       "  </tbody>\n",
       "</table>\n",
       "<p>720 rows × 9 columns</p>\n",
       "</div>"
      ],
      "text/plain": [
       "                                               Product  Rating        MRP  \\\n",
       "0    Lenovo IdeaPad 3 Core i3 11th Gen - (8 GB/256 ...     4.2    ₹36,990   \n",
       "1    Lenovo IdeaPad 3 Core i3 11th Gen - (8 GB/512 ...     4.2    ₹39,990   \n",
       "2    ASUS VivoBook 15 (2022) Core i3 10th Gen - (8 ...     4.3    ₹32,990   \n",
       "3    HP Pavilion Ryzen 5 Hexa Core AMD R5-5600H - (...     4.4    ₹49,990   \n",
       "4    ASUS TUF Gaming F15 Core i5 10th Gen - (8 GB/5...     4.4    ₹49,990   \n",
       "..                                                 ...     ...        ...   \n",
       "715  ASUS Chromebook Flip Touch Celeron Dual Core -...     4.0    ₹23,490   \n",
       "716  Lenovo IdeaPad Gaming 3 Ryzen 7 Octa Core AMD ...     4.5    ₹73,490   \n",
       "717  ASUS ROG Zephyrus G15 Ryzen 9 Octa Core 6900HS...     NaN  ₹1,94,990   \n",
       "718  ASUS Zenbook Flip 14 OLED (2022) Touch Panel C...     3.0  ₹1,25,990   \n",
       "719  Lenovo Ideapad Slim 3i Core i5 10th Gen - (8 G...     4.2    ₹50,990   \n",
       "\n",
       "                                               Feature processor_company Ram  \\\n",
       "0    Intel Core i3 Processor (11th Gen)8 GB DDR4 RA...             Intel   8   \n",
       "1    Intel Core i3 Processor (11th Gen)8 GB DDR4 RA...             Intel   8   \n",
       "2    Intel Core i3 Processor (10th Gen)8 GB DDR4 RA...             Intel   8   \n",
       "3    AMD Ryzen 5 Hexa Core Processor8 GB DDR4 RAM64...               AMD   8   \n",
       "4    Intel Core i5 Processor (10th Gen)8 GB DDR4 RA...             Intel   8   \n",
       "..                                                 ...               ...  ..   \n",
       "715  Intel Celeron Dual Core Processor4 GB LPDDR4 R...             Intel   4   \n",
       "716  AMD Ryzen 7 Octa Core Processor8 GB DDR4 RAM64...               AMD   8   \n",
       "717  AMD Ryzen 9 Octa Core Processor16 GB DDR5 RAM6...               AMD   6   \n",
       "718  Intel Core i7 Processor (12th Gen)16 GB LPDDR5...             Intel   6   \n",
       "719  Intel Core i5 Processor (10th Gen)8 GB DDR4 RA...             Intel   8   \n",
       "\n",
       "    Ram_1 Ram_type Processor  \n",
       "0       8     DDR4        i3  \n",
       "1       8     DDR4        i3  \n",
       "2       8     DDR4        i3  \n",
       "3       8     DDR4        r5  \n",
       "4       8     DDR4        i5  \n",
       "..    ...      ...       ...  \n",
       "715     4   LPDDR4   Celeron  \n",
       "716     8     DDR4        r7  \n",
       "717    16     DDR5        r9  \n",
       "718    16   LPDDR5        i7  \n",
       "719     8     DDR4        i5  \n",
       "\n",
       "[720 rows x 9 columns]"
      ]
     },
     "execution_count": 94,
     "metadata": {},
     "output_type": "execute_result"
    }
   ],
   "source": [
    "df"
   ]
  },
  {
   "cell_type": "code",
   "execution_count": 95,
   "metadata": {
    "id": "5RpXxyFpKAAB"
   },
   "outputs": [],
   "source": [
    "df['Brand'] = df['Product'].apply(lambda x:re.search('\\w+',x).group())"
   ]
  },
  {
   "cell_type": "code",
   "execution_count": 96,
   "metadata": {
    "colab": {
     "base_uri": "https://localhost:8080/"
    },
    "id": "4Uq56qmSgmr2",
    "outputId": "f56c4fa0-9c30-445c-c66a-307bfa645cdc"
   },
   "outputs": [
    {
     "data": {
      "text/plain": [
       "DDR4       559\n",
       "DDR5        92\n",
       "LPDDR4X     37\n",
       "Unified     12\n",
       "LPDDR5       9\n",
       "LPDDR4       8\n",
       "SSD          2\n",
       "LPDDR3       1\n",
       "Name: Ram_type, dtype: int64"
      ]
     },
     "execution_count": 96,
     "metadata": {},
     "output_type": "execute_result"
    }
   ],
   "source": [
    "df.Ram_type.value_counts()"
   ]
  },
  {
   "cell_type": "code",
   "execution_count": 97,
   "metadata": {
    "colab": {
     "base_uri": "https://localhost:8080/",
     "height": 249
    },
    "id": "eyDgi08Ve7MF",
    "outputId": "ee9b8ab2-28d7-4123-fa0f-b9ecb7dfbf6a"
   },
   "outputs": [
    {
     "data": {
      "text/html": [
       "<div>\n",
       "<style scoped>\n",
       "    .dataframe tbody tr th:only-of-type {\n",
       "        vertical-align: middle;\n",
       "    }\n",
       "\n",
       "    .dataframe tbody tr th {\n",
       "        vertical-align: top;\n",
       "    }\n",
       "\n",
       "    .dataframe thead th {\n",
       "        text-align: right;\n",
       "    }\n",
       "</style>\n",
       "<table border=\"1\" class=\"dataframe\">\n",
       "  <thead>\n",
       "    <tr style=\"text-align: right;\">\n",
       "      <th></th>\n",
       "      <th>Product</th>\n",
       "      <th>Rating</th>\n",
       "      <th>MRP</th>\n",
       "      <th>Feature</th>\n",
       "      <th>processor_company</th>\n",
       "      <th>Ram</th>\n",
       "      <th>Ram_1</th>\n",
       "      <th>Ram_type</th>\n",
       "      <th>Processor</th>\n",
       "      <th>Brand</th>\n",
       "    </tr>\n",
       "  </thead>\n",
       "  <tbody>\n",
       "    <tr>\n",
       "      <th>712</th>\n",
       "      <td>ASUS ExpertBook B9 Core i7 10th Gen - (16 GB/2...</td>\n",
       "      <td>NaN</td>\n",
       "      <td>₹2,33,990</td>\n",
       "      <td>Intel Core i7 Processor (10th Gen)16 GB LPDDR3...</td>\n",
       "      <td>Intel</td>\n",
       "      <td>6</td>\n",
       "      <td>16</td>\n",
       "      <td>LPDDR3</td>\n",
       "      <td>i7</td>\n",
       "      <td>ASUS</td>\n",
       "    </tr>\n",
       "  </tbody>\n",
       "</table>\n",
       "</div>"
      ],
      "text/plain": [
       "                                               Product  Rating        MRP  \\\n",
       "712  ASUS ExpertBook B9 Core i7 10th Gen - (16 GB/2...     NaN  ₹2,33,990   \n",
       "\n",
       "                                               Feature processor_company Ram  \\\n",
       "712  Intel Core i7 Processor (10th Gen)16 GB LPDDR3...             Intel   6   \n",
       "\n",
       "    Ram_1 Ram_type Processor Brand  \n",
       "712    16   LPDDR3        i7  ASUS  "
      ]
     },
     "execution_count": 97,
     "metadata": {},
     "output_type": "execute_result"
    }
   ],
   "source": [
    "df[df[\"Ram_type\"]==\"LPDDR3\"]"
   ]
  },
  {
   "cell_type": "code",
   "execution_count": 98,
   "metadata": {
    "id": "HoqhsYCdfR-B"
   },
   "outputs": [],
   "source": [
    "df.drop(index=[404,169,535,83,208,628,688,689,438,644,712],axis=0,inplace=True)"
   ]
  },
  {
   "cell_type": "code",
   "execution_count": 99,
   "metadata": {
    "id": "z3ZG2pb_gH3s"
   },
   "outputs": [],
   "source": [
    "df.drop(index=228,axis=0,inplace=True)"
   ]
  },
  {
   "cell_type": "code",
   "execution_count": 100,
   "metadata": {
    "id": "vtR6zUj6gLs7"
   },
   "outputs": [],
   "source": [
    "df.drop(index=392,axis=0,inplace=True)"
   ]
  },
  {
   "cell_type": "code",
   "execution_count": 101,
   "metadata": {
    "id": "wbkfiP_WKHqu"
   },
   "outputs": [],
   "source": [
    "# df.drop([\"Nokia\",\"Vaio\",\"GIGABYTE\"],axis=0,inplace=True)"
   ]
  },
  {
   "cell_type": "code",
   "execution_count": 102,
   "metadata": {
    "id": "yLwIFph6Kfym"
   },
   "outputs": [],
   "source": [
    "df['Price'] = df['MRP'].apply(lambda x:x.replace(x[0],\"\"))"
   ]
  },
  {
   "cell_type": "code",
   "execution_count": 103,
   "metadata": {
    "id": "Yd3y-WkjKm3e"
   },
   "outputs": [],
   "source": [
    "df['Price'] = df['Price'].apply(lambda x:x.replace(\",\",\"\"))"
   ]
  },
  {
   "cell_type": "code",
   "execution_count": 104,
   "metadata": {
    "id": "V0P9q54iKqIJ"
   },
   "outputs": [],
   "source": [
    "\n",
    "\n",
    "df['Price'] = df['Price'].astype(int, errors = 'raise')"
   ]
  },
  {
   "cell_type": "code",
   "execution_count": 105,
   "metadata": {
    "id": "ZkoA8__cKtMh"
   },
   "outputs": [],
   "source": [
    "df['Ram'] = df['Ram'].astype(int, errors = 'raise')"
   ]
  },
  {
   "cell_type": "code",
   "execution_count": 106,
   "metadata": {
    "id": "CuWEvfbT7sCA"
   },
   "outputs": [],
   "source": [
    "df['Ram_1'] = df['Ram_1'].astype(int, errors = 'raise')"
   ]
  },
  {
   "cell_type": "code",
   "execution_count": 107,
   "metadata": {
    "id": "nztW17evKtG1"
   },
   "outputs": [],
   "source": [
    "# df['Operating_System'] = df['Feature'].apply(lambda x:re.search('Windows\\s[0-9]+',x).group())"
   ]
  },
  {
   "cell_type": "code",
   "execution_count": 108,
   "metadata": {
    "id": "FQ1Quu8ENAbY"
   },
   "outputs": [],
   "source": [
    "df['Operating_System'] = df['Feature'].apply(lambda x:re.compile('RAM[\\sA-Za-z0-9]+Operating System').search(x).group().replace(\"RAM\",\"\").replace(\"Operating System\",\"\").replace(\" \",\"\"))"
   ]
  },
  {
   "cell_type": "code",
   "execution_count": 109,
   "metadata": {
    "id": "k-bU9lTOJcmH"
   },
   "outputs": [],
   "source": [
    "df['Touch_Screen']=df['Feature'].apply(lambda x: \"yes\" if 'Touchscreen' in x else \"no\")"
   ]
  },
  {
   "cell_type": "code",
   "execution_count": 110,
   "metadata": {
    "colab": {
     "base_uri": "https://localhost:8080/",
     "height": 35
    },
    "id": "Hp3ylXH6KoFl",
    "outputId": "8c6479ee-b6ce-473b-c8b1-527b0f7581b8"
   },
   "outputs": [
    {
     "data": {
      "text/plain": [
       "'256 GB SSD'"
      ]
     },
     "execution_count": 110,
     "metadata": {},
     "output_type": "execute_result"
    }
   ],
   "source": [
    "po1 = re.compile(r'[\\d]+\\s(?:GB|TB)\\s(?:HDD|SSD)')\n",
    "po2 = re.compile(r'[\\d]+\\s(?:GB|TB)\\s+SSD')\n",
    "po1.search(df.Feature[0]).group()"
   ]
  },
  {
   "cell_type": "code",
   "execution_count": 111,
   "metadata": {
    "id": "_jROZzr6Kruw"
   },
   "outputs": [],
   "source": [
    "df['Storage'] = df['Feature'].apply(lambda x : \" \".join(re.findall(po1, x)))"
   ]
  },
  {
   "cell_type": "code",
   "execution_count": 112,
   "metadata": {
    "id": "-99sL-0LKuFP"
   },
   "outputs": [],
   "source": [
    "df['SSD'] = df['Storage'].apply(lambda x : \" \".join(re.findall(po2, x)))"
   ]
  },
  {
   "cell_type": "code",
   "execution_count": 113,
   "metadata": {
    "id": "zx2JInPtK0gu"
   },
   "outputs": [],
   "source": [
    "df['SSD'] = df['SSD'].apply(lambda x:x.replace(\" GB\",\"\"))"
   ]
  },
  {
   "cell_type": "code",
   "execution_count": 114,
   "metadata": {
    "id": "I-Uueb5_K0Y-"
   },
   "outputs": [],
   "source": [
    "df['SSD'] = df['SSD'].apply(lambda x:x.replace(\" TB\",\"020\"))"
   ]
  },
  {
   "cell_type": "code",
   "execution_count": 115,
   "metadata": {
    "id": "Yqw-UWqpK0Vf"
   },
   "outputs": [],
   "source": [
    "df['SSD'] = df['SSD'].apply(lambda x:x.replace(\" SSD\",\"\"))"
   ]
  },
  {
   "cell_type": "code",
   "execution_count": 116,
   "metadata": {
    "id": "5yVmIyM_K0JI"
   },
   "outputs": [],
   "source": [
    "df['SSD'] = df['SSD'].apply(lambda x:x.replace(\" 128\",\"\"))"
   ]
  },
  {
   "cell_type": "code",
   "execution_count": 117,
   "metadata": {
    "id": "_X1aKfQUKz4V"
   },
   "outputs": [],
   "source": [
    "df.SSD.replace('',np.nan,inplace=True)"
   ]
  },
  {
   "cell_type": "code",
   "execution_count": 118,
   "metadata": {
    "id": "ugUA23_BLBTn"
   },
   "outputs": [],
   "source": [
    "df['SSD']=df['SSD'].fillna(0)"
   ]
  },
  {
   "cell_type": "code",
   "execution_count": 119,
   "metadata": {
    "id": "WoN-KBKkLBQJ"
   },
   "outputs": [],
   "source": [
    "df['SSD'] = df['SSD'].astype(int, errors = 'raise')"
   ]
  },
  {
   "cell_type": "code",
   "execution_count": 120,
   "metadata": {
    "id": "qk7_wV8lLBN5"
   },
   "outputs": [],
   "source": [
    "po3 = re.compile(r'\\d+\\s+(?:GB|TB)\\s+HDD')"
   ]
  },
  {
   "cell_type": "code",
   "execution_count": 121,
   "metadata": {
    "id": "wK3ZXCwfLBMO"
   },
   "outputs": [],
   "source": [
    "df['HDD'] = df['Storage'].apply(lambda x : \" \".join(re.findall(po3, x)))"
   ]
  },
  {
   "cell_type": "code",
   "execution_count": 122,
   "metadata": {
    "id": "DfzAIiKrL0r8"
   },
   "outputs": [],
   "source": [
    "df['HDD'] = df['HDD'].apply(lambda x:x.replace(\" GB\",\"\"))\n",
    "df['HDD'] = df['HDD'].apply(lambda x:x.replace(\" TB\",\"020\"))\n",
    "df['HDD'] = df['HDD'].apply(lambda x:x.replace(\" HDD\",\"\"))"
   ]
  },
  {
   "cell_type": "code",
   "execution_count": 123,
   "metadata": {
    "id": "rHs8NquCL0oe"
   },
   "outputs": [],
   "source": [
    "df.HDD.replace('',np.nan,inplace=True)"
   ]
  },
  {
   "cell_type": "code",
   "execution_count": 124,
   "metadata": {
    "colab": {
     "base_uri": "https://localhost:8080/"
    },
    "id": "bCs96lKXMKJI",
    "outputId": "ca01cd09-6381-4f4e-965d-d2e034c3bbbd"
   },
   "outputs": [
    {
     "data": {
      "text/plain": [
       "1020    45\n",
       "256      1\n",
       "Name: HDD, dtype: int64"
      ]
     },
     "execution_count": 124,
     "metadata": {},
     "output_type": "execute_result"
    }
   ],
   "source": [
    "df.HDD.value_counts()"
   ]
  },
  {
   "cell_type": "code",
   "execution_count": 125,
   "metadata": {
    "id": "Pmu62Zo_L0mx"
   },
   "outputs": [],
   "source": [
    "df['HDD']=df['HDD'].fillna(0)"
   ]
  },
  {
   "cell_type": "code",
   "execution_count": 126,
   "metadata": {
    "colab": {
     "base_uri": "https://localhost:8080/"
    },
    "id": "3DokjiYaL0kr",
    "outputId": "58c89411-02ff-4060-f22b-e085f37d5f91"
   },
   "outputs": [
    {
     "data": {
      "text/plain": [
       "0       661\n",
       "1020     45\n",
       "256       1\n",
       "Name: HDD, dtype: int64"
      ]
     },
     "execution_count": 126,
     "metadata": {},
     "output_type": "execute_result"
    }
   ],
   "source": [
    "df.HDD.value_counts()"
   ]
  },
  {
   "cell_type": "code",
   "execution_count": 127,
   "metadata": {
    "colab": {
     "base_uri": "https://localhost:8080/"
    },
    "id": "IrAxt2LfyHAi",
    "outputId": "15d2fe48-44a7-4e10-bade-b22b624ef359"
   },
   "outputs": [
    {
     "data": {
      "text/plain": [
       "512     373\n",
       "1020    174\n",
       "256     124\n",
       "0        26\n",
       "2020      6\n",
       "128       4\n",
       "Name: SSD, dtype: int64"
      ]
     },
     "execution_count": 127,
     "metadata": {},
     "output_type": "execute_result"
    }
   ],
   "source": [
    "df.SSD.value_counts()"
   ]
  },
  {
   "cell_type": "code",
   "execution_count": 128,
   "metadata": {
    "id": "hCsJLFTpL0it"
   },
   "outputs": [],
   "source": [
    "df['HDD'] = df['HDD'].astype(int, errors = 'raise')"
   ]
  },
  {
   "cell_type": "code",
   "execution_count": 129,
   "metadata": {
    "colab": {
     "base_uri": "https://localhost:8080/"
    },
    "id": "GiYkklimKLSH",
    "outputId": "d953674d-1437-42e5-e73c-da2e756bfb1a"
   },
   "outputs": [
    {
     "name": "stdout",
     "output_type": "stream",
     "text": [
      "<class 'pandas.core.frame.DataFrame'>\n",
      "Int64Index: 707 entries, 0 to 719\n",
      "Data columns (total 16 columns):\n",
      " #   Column             Non-Null Count  Dtype  \n",
      "---  ------             --------------  -----  \n",
      " 0   Product            707 non-null    object \n",
      " 1   Rating             572 non-null    float64\n",
      " 2   MRP                707 non-null    object \n",
      " 3   Feature            707 non-null    object \n",
      " 4   processor_company  707 non-null    object \n",
      " 5   Ram                707 non-null    int32  \n",
      " 6   Ram_1              707 non-null    int32  \n",
      " 7   Ram_type           707 non-null    object \n",
      " 8   Processor          707 non-null    object \n",
      " 9   Brand              707 non-null    object \n",
      " 10  Price              707 non-null    int32  \n",
      " 11  Operating_System   707 non-null    object \n",
      " 12  Touch_Screen       707 non-null    object \n",
      " 13  Storage            707 non-null    object \n",
      " 14  SSD                707 non-null    int32  \n",
      " 15  HDD                707 non-null    int32  \n",
      "dtypes: float64(1), int32(5), object(10)\n",
      "memory usage: 96.3+ KB\n"
     ]
    }
   ],
   "source": [
    "df.info()"
   ]
  },
  {
   "cell_type": "code",
   "execution_count": 130,
   "metadata": {
    "colab": {
     "base_uri": "https://localhost:8080/"
    },
    "id": "wVt_oN70Kb8p",
    "outputId": "1e190826-19f0-4d89-c9ce-f275cdafb533"
   },
   "outputs": [
    {
     "data": {
      "text/plain": [
       "64bitWindows11    402\n",
       "Windows11         154\n",
       "64bitWindows10    109\n",
       "MacOS              19\n",
       "Windows10          12\n",
       "Chrome              6\n",
       "64bitDOS            2\n",
       "DOS                 1\n",
       "32bitWindows11      1\n",
       "64bitChrome         1\n",
       "Name: Operating_System, dtype: int64"
      ]
     },
     "execution_count": 130,
     "metadata": {},
     "output_type": "execute_result"
    }
   ],
   "source": [
    "df.Operating_System.value_counts()"
   ]
  },
  {
   "cell_type": "code",
   "execution_count": 131,
   "metadata": {
    "id": "o0CbbRrTLji8"
   },
   "outputs": [],
   "source": [
    "for i in df[df['Operating_System']==\"64bitWindows11\"].index.values:\n",
    "    df['Operating_System'][i]=\"win11\""
   ]
  },
  {
   "cell_type": "code",
   "execution_count": 132,
   "metadata": {
    "id": "x_peSYIwNjom"
   },
   "outputs": [],
   "source": [
    "\n",
    "for i in df[df['Operating_System']==\"Windows11\"].index.values:\n",
    "    df['Operating_System'][i]=\"win11\""
   ]
  },
  {
   "cell_type": "code",
   "execution_count": 133,
   "metadata": {
    "id": "DIM9juZFNruV"
   },
   "outputs": [],
   "source": [
    "\n",
    "\n",
    "for i in df[df['Operating_System']==\"32bitWindows11\"].index.values:\n",
    "    df['Operating_System'][i]=\"win11\""
   ]
  },
  {
   "cell_type": "code",
   "execution_count": 134,
   "metadata": {
    "id": "bQTC2RNFNwlS"
   },
   "outputs": [],
   "source": [
    "\n",
    "for i in df[df['Operating_System']==\"64bitWindows10\"].index.values:\n",
    "    df['Operating_System'][i]=\"win10\""
   ]
  },
  {
   "cell_type": "code",
   "execution_count": 135,
   "metadata": {
    "id": "IEa1o0cuN5WF"
   },
   "outputs": [],
   "source": [
    "\n",
    "for i in df[df['Operating_System']==\"Windows10\"].index.values:\n",
    "    df['Operating_System'][i]=\"win10\""
   ]
  },
  {
   "cell_type": "code",
   "execution_count": 136,
   "metadata": {
    "id": "NRG2IXBAN9Y_"
   },
   "outputs": [],
   "source": [
    "\n",
    "\n",
    "\n",
    "# for i in df[df['Operating_System']==\"DOS\"].index.values:\n",
    "#   df['Operating_System'][i]=\"DOS\""
   ]
  },
  {
   "cell_type": "code",
   "execution_count": 137,
   "metadata": {
    "id": "jPQZehNmOFQd"
   },
   "outputs": [],
   "source": [
    "for i in df[df['Operating_System']==\"64bitDOS\"].index.values:\n",
    "    df['Operating_System'][i]=\"DOS\""
   ]
  },
  {
   "cell_type": "code",
   "execution_count": 138,
   "metadata": {
    "id": "92UXxmLFOLbX"
   },
   "outputs": [],
   "source": [
    "# for i in df[df['Operating_System']==\"MacOS\"].index.values:\n",
    "#   df['Operating_System'][i]=\"MacOS\""
   ]
  },
  {
   "cell_type": "code",
   "execution_count": 139,
   "metadata": {
    "id": "-C6pXtRGOVCN"
   },
   "outputs": [],
   "source": [
    "for i in df[df['Operating_System']==\"64bitChrome\"].index.values:\n",
    "    df['Operating_System'][i]=\"Chrome\""
   ]
  },
  {
   "cell_type": "code",
   "execution_count": 140,
   "metadata": {
    "colab": {
     "base_uri": "https://localhost:8080/"
    },
    "id": "sQK0HQODRtvQ",
    "outputId": "4e640158-fc29-4af5-c54a-5663d62b7b60"
   },
   "outputs": [
    {
     "name": "stdout",
     "output_type": "stream",
     "text": [
      "<class 'pandas.core.frame.DataFrame'>\n",
      "Int64Index: 707 entries, 0 to 719\n",
      "Data columns (total 16 columns):\n",
      " #   Column             Non-Null Count  Dtype  \n",
      "---  ------             --------------  -----  \n",
      " 0   Product            707 non-null    object \n",
      " 1   Rating             572 non-null    float64\n",
      " 2   MRP                707 non-null    object \n",
      " 3   Feature            707 non-null    object \n",
      " 4   processor_company  707 non-null    object \n",
      " 5   Ram                707 non-null    int32  \n",
      " 6   Ram_1              707 non-null    int32  \n",
      " 7   Ram_type           707 non-null    object \n",
      " 8   Processor          707 non-null    object \n",
      " 9   Brand              707 non-null    object \n",
      " 10  Price              707 non-null    int32  \n",
      " 11  Operating_System   707 non-null    object \n",
      " 12  Touch_Screen       707 non-null    object \n",
      " 13  Storage            707 non-null    object \n",
      " 14  SSD                707 non-null    int32  \n",
      " 15  HDD                707 non-null    int32  \n",
      "dtypes: float64(1), int32(5), object(10)\n",
      "memory usage: 96.3+ KB\n"
     ]
    }
   ],
   "source": [
    "df.info()"
   ]
  },
  {
   "cell_type": "code",
   "execution_count": 141,
   "metadata": {
    "colab": {
     "base_uri": "https://localhost:8080/",
     "height": 1000
    },
    "id": "oZsVi2jFZm1N",
    "outputId": "8ef37171-84c5-45f9-8a0d-10c64b94b78f"
   },
   "outputs": [
    {
     "data": {
      "text/html": [
       "<div>\n",
       "<style scoped>\n",
       "    .dataframe tbody tr th:only-of-type {\n",
       "        vertical-align: middle;\n",
       "    }\n",
       "\n",
       "    .dataframe tbody tr th {\n",
       "        vertical-align: top;\n",
       "    }\n",
       "\n",
       "    .dataframe thead th {\n",
       "        text-align: right;\n",
       "    }\n",
       "</style>\n",
       "<table border=\"1\" class=\"dataframe\">\n",
       "  <thead>\n",
       "    <tr style=\"text-align: right;\">\n",
       "      <th></th>\n",
       "      <th>Product</th>\n",
       "      <th>Rating</th>\n",
       "      <th>MRP</th>\n",
       "      <th>Feature</th>\n",
       "      <th>processor_company</th>\n",
       "      <th>Ram</th>\n",
       "      <th>Ram_1</th>\n",
       "      <th>Ram_type</th>\n",
       "      <th>Processor</th>\n",
       "      <th>Brand</th>\n",
       "      <th>Price</th>\n",
       "      <th>Operating_System</th>\n",
       "      <th>Touch_Screen</th>\n",
       "      <th>Storage</th>\n",
       "      <th>SSD</th>\n",
       "      <th>HDD</th>\n",
       "    </tr>\n",
       "  </thead>\n",
       "  <tbody>\n",
       "    <tr>\n",
       "      <th>0</th>\n",
       "      <td>Lenovo IdeaPad 3 Core i3 11th Gen - (8 GB/256 ...</td>\n",
       "      <td>4.2</td>\n",
       "      <td>₹36,990</td>\n",
       "      <td>Intel Core i3 Processor (11th Gen)8 GB DDR4 RA...</td>\n",
       "      <td>Intel</td>\n",
       "      <td>8</td>\n",
       "      <td>8</td>\n",
       "      <td>DDR4</td>\n",
       "      <td>i3</td>\n",
       "      <td>Lenovo</td>\n",
       "      <td>36990</td>\n",
       "      <td>win11</td>\n",
       "      <td>no</td>\n",
       "      <td>256 GB SSD</td>\n",
       "      <td>256</td>\n",
       "      <td>0</td>\n",
       "    </tr>\n",
       "    <tr>\n",
       "      <th>1</th>\n",
       "      <td>Lenovo IdeaPad 3 Core i3 11th Gen - (8 GB/512 ...</td>\n",
       "      <td>4.2</td>\n",
       "      <td>₹39,990</td>\n",
       "      <td>Intel Core i3 Processor (11th Gen)8 GB DDR4 RA...</td>\n",
       "      <td>Intel</td>\n",
       "      <td>8</td>\n",
       "      <td>8</td>\n",
       "      <td>DDR4</td>\n",
       "      <td>i3</td>\n",
       "      <td>Lenovo</td>\n",
       "      <td>39990</td>\n",
       "      <td>win11</td>\n",
       "      <td>no</td>\n",
       "      <td>512 GB SSD</td>\n",
       "      <td>512</td>\n",
       "      <td>0</td>\n",
       "    </tr>\n",
       "    <tr>\n",
       "      <th>2</th>\n",
       "      <td>ASUS VivoBook 15 (2022) Core i3 10th Gen - (8 ...</td>\n",
       "      <td>4.3</td>\n",
       "      <td>₹32,990</td>\n",
       "      <td>Intel Core i3 Processor (10th Gen)8 GB DDR4 RA...</td>\n",
       "      <td>Intel</td>\n",
       "      <td>8</td>\n",
       "      <td>8</td>\n",
       "      <td>DDR4</td>\n",
       "      <td>i3</td>\n",
       "      <td>ASUS</td>\n",
       "      <td>32990</td>\n",
       "      <td>win11</td>\n",
       "      <td>no</td>\n",
       "      <td>512 GB SSD</td>\n",
       "      <td>512</td>\n",
       "      <td>0</td>\n",
       "    </tr>\n",
       "    <tr>\n",
       "      <th>3</th>\n",
       "      <td>HP Pavilion Ryzen 5 Hexa Core AMD R5-5600H - (...</td>\n",
       "      <td>4.4</td>\n",
       "      <td>₹49,990</td>\n",
       "      <td>AMD Ryzen 5 Hexa Core Processor8 GB DDR4 RAM64...</td>\n",
       "      <td>AMD</td>\n",
       "      <td>8</td>\n",
       "      <td>8</td>\n",
       "      <td>DDR4</td>\n",
       "      <td>r5</td>\n",
       "      <td>HP</td>\n",
       "      <td>49990</td>\n",
       "      <td>win10</td>\n",
       "      <td>no</td>\n",
       "      <td>512 GB SSD</td>\n",
       "      <td>512</td>\n",
       "      <td>0</td>\n",
       "    </tr>\n",
       "    <tr>\n",
       "      <th>4</th>\n",
       "      <td>ASUS TUF Gaming F15 Core i5 10th Gen - (8 GB/5...</td>\n",
       "      <td>4.4</td>\n",
       "      <td>₹49,990</td>\n",
       "      <td>Intel Core i5 Processor (10th Gen)8 GB DDR4 RA...</td>\n",
       "      <td>Intel</td>\n",
       "      <td>8</td>\n",
       "      <td>8</td>\n",
       "      <td>DDR4</td>\n",
       "      <td>i5</td>\n",
       "      <td>ASUS</td>\n",
       "      <td>49990</td>\n",
       "      <td>win11</td>\n",
       "      <td>no</td>\n",
       "      <td>512 GB SSD</td>\n",
       "      <td>512</td>\n",
       "      <td>0</td>\n",
       "    </tr>\n",
       "    <tr>\n",
       "      <th>...</th>\n",
       "      <td>...</td>\n",
       "      <td>...</td>\n",
       "      <td>...</td>\n",
       "      <td>...</td>\n",
       "      <td>...</td>\n",
       "      <td>...</td>\n",
       "      <td>...</td>\n",
       "      <td>...</td>\n",
       "      <td>...</td>\n",
       "      <td>...</td>\n",
       "      <td>...</td>\n",
       "      <td>...</td>\n",
       "      <td>...</td>\n",
       "      <td>...</td>\n",
       "      <td>...</td>\n",
       "      <td>...</td>\n",
       "    </tr>\n",
       "    <tr>\n",
       "      <th>715</th>\n",
       "      <td>ASUS Chromebook Flip Touch Celeron Dual Core -...</td>\n",
       "      <td>4.0</td>\n",
       "      <td>₹23,490</td>\n",
       "      <td>Intel Celeron Dual Core Processor4 GB LPDDR4 R...</td>\n",
       "      <td>Intel</td>\n",
       "      <td>4</td>\n",
       "      <td>4</td>\n",
       "      <td>LPDDR4</td>\n",
       "      <td>Celeron</td>\n",
       "      <td>ASUS</td>\n",
       "      <td>23490</td>\n",
       "      <td>Chrome</td>\n",
       "      <td>yes</td>\n",
       "      <td></td>\n",
       "      <td>0</td>\n",
       "      <td>0</td>\n",
       "    </tr>\n",
       "    <tr>\n",
       "      <th>716</th>\n",
       "      <td>Lenovo IdeaPad Gaming 3 Ryzen 7 Octa Core AMD ...</td>\n",
       "      <td>4.5</td>\n",
       "      <td>₹73,490</td>\n",
       "      <td>AMD Ryzen 7 Octa Core Processor8 GB DDR4 RAM64...</td>\n",
       "      <td>AMD</td>\n",
       "      <td>8</td>\n",
       "      <td>8</td>\n",
       "      <td>DDR4</td>\n",
       "      <td>r7</td>\n",
       "      <td>Lenovo</td>\n",
       "      <td>73490</td>\n",
       "      <td>win11</td>\n",
       "      <td>no</td>\n",
       "      <td>512 GB SSD</td>\n",
       "      <td>512</td>\n",
       "      <td>0</td>\n",
       "    </tr>\n",
       "    <tr>\n",
       "      <th>717</th>\n",
       "      <td>ASUS ROG Zephyrus G15 Ryzen 9 Octa Core 6900HS...</td>\n",
       "      <td>NaN</td>\n",
       "      <td>₹1,94,990</td>\n",
       "      <td>AMD Ryzen 9 Octa Core Processor16 GB DDR5 RAM6...</td>\n",
       "      <td>AMD</td>\n",
       "      <td>6</td>\n",
       "      <td>16</td>\n",
       "      <td>DDR5</td>\n",
       "      <td>r9</td>\n",
       "      <td>ASUS</td>\n",
       "      <td>194990</td>\n",
       "      <td>win11</td>\n",
       "      <td>no</td>\n",
       "      <td>1 TB SSD</td>\n",
       "      <td>1020</td>\n",
       "      <td>0</td>\n",
       "    </tr>\n",
       "    <tr>\n",
       "      <th>718</th>\n",
       "      <td>ASUS Zenbook Flip 14 OLED (2022) Touch Panel C...</td>\n",
       "      <td>3.0</td>\n",
       "      <td>₹1,25,990</td>\n",
       "      <td>Intel Core i7 Processor (12th Gen)16 GB LPDDR5...</td>\n",
       "      <td>Intel</td>\n",
       "      <td>6</td>\n",
       "      <td>16</td>\n",
       "      <td>LPDDR5</td>\n",
       "      <td>i7</td>\n",
       "      <td>ASUS</td>\n",
       "      <td>125990</td>\n",
       "      <td>win11</td>\n",
       "      <td>yes</td>\n",
       "      <td>512 GB SSD</td>\n",
       "      <td>512</td>\n",
       "      <td>0</td>\n",
       "    </tr>\n",
       "    <tr>\n",
       "      <th>719</th>\n",
       "      <td>Lenovo Ideapad Slim 3i Core i5 10th Gen - (8 G...</td>\n",
       "      <td>4.2</td>\n",
       "      <td>₹50,990</td>\n",
       "      <td>Intel Core i5 Processor (10th Gen)8 GB DDR4 RA...</td>\n",
       "      <td>Intel</td>\n",
       "      <td>8</td>\n",
       "      <td>8</td>\n",
       "      <td>DDR4</td>\n",
       "      <td>i5</td>\n",
       "      <td>Lenovo</td>\n",
       "      <td>50990</td>\n",
       "      <td>win10</td>\n",
       "      <td>no</td>\n",
       "      <td>1 TB HDD 256 GB SSD</td>\n",
       "      <td>256</td>\n",
       "      <td>1020</td>\n",
       "    </tr>\n",
       "  </tbody>\n",
       "</table>\n",
       "<p>707 rows × 16 columns</p>\n",
       "</div>"
      ],
      "text/plain": [
       "                                               Product  Rating        MRP  \\\n",
       "0    Lenovo IdeaPad 3 Core i3 11th Gen - (8 GB/256 ...     4.2    ₹36,990   \n",
       "1    Lenovo IdeaPad 3 Core i3 11th Gen - (8 GB/512 ...     4.2    ₹39,990   \n",
       "2    ASUS VivoBook 15 (2022) Core i3 10th Gen - (8 ...     4.3    ₹32,990   \n",
       "3    HP Pavilion Ryzen 5 Hexa Core AMD R5-5600H - (...     4.4    ₹49,990   \n",
       "4    ASUS TUF Gaming F15 Core i5 10th Gen - (8 GB/5...     4.4    ₹49,990   \n",
       "..                                                 ...     ...        ...   \n",
       "715  ASUS Chromebook Flip Touch Celeron Dual Core -...     4.0    ₹23,490   \n",
       "716  Lenovo IdeaPad Gaming 3 Ryzen 7 Octa Core AMD ...     4.5    ₹73,490   \n",
       "717  ASUS ROG Zephyrus G15 Ryzen 9 Octa Core 6900HS...     NaN  ₹1,94,990   \n",
       "718  ASUS Zenbook Flip 14 OLED (2022) Touch Panel C...     3.0  ₹1,25,990   \n",
       "719  Lenovo Ideapad Slim 3i Core i5 10th Gen - (8 G...     4.2    ₹50,990   \n",
       "\n",
       "                                               Feature processor_company  Ram  \\\n",
       "0    Intel Core i3 Processor (11th Gen)8 GB DDR4 RA...             Intel    8   \n",
       "1    Intel Core i3 Processor (11th Gen)8 GB DDR4 RA...             Intel    8   \n",
       "2    Intel Core i3 Processor (10th Gen)8 GB DDR4 RA...             Intel    8   \n",
       "3    AMD Ryzen 5 Hexa Core Processor8 GB DDR4 RAM64...               AMD    8   \n",
       "4    Intel Core i5 Processor (10th Gen)8 GB DDR4 RA...             Intel    8   \n",
       "..                                                 ...               ...  ...   \n",
       "715  Intel Celeron Dual Core Processor4 GB LPDDR4 R...             Intel    4   \n",
       "716  AMD Ryzen 7 Octa Core Processor8 GB DDR4 RAM64...               AMD    8   \n",
       "717  AMD Ryzen 9 Octa Core Processor16 GB DDR5 RAM6...               AMD    6   \n",
       "718  Intel Core i7 Processor (12th Gen)16 GB LPDDR5...             Intel    6   \n",
       "719  Intel Core i5 Processor (10th Gen)8 GB DDR4 RA...             Intel    8   \n",
       "\n",
       "     Ram_1 Ram_type Processor   Brand   Price Operating_System Touch_Screen  \\\n",
       "0        8     DDR4        i3  Lenovo   36990            win11           no   \n",
       "1        8     DDR4        i3  Lenovo   39990            win11           no   \n",
       "2        8     DDR4        i3    ASUS   32990            win11           no   \n",
       "3        8     DDR4        r5      HP   49990            win10           no   \n",
       "4        8     DDR4        i5    ASUS   49990            win11           no   \n",
       "..     ...      ...       ...     ...     ...              ...          ...   \n",
       "715      4   LPDDR4   Celeron    ASUS   23490           Chrome          yes   \n",
       "716      8     DDR4        r7  Lenovo   73490            win11           no   \n",
       "717     16     DDR5        r9    ASUS  194990            win11           no   \n",
       "718     16   LPDDR5        i7    ASUS  125990            win11          yes   \n",
       "719      8     DDR4        i5  Lenovo   50990            win10           no   \n",
       "\n",
       "                 Storage   SSD   HDD  \n",
       "0             256 GB SSD   256     0  \n",
       "1             512 GB SSD   512     0  \n",
       "2             512 GB SSD   512     0  \n",
       "3             512 GB SSD   512     0  \n",
       "4             512 GB SSD   512     0  \n",
       "..                   ...   ...   ...  \n",
       "715                          0     0  \n",
       "716           512 GB SSD   512     0  \n",
       "717             1 TB SSD  1020     0  \n",
       "718           512 GB SSD   512     0  \n",
       "719  1 TB HDD 256 GB SSD   256  1020  \n",
       "\n",
       "[707 rows x 16 columns]"
      ]
     },
     "execution_count": 141,
     "metadata": {},
     "output_type": "execute_result"
    }
   ],
   "source": [
    "df"
   ]
  },
  {
   "cell_type": "code",
   "execution_count": 142,
   "metadata": {
    "colab": {
     "base_uri": "https://localhost:8080/"
    },
    "id": "SfHa-VbXm6Dk",
    "outputId": "7eb09ec7-6727-45b0-c6c2-5e32735c083a"
   },
   "outputs": [
    {
     "data": {
      "text/plain": [
       "i5         154\n",
       "i3         135\n",
       "r5          90\n",
       "r9          87\n",
       "r7          81\n",
       "i7          53\n",
       "r3          48\n",
       "Celeron     21\n",
       "i9          10\n",
       "M1           7\n",
       "M1P          6\n",
       "Pentium      6\n",
       "M2           5\n",
       "Athlon       2\n",
       "M1M          1\n",
       "Dual         1\n",
       "Name: Processor, dtype: int64"
      ]
     },
     "execution_count": 142,
     "metadata": {},
     "output_type": "execute_result"
    }
   ],
   "source": [
    "df[\"Processor\"].value_counts()"
   ]
  },
  {
   "cell_type": "code",
   "execution_count": 143,
   "metadata": {
    "colab": {
     "base_uri": "https://localhost:8080/",
     "height": 1000
    },
    "id": "BBvEG5symyRR",
    "outputId": "9bf71da8-2d5a-486e-da2e-00a61faa54da"
   },
   "outputs": [
    {
     "data": {
      "text/html": [
       "<div>\n",
       "<style scoped>\n",
       "    .dataframe tbody tr th:only-of-type {\n",
       "        vertical-align: middle;\n",
       "    }\n",
       "\n",
       "    .dataframe tbody tr th {\n",
       "        vertical-align: top;\n",
       "    }\n",
       "\n",
       "    .dataframe thead th {\n",
       "        text-align: right;\n",
       "    }\n",
       "</style>\n",
       "<table border=\"1\" class=\"dataframe\">\n",
       "  <thead>\n",
       "    <tr style=\"text-align: right;\">\n",
       "      <th></th>\n",
       "      <th>Product</th>\n",
       "      <th>Rating</th>\n",
       "      <th>MRP</th>\n",
       "      <th>Feature</th>\n",
       "      <th>processor_company</th>\n",
       "      <th>Ram</th>\n",
       "      <th>Ram_1</th>\n",
       "      <th>Ram_type</th>\n",
       "      <th>Processor</th>\n",
       "      <th>Brand</th>\n",
       "      <th>Price</th>\n",
       "      <th>Operating_System</th>\n",
       "      <th>Touch_Screen</th>\n",
       "      <th>Storage</th>\n",
       "      <th>SSD</th>\n",
       "      <th>HDD</th>\n",
       "    </tr>\n",
       "  </thead>\n",
       "  <tbody>\n",
       "    <tr>\n",
       "      <th>193</th>\n",
       "      <td>ASUS TUF Gaming F15 Core i9 11th Gen - (16 GB/...</td>\n",
       "      <td>4.4</td>\n",
       "      <td>₹1,22,990</td>\n",
       "      <td>Intel Core i9 Processor (11th Gen)16 GB DDR4 R...</td>\n",
       "      <td>Intel</td>\n",
       "      <td>6</td>\n",
       "      <td>16</td>\n",
       "      <td>DDR4</td>\n",
       "      <td>i9</td>\n",
       "      <td>ASUS</td>\n",
       "      <td>122990</td>\n",
       "      <td>win10</td>\n",
       "      <td>no</td>\n",
       "      <td>1 TB SSD</td>\n",
       "      <td>1020</td>\n",
       "      <td>0</td>\n",
       "    </tr>\n",
       "    <tr>\n",
       "      <th>212</th>\n",
       "      <td>DELL Core i9 12th Gen - (16 GB/1 TB SSD/Window...</td>\n",
       "      <td>NaN</td>\n",
       "      <td>₹2,35,283</td>\n",
       "      <td>Intel Core i9 Processor (12th Gen)16 GB DDR5 R...</td>\n",
       "      <td>Intel</td>\n",
       "      <td>6</td>\n",
       "      <td>16</td>\n",
       "      <td>DDR5</td>\n",
       "      <td>i9</td>\n",
       "      <td>DELL</td>\n",
       "      <td>235283</td>\n",
       "      <td>win11</td>\n",
       "      <td>no</td>\n",
       "      <td>1 TB SSD</td>\n",
       "      <td>1020</td>\n",
       "      <td>0</td>\n",
       "    </tr>\n",
       "    <tr>\n",
       "      <th>223</th>\n",
       "      <td>ASUS ROG Zephyrus M16 (2022) Core i9 12th Gen ...</td>\n",
       "      <td>4.7</td>\n",
       "      <td>₹2,41,990</td>\n",
       "      <td>Intel Core i9 Processor (12th Gen)32 GB DDR5 R...</td>\n",
       "      <td>Intel</td>\n",
       "      <td>2</td>\n",
       "      <td>32</td>\n",
       "      <td>DDR5</td>\n",
       "      <td>i9</td>\n",
       "      <td>ASUS</td>\n",
       "      <td>241990</td>\n",
       "      <td>win11</td>\n",
       "      <td>no</td>\n",
       "      <td>1 TB SSD</td>\n",
       "      <td>1020</td>\n",
       "      <td>0</td>\n",
       "    </tr>\n",
       "    <tr>\n",
       "      <th>364</th>\n",
       "      <td>ASUS ROG Flow Z13 (2022) Core i9 12th Gen - (1...</td>\n",
       "      <td>NaN</td>\n",
       "      <td>₹1,74,990</td>\n",
       "      <td>Intel Core i9 Processor (12th Gen)16 GB LPDDR5...</td>\n",
       "      <td>Intel</td>\n",
       "      <td>6</td>\n",
       "      <td>16</td>\n",
       "      <td>LPDDR5</td>\n",
       "      <td>i9</td>\n",
       "      <td>ASUS</td>\n",
       "      <td>174990</td>\n",
       "      <td>win11</td>\n",
       "      <td>yes</td>\n",
       "      <td>1 TB SSD</td>\n",
       "      <td>1020</td>\n",
       "      <td>0</td>\n",
       "    </tr>\n",
       "    <tr>\n",
       "      <th>375</th>\n",
       "      <td>ASUS ROG Strix SCAR 15 (2022) Core i9 12th Gen...</td>\n",
       "      <td>5.0</td>\n",
       "      <td>₹3,01,990</td>\n",
       "      <td>Intel Core i9 Processor (12th Gen)32 GB DDR5 R...</td>\n",
       "      <td>Intel</td>\n",
       "      <td>2</td>\n",
       "      <td>32</td>\n",
       "      <td>DDR5</td>\n",
       "      <td>i9</td>\n",
       "      <td>ASUS</td>\n",
       "      <td>301990</td>\n",
       "      <td>win11</td>\n",
       "      <td>no</td>\n",
       "      <td>1 TB SSD</td>\n",
       "      <td>1020</td>\n",
       "      <td>0</td>\n",
       "    </tr>\n",
       "    <tr>\n",
       "      <th>464</th>\n",
       "      <td>MSI Core i9 12th Gen - (32 GB/2 TB SSD/Windows...</td>\n",
       "      <td>NaN</td>\n",
       "      <td>₹3,89,990</td>\n",
       "      <td>Intel Core i9 Processor (12th Gen)32 GB DDR5 R...</td>\n",
       "      <td>Intel</td>\n",
       "      <td>2</td>\n",
       "      <td>32</td>\n",
       "      <td>DDR5</td>\n",
       "      <td>i9</td>\n",
       "      <td>MSI</td>\n",
       "      <td>389990</td>\n",
       "      <td>win11</td>\n",
       "      <td>no</td>\n",
       "      <td>2 TB SSD</td>\n",
       "      <td>2020</td>\n",
       "      <td>0</td>\n",
       "    </tr>\n",
       "    <tr>\n",
       "      <th>543</th>\n",
       "      <td>acer Predator Helios 300 Core i9 11th Gen - (1...</td>\n",
       "      <td>4.4</td>\n",
       "      <td>₹1,24,990</td>\n",
       "      <td>Intel Core i9 Processor (11th Gen)16 GB DDR4 R...</td>\n",
       "      <td>Intel</td>\n",
       "      <td>6</td>\n",
       "      <td>16</td>\n",
       "      <td>DDR4</td>\n",
       "      <td>i9</td>\n",
       "      <td>acer</td>\n",
       "      <td>124990</td>\n",
       "      <td>win11</td>\n",
       "      <td>no</td>\n",
       "      <td>1 TB SSD</td>\n",
       "      <td>1020</td>\n",
       "      <td>0</td>\n",
       "    </tr>\n",
       "    <tr>\n",
       "      <th>564</th>\n",
       "      <td>MSI Core i9 12th Gen - (16 GB/1 TB SSD/Windows...</td>\n",
       "      <td>4.1</td>\n",
       "      <td>₹1,25,990</td>\n",
       "      <td>Intel Core i9 Processor (12th Gen)16 GB DDR4 R...</td>\n",
       "      <td>Intel</td>\n",
       "      <td>6</td>\n",
       "      <td>16</td>\n",
       "      <td>DDR4</td>\n",
       "      <td>i9</td>\n",
       "      <td>MSI</td>\n",
       "      <td>125990</td>\n",
       "      <td>win11</td>\n",
       "      <td>no</td>\n",
       "      <td>1 TB SSD</td>\n",
       "      <td>1020</td>\n",
       "      <td>0</td>\n",
       "    </tr>\n",
       "    <tr>\n",
       "      <th>602</th>\n",
       "      <td>ASUS ROG Zephyrus M16 (2022) with 90Whr Batter...</td>\n",
       "      <td>NaN</td>\n",
       "      <td>₹3,31,990</td>\n",
       "      <td>Intel Core i9 Processor (12th Gen)32 GB DDR5 R...</td>\n",
       "      <td>Intel</td>\n",
       "      <td>2</td>\n",
       "      <td>32</td>\n",
       "      <td>DDR5</td>\n",
       "      <td>i9</td>\n",
       "      <td>ASUS</td>\n",
       "      <td>331990</td>\n",
       "      <td>win11</td>\n",
       "      <td>no</td>\n",
       "      <td>2 TB SSD</td>\n",
       "      <td>2020</td>\n",
       "      <td>0</td>\n",
       "    </tr>\n",
       "    <tr>\n",
       "      <th>625</th>\n",
       "      <td>DELL Allienware Core i9 11th Gen - (32 GB/1 TB...</td>\n",
       "      <td>NaN</td>\n",
       "      <td>₹4,34,830</td>\n",
       "      <td>Intel Core i9 Processor (11th Gen)32 GB DDR4 R...</td>\n",
       "      <td>Intel</td>\n",
       "      <td>2</td>\n",
       "      <td>32</td>\n",
       "      <td>DDR4</td>\n",
       "      <td>i9</td>\n",
       "      <td>DELL</td>\n",
       "      <td>434830</td>\n",
       "      <td>win11</td>\n",
       "      <td>no</td>\n",
       "      <td>1 TB SSD</td>\n",
       "      <td>1020</td>\n",
       "      <td>0</td>\n",
       "    </tr>\n",
       "  </tbody>\n",
       "</table>\n",
       "</div>"
      ],
      "text/plain": [
       "                                               Product  Rating        MRP  \\\n",
       "193  ASUS TUF Gaming F15 Core i9 11th Gen - (16 GB/...     4.4  ₹1,22,990   \n",
       "212  DELL Core i9 12th Gen - (16 GB/1 TB SSD/Window...     NaN  ₹2,35,283   \n",
       "223  ASUS ROG Zephyrus M16 (2022) Core i9 12th Gen ...     4.7  ₹2,41,990   \n",
       "364  ASUS ROG Flow Z13 (2022) Core i9 12th Gen - (1...     NaN  ₹1,74,990   \n",
       "375  ASUS ROG Strix SCAR 15 (2022) Core i9 12th Gen...     5.0  ₹3,01,990   \n",
       "464  MSI Core i9 12th Gen - (32 GB/2 TB SSD/Windows...     NaN  ₹3,89,990   \n",
       "543  acer Predator Helios 300 Core i9 11th Gen - (1...     4.4  ₹1,24,990   \n",
       "564  MSI Core i9 12th Gen - (16 GB/1 TB SSD/Windows...     4.1  ₹1,25,990   \n",
       "602  ASUS ROG Zephyrus M16 (2022) with 90Whr Batter...     NaN  ₹3,31,990   \n",
       "625  DELL Allienware Core i9 11th Gen - (32 GB/1 TB...     NaN  ₹4,34,830   \n",
       "\n",
       "                                               Feature processor_company  Ram  \\\n",
       "193  Intel Core i9 Processor (11th Gen)16 GB DDR4 R...             Intel    6   \n",
       "212  Intel Core i9 Processor (12th Gen)16 GB DDR5 R...             Intel    6   \n",
       "223  Intel Core i9 Processor (12th Gen)32 GB DDR5 R...             Intel    2   \n",
       "364  Intel Core i9 Processor (12th Gen)16 GB LPDDR5...             Intel    6   \n",
       "375  Intel Core i9 Processor (12th Gen)32 GB DDR5 R...             Intel    2   \n",
       "464  Intel Core i9 Processor (12th Gen)32 GB DDR5 R...             Intel    2   \n",
       "543  Intel Core i9 Processor (11th Gen)16 GB DDR4 R...             Intel    6   \n",
       "564  Intel Core i9 Processor (12th Gen)16 GB DDR4 R...             Intel    6   \n",
       "602  Intel Core i9 Processor (12th Gen)32 GB DDR5 R...             Intel    2   \n",
       "625  Intel Core i9 Processor (11th Gen)32 GB DDR4 R...             Intel    2   \n",
       "\n",
       "     Ram_1 Ram_type Processor Brand   Price Operating_System Touch_Screen  \\\n",
       "193     16     DDR4        i9  ASUS  122990            win10           no   \n",
       "212     16     DDR5        i9  DELL  235283            win11           no   \n",
       "223     32     DDR5        i9  ASUS  241990            win11           no   \n",
       "364     16   LPDDR5        i9  ASUS  174990            win11          yes   \n",
       "375     32     DDR5        i9  ASUS  301990            win11           no   \n",
       "464     32     DDR5        i9   MSI  389990            win11           no   \n",
       "543     16     DDR4        i9  acer  124990            win11           no   \n",
       "564     16     DDR4        i9   MSI  125990            win11           no   \n",
       "602     32     DDR5        i9  ASUS  331990            win11           no   \n",
       "625     32     DDR4        i9  DELL  434830            win11           no   \n",
       "\n",
       "      Storage   SSD  HDD  \n",
       "193  1 TB SSD  1020    0  \n",
       "212  1 TB SSD  1020    0  \n",
       "223  1 TB SSD  1020    0  \n",
       "364  1 TB SSD  1020    0  \n",
       "375  1 TB SSD  1020    0  \n",
       "464  2 TB SSD  2020    0  \n",
       "543  1 TB SSD  1020    0  \n",
       "564  1 TB SSD  1020    0  \n",
       "602  2 TB SSD  2020    0  \n",
       "625  1 TB SSD  1020    0  "
      ]
     },
     "execution_count": 143,
     "metadata": {},
     "output_type": "execute_result"
    }
   ],
   "source": [
    "df[df['Processor']==\"i9\"]"
   ]
  },
  {
   "cell_type": "code",
   "execution_count": 144,
   "metadata": {},
   "outputs": [
    {
     "data": {
      "text/html": [
       "<div>\n",
       "<style scoped>\n",
       "    .dataframe tbody tr th:only-of-type {\n",
       "        vertical-align: middle;\n",
       "    }\n",
       "\n",
       "    .dataframe tbody tr th {\n",
       "        vertical-align: top;\n",
       "    }\n",
       "\n",
       "    .dataframe thead th {\n",
       "        text-align: right;\n",
       "    }\n",
       "</style>\n",
       "<table border=\"1\" class=\"dataframe\">\n",
       "  <thead>\n",
       "    <tr style=\"text-align: right;\">\n",
       "      <th></th>\n",
       "      <th>Product</th>\n",
       "      <th>Rating</th>\n",
       "      <th>MRP</th>\n",
       "      <th>Feature</th>\n",
       "      <th>processor_company</th>\n",
       "      <th>Ram_1</th>\n",
       "      <th>Ram_type</th>\n",
       "      <th>Processor</th>\n",
       "      <th>Brand</th>\n",
       "      <th>Price</th>\n",
       "      <th>Operating_System</th>\n",
       "      <th>Touch_Screen</th>\n",
       "      <th>Storage</th>\n",
       "      <th>SSD</th>\n",
       "      <th>HDD</th>\n",
       "    </tr>\n",
       "  </thead>\n",
       "  <tbody>\n",
       "    <tr>\n",
       "      <th>0</th>\n",
       "      <td>Lenovo IdeaPad 3 Core i3 11th Gen - (8 GB/256 ...</td>\n",
       "      <td>4.2</td>\n",
       "      <td>₹36,990</td>\n",
       "      <td>Intel Core i3 Processor (11th Gen)8 GB DDR4 RA...</td>\n",
       "      <td>Intel</td>\n",
       "      <td>8</td>\n",
       "      <td>DDR4</td>\n",
       "      <td>i3</td>\n",
       "      <td>Lenovo</td>\n",
       "      <td>36990</td>\n",
       "      <td>win11</td>\n",
       "      <td>no</td>\n",
       "      <td>256 GB SSD</td>\n",
       "      <td>256</td>\n",
       "      <td>0</td>\n",
       "    </tr>\n",
       "    <tr>\n",
       "      <th>1</th>\n",
       "      <td>Lenovo IdeaPad 3 Core i3 11th Gen - (8 GB/512 ...</td>\n",
       "      <td>4.2</td>\n",
       "      <td>₹39,990</td>\n",
       "      <td>Intel Core i3 Processor (11th Gen)8 GB DDR4 RA...</td>\n",
       "      <td>Intel</td>\n",
       "      <td>8</td>\n",
       "      <td>DDR4</td>\n",
       "      <td>i3</td>\n",
       "      <td>Lenovo</td>\n",
       "      <td>39990</td>\n",
       "      <td>win11</td>\n",
       "      <td>no</td>\n",
       "      <td>512 GB SSD</td>\n",
       "      <td>512</td>\n",
       "      <td>0</td>\n",
       "    </tr>\n",
       "    <tr>\n",
       "      <th>2</th>\n",
       "      <td>ASUS VivoBook 15 (2022) Core i3 10th Gen - (8 ...</td>\n",
       "      <td>4.3</td>\n",
       "      <td>₹32,990</td>\n",
       "      <td>Intel Core i3 Processor (10th Gen)8 GB DDR4 RA...</td>\n",
       "      <td>Intel</td>\n",
       "      <td>8</td>\n",
       "      <td>DDR4</td>\n",
       "      <td>i3</td>\n",
       "      <td>ASUS</td>\n",
       "      <td>32990</td>\n",
       "      <td>win11</td>\n",
       "      <td>no</td>\n",
       "      <td>512 GB SSD</td>\n",
       "      <td>512</td>\n",
       "      <td>0</td>\n",
       "    </tr>\n",
       "    <tr>\n",
       "      <th>3</th>\n",
       "      <td>HP Pavilion Ryzen 5 Hexa Core AMD R5-5600H - (...</td>\n",
       "      <td>4.4</td>\n",
       "      <td>₹49,990</td>\n",
       "      <td>AMD Ryzen 5 Hexa Core Processor8 GB DDR4 RAM64...</td>\n",
       "      <td>AMD</td>\n",
       "      <td>8</td>\n",
       "      <td>DDR4</td>\n",
       "      <td>r5</td>\n",
       "      <td>HP</td>\n",
       "      <td>49990</td>\n",
       "      <td>win10</td>\n",
       "      <td>no</td>\n",
       "      <td>512 GB SSD</td>\n",
       "      <td>512</td>\n",
       "      <td>0</td>\n",
       "    </tr>\n",
       "    <tr>\n",
       "      <th>4</th>\n",
       "      <td>ASUS TUF Gaming F15 Core i5 10th Gen - (8 GB/5...</td>\n",
       "      <td>4.4</td>\n",
       "      <td>₹49,990</td>\n",
       "      <td>Intel Core i5 Processor (10th Gen)8 GB DDR4 RA...</td>\n",
       "      <td>Intel</td>\n",
       "      <td>8</td>\n",
       "      <td>DDR4</td>\n",
       "      <td>i5</td>\n",
       "      <td>ASUS</td>\n",
       "      <td>49990</td>\n",
       "      <td>win11</td>\n",
       "      <td>no</td>\n",
       "      <td>512 GB SSD</td>\n",
       "      <td>512</td>\n",
       "      <td>0</td>\n",
       "    </tr>\n",
       "    <tr>\n",
       "      <th>...</th>\n",
       "      <td>...</td>\n",
       "      <td>...</td>\n",
       "      <td>...</td>\n",
       "      <td>...</td>\n",
       "      <td>...</td>\n",
       "      <td>...</td>\n",
       "      <td>...</td>\n",
       "      <td>...</td>\n",
       "      <td>...</td>\n",
       "      <td>...</td>\n",
       "      <td>...</td>\n",
       "      <td>...</td>\n",
       "      <td>...</td>\n",
       "      <td>...</td>\n",
       "      <td>...</td>\n",
       "    </tr>\n",
       "    <tr>\n",
       "      <th>715</th>\n",
       "      <td>ASUS Chromebook Flip Touch Celeron Dual Core -...</td>\n",
       "      <td>4.0</td>\n",
       "      <td>₹23,490</td>\n",
       "      <td>Intel Celeron Dual Core Processor4 GB LPDDR4 R...</td>\n",
       "      <td>Intel</td>\n",
       "      <td>4</td>\n",
       "      <td>LPDDR4</td>\n",
       "      <td>Celeron</td>\n",
       "      <td>ASUS</td>\n",
       "      <td>23490</td>\n",
       "      <td>Chrome</td>\n",
       "      <td>yes</td>\n",
       "      <td></td>\n",
       "      <td>0</td>\n",
       "      <td>0</td>\n",
       "    </tr>\n",
       "    <tr>\n",
       "      <th>716</th>\n",
       "      <td>Lenovo IdeaPad Gaming 3 Ryzen 7 Octa Core AMD ...</td>\n",
       "      <td>4.5</td>\n",
       "      <td>₹73,490</td>\n",
       "      <td>AMD Ryzen 7 Octa Core Processor8 GB DDR4 RAM64...</td>\n",
       "      <td>AMD</td>\n",
       "      <td>8</td>\n",
       "      <td>DDR4</td>\n",
       "      <td>r7</td>\n",
       "      <td>Lenovo</td>\n",
       "      <td>73490</td>\n",
       "      <td>win11</td>\n",
       "      <td>no</td>\n",
       "      <td>512 GB SSD</td>\n",
       "      <td>512</td>\n",
       "      <td>0</td>\n",
       "    </tr>\n",
       "    <tr>\n",
       "      <th>717</th>\n",
       "      <td>ASUS ROG Zephyrus G15 Ryzen 9 Octa Core 6900HS...</td>\n",
       "      <td>NaN</td>\n",
       "      <td>₹1,94,990</td>\n",
       "      <td>AMD Ryzen 9 Octa Core Processor16 GB DDR5 RAM6...</td>\n",
       "      <td>AMD</td>\n",
       "      <td>16</td>\n",
       "      <td>DDR5</td>\n",
       "      <td>r9</td>\n",
       "      <td>ASUS</td>\n",
       "      <td>194990</td>\n",
       "      <td>win11</td>\n",
       "      <td>no</td>\n",
       "      <td>1 TB SSD</td>\n",
       "      <td>1020</td>\n",
       "      <td>0</td>\n",
       "    </tr>\n",
       "    <tr>\n",
       "      <th>718</th>\n",
       "      <td>ASUS Zenbook Flip 14 OLED (2022) Touch Panel C...</td>\n",
       "      <td>3.0</td>\n",
       "      <td>₹1,25,990</td>\n",
       "      <td>Intel Core i7 Processor (12th Gen)16 GB LPDDR5...</td>\n",
       "      <td>Intel</td>\n",
       "      <td>16</td>\n",
       "      <td>LPDDR5</td>\n",
       "      <td>i7</td>\n",
       "      <td>ASUS</td>\n",
       "      <td>125990</td>\n",
       "      <td>win11</td>\n",
       "      <td>yes</td>\n",
       "      <td>512 GB SSD</td>\n",
       "      <td>512</td>\n",
       "      <td>0</td>\n",
       "    </tr>\n",
       "    <tr>\n",
       "      <th>719</th>\n",
       "      <td>Lenovo Ideapad Slim 3i Core i5 10th Gen - (8 G...</td>\n",
       "      <td>4.2</td>\n",
       "      <td>₹50,990</td>\n",
       "      <td>Intel Core i5 Processor (10th Gen)8 GB DDR4 RA...</td>\n",
       "      <td>Intel</td>\n",
       "      <td>8</td>\n",
       "      <td>DDR4</td>\n",
       "      <td>i5</td>\n",
       "      <td>Lenovo</td>\n",
       "      <td>50990</td>\n",
       "      <td>win10</td>\n",
       "      <td>no</td>\n",
       "      <td>1 TB HDD 256 GB SSD</td>\n",
       "      <td>256</td>\n",
       "      <td>1020</td>\n",
       "    </tr>\n",
       "  </tbody>\n",
       "</table>\n",
       "<p>707 rows × 15 columns</p>\n",
       "</div>"
      ],
      "text/plain": [
       "                                               Product  Rating        MRP  \\\n",
       "0    Lenovo IdeaPad 3 Core i3 11th Gen - (8 GB/256 ...     4.2    ₹36,990   \n",
       "1    Lenovo IdeaPad 3 Core i3 11th Gen - (8 GB/512 ...     4.2    ₹39,990   \n",
       "2    ASUS VivoBook 15 (2022) Core i3 10th Gen - (8 ...     4.3    ₹32,990   \n",
       "3    HP Pavilion Ryzen 5 Hexa Core AMD R5-5600H - (...     4.4    ₹49,990   \n",
       "4    ASUS TUF Gaming F15 Core i5 10th Gen - (8 GB/5...     4.4    ₹49,990   \n",
       "..                                                 ...     ...        ...   \n",
       "715  ASUS Chromebook Flip Touch Celeron Dual Core -...     4.0    ₹23,490   \n",
       "716  Lenovo IdeaPad Gaming 3 Ryzen 7 Octa Core AMD ...     4.5    ₹73,490   \n",
       "717  ASUS ROG Zephyrus G15 Ryzen 9 Octa Core 6900HS...     NaN  ₹1,94,990   \n",
       "718  ASUS Zenbook Flip 14 OLED (2022) Touch Panel C...     3.0  ₹1,25,990   \n",
       "719  Lenovo Ideapad Slim 3i Core i5 10th Gen - (8 G...     4.2    ₹50,990   \n",
       "\n",
       "                                               Feature processor_company  \\\n",
       "0    Intel Core i3 Processor (11th Gen)8 GB DDR4 RA...             Intel   \n",
       "1    Intel Core i3 Processor (11th Gen)8 GB DDR4 RA...             Intel   \n",
       "2    Intel Core i3 Processor (10th Gen)8 GB DDR4 RA...             Intel   \n",
       "3    AMD Ryzen 5 Hexa Core Processor8 GB DDR4 RAM64...               AMD   \n",
       "4    Intel Core i5 Processor (10th Gen)8 GB DDR4 RA...             Intel   \n",
       "..                                                 ...               ...   \n",
       "715  Intel Celeron Dual Core Processor4 GB LPDDR4 R...             Intel   \n",
       "716  AMD Ryzen 7 Octa Core Processor8 GB DDR4 RAM64...               AMD   \n",
       "717  AMD Ryzen 9 Octa Core Processor16 GB DDR5 RAM6...               AMD   \n",
       "718  Intel Core i7 Processor (12th Gen)16 GB LPDDR5...             Intel   \n",
       "719  Intel Core i5 Processor (10th Gen)8 GB DDR4 RA...             Intel   \n",
       "\n",
       "     Ram_1 Ram_type Processor   Brand   Price Operating_System Touch_Screen  \\\n",
       "0        8     DDR4        i3  Lenovo   36990            win11           no   \n",
       "1        8     DDR4        i3  Lenovo   39990            win11           no   \n",
       "2        8     DDR4        i3    ASUS   32990            win11           no   \n",
       "3        8     DDR4        r5      HP   49990            win10           no   \n",
       "4        8     DDR4        i5    ASUS   49990            win11           no   \n",
       "..     ...      ...       ...     ...     ...              ...          ...   \n",
       "715      4   LPDDR4   Celeron    ASUS   23490           Chrome          yes   \n",
       "716      8     DDR4        r7  Lenovo   73490            win11           no   \n",
       "717     16     DDR5        r9    ASUS  194990            win11           no   \n",
       "718     16   LPDDR5        i7    ASUS  125990            win11          yes   \n",
       "719      8     DDR4        i5  Lenovo   50990            win10           no   \n",
       "\n",
       "                 Storage   SSD   HDD  \n",
       "0             256 GB SSD   256     0  \n",
       "1             512 GB SSD   512     0  \n",
       "2             512 GB SSD   512     0  \n",
       "3             512 GB SSD   512     0  \n",
       "4             512 GB SSD   512     0  \n",
       "..                   ...   ...   ...  \n",
       "715                          0     0  \n",
       "716           512 GB SSD   512     0  \n",
       "717             1 TB SSD  1020     0  \n",
       "718           512 GB SSD   512     0  \n",
       "719  1 TB HDD 256 GB SSD   256  1020  \n",
       "\n",
       "[707 rows x 15 columns]"
      ]
     },
     "execution_count": 144,
     "metadata": {},
     "output_type": "execute_result"
    }
   ],
   "source": [
    "df.drop(\"Ram\",axis='columns')"
   ]
  },
  {
   "cell_type": "code",
   "execution_count": 145,
   "metadata": {},
   "outputs": [
    {
     "data": {
      "image/png": "[encoded data removed]",
      "text/plain": [
       "<Figure size 432x288 with 1 Axes>"
      ]
     },
     "metadata": {
      "needs_background": "light"
     },
     "output_type": "display_data"
    }
   ],
   "source": [
    "sns.scatterplot(data=df, x='Ram_1', y='Price')\n",
    "plt.xlabel('RAM')\n",
    "plt.ylabel('Price')\n",
    "plt.title('RAM vs Price of Laptops')\n",
    "plt.show()"
   ]
  },
  {
   "cell_type": "markdown",
   "metadata": {},
   "source": [
    "#### A positive correlation suggests that laptops with higher RAM capacity are priced higher."
   ]
  },
  {
   "cell_type": "code",
   "execution_count": 146,
   "metadata": {},
   "outputs": [
    {
     "data": {
      "image/png": "[encoded data removed]",
      "text/plain": [
       "<Figure size 432x288 with 1 Axes>"
      ]
     },
     "metadata": {
      "needs_background": "light"
     },
     "output_type": "display_data"
    }
   ],
   "source": [
    "sns.boxplot(x='Operating_System', y='Price', data=df)\n",
    "plt.xlabel('Operating System')\n",
    "plt.ylabel('Price')\n",
    "plt.title('Price vs Operating System of Laptops')\n",
    "plt.show()"
   ]
  },
  {
   "cell_type": "code",
   "execution_count": 147,
   "metadata": {},
   "outputs": [
    {
     "data": {
      "image/png": "[encoded data removed]",
      "text/plain": [
       "<Figure size 432x288 with 1 Axes>"
      ]
     },
     "metadata": {
      "needs_background": "light"
     },
     "output_type": "display_data"
    }
   ],
   "source": [
    "sns.barplot(x='Operating_System', y='Price', data=df)\n",
    "plt.xlabel('Operating System')\n",
    "plt.ylabel('Price')\n",
    "plt.title('Price vs Operating System of Laptops')\n",
    "plt.show()"
   ]
  },
  {
   "cell_type": "markdown",
   "metadata": {},
   "source": [
    "#### Price of Macos laptop is more when compared with other operating system laptops"
   ]
  },
  {
   "cell_type": "code",
   "execution_count": 148,
   "metadata": {},
   "outputs": [
    {
     "data": {
      "image/png": "[encoded data removed]",
      "text/plain": [
       "<Figure size 432x288 with 1 Axes>"
      ]
     },
     "metadata": {
      "needs_background": "light"
     },
     "output_type": "display_data"
    }
   ],
   "source": [
    "sns.barplot(x='Brand', y='Price', data=df)\n",
    "plt.xlabel('Brand')\n",
    "plt.ylabel('Price')\n",
    "plt.title('Price vs Brand of Laptops')\n",
    "plt.show()"
   ]
  },
  {
   "cell_type": "code",
   "execution_count": 149,
   "metadata": {},
   "outputs": [
    {
     "data": {
      "image/png": "[encoded data removed]",
      "text/plain": [
       "<Figure size 432x288 with 1 Axes>"
      ]
     },
     "metadata": {
      "needs_background": "light"
     },
     "output_type": "display_data"
    }
   ],
   "source": [
    "sns.barplot(x='Price', y='Processor', data=df)\n",
    "plt.xlabel('Price')\n",
    "plt.ylabel('Processor')\n",
    "plt.title('Price vs Processor of Laptops')\n",
    "plt.show()"
   ]
  },
  {
   "cell_type": "code",
   "execution_count": 150,
   "metadata": {},
   "outputs": [
    {
     "data": {
      "image/png": "[encoded data removed]",
      "text/plain": [
       "<Figure size 432x288 with 1 Axes>"
      ]
     },
     "metadata": {
      "needs_background": "light"
     },
     "output_type": "display_data"
    }
   ],
   "source": [
    "sns.regplot(x='SSD', y='Price', data=df)\n",
    "plt.xlabel('SSD')\n",
    "plt.ylabel('Price')\n",
    "plt.title('Price vs Storage of Laptops')\n",
    "plt.show()"
   ]
  },
  {
   "cell_type": "markdown",
   "metadata": {},
   "source": [
    "#### Higher storage capacity laptops tend to be more expensive than lower storage capacity laptops"
   ]
  },
  {
   "cell_type": "code",
   "execution_count": 151,
   "metadata": {},
   "outputs": [
    {
     "data": {
      "image/png": "[encoded data removed]",
      "text/plain": [
       "<Figure size 432x288 with 1 Axes>"
      ]
     },
     "metadata": {
      "needs_background": "light"
     },
     "output_type": "display_data"
    }
   ],
   "source": [
    "sns.boxplot(x='Touch_Screen', y='Price', data=df)\n",
    "plt.xlabel('Touchscreen')\n",
    "plt.ylabel('Price')\n",
    "plt.title('Price vs Touchscreen of Laptops')\n",
    "plt.show()"
   ]
  },
  {
   "cell_type": "markdown",
   "metadata": {},
   "source": [
    "#### Laptops with touchscreen tend to be slightly more expensive than those without touchscreen, as the median price for touchscreen laptops is higher than that for non-touchscreen laptops."
   ]
  },
  {
   "cell_type": "code",
   "execution_count": 152,
   "metadata": {},
   "outputs": [
    {
     "data": {
      "text/plain": [
       "i5         154\n",
       "i3         135\n",
       "r5          90\n",
       "r9          87\n",
       "r7          81\n",
       "i7          53\n",
       "r3          48\n",
       "Celeron     21\n",
       "i9          10\n",
       "M1           7\n",
       "M1P          6\n",
       "Pentium      6\n",
       "M2           5\n",
       "Athlon       2\n",
       "M1M          1\n",
       "Dual         1\n",
       "Name: Processor, dtype: int64"
      ]
     },
     "execution_count": 152,
     "metadata": {},
     "output_type": "execute_result"
    }
   ],
   "source": [
    "df[\"Processor\"].value_counts()"
   ]
  },
  {
   "cell_type": "code",
   "execution_count": 153,
   "metadata": {},
   "outputs": [
    {
     "data": {
      "text/plain": [
       "win11     557\n",
       "win10     121\n",
       "MacOS      19\n",
       "Chrome      7\n",
       "DOS         3\n",
       "Name: Operating_System, dtype: int64"
      ]
     },
     "execution_count": 153,
     "metadata": {},
     "output_type": "execute_result"
    }
   ],
   "source": [
    "df[\"Operating_System\"].value_counts()"
   ]
  },
  {
   "cell_type": "code",
   "execution_count": 154,
   "metadata": {},
   "outputs": [
    {
     "data": {
      "text/plain": [
       "8     398\n",
       "16    259\n",
       "4      34\n",
       "32     16\n",
       "Name: Ram_1, dtype: int64"
      ]
     },
     "execution_count": 154,
     "metadata": {},
     "output_type": "execute_result"
    }
   ],
   "source": [
    "df[\"Ram_1\"].value_counts()"
   ]
  },
  {
   "cell_type": "code",
   "execution_count": 192,
   "metadata": {},
   "outputs": [],
   "source": [
    "df_1=df[[\"processor_company\",\"Ram_1\",\"Ram_type\",\"Processor\",\"Brand\",\"Operating_System\",\"SSD\",\"HDD\",\"Touch_Screen\",\"Price\"]]"
   ]
  },
  {
   "cell_type": "code",
   "execution_count": 193,
   "metadata": {},
   "outputs": [],
   "source": [
    "df_1.to_csv(r\"C:\\Users\\Dell\\Downloads\\clean_data1.csv\")"
   ]
  },
  {
   "cell_type": "code",
   "execution_count": 157,
   "metadata": {
    "id": "DZv29__MH2KK"
   },
   "outputs": [],
   "source": [
    "x=df[[\"processor_company\",\"Ram_1\",\"Ram_type\",\"Processor\",\"Brand\",\"Operating_System\",\"SSD\",\"HDD\",\"Touch_Screen\"]]"
   ]
  },
  {
   "cell_type": "code",
   "execution_count": null,
   "metadata": {
    "id": "WUeEil_D3wCt"
   },
   "outputs": [],
   "source": []
  },
  {
   "cell_type": "code",
   "execution_count": 158,
   "metadata": {
    "id": "fm5m3_dHbUbQ",
    "outputId": "45069d6a-5ba0-4276-ed60-fc85a26111cf"
   },
   "outputs": [
    {
     "name": "stdout",
     "output_type": "stream",
     "text": [
      "<class 'pandas.core.frame.DataFrame'>\n",
      "Int64Index: 707 entries, 0 to 719\n",
      "Data columns (total 9 columns):\n",
      " #   Column             Non-Null Count  Dtype \n",
      "---  ------             --------------  ----- \n",
      " 0   processor_company  707 non-null    object\n",
      " 1   Ram_1              707 non-null    int32 \n",
      " 2   Ram_type           707 non-null    object\n",
      " 3   Processor          707 non-null    object\n",
      " 4   Brand              707 non-null    object\n",
      " 5   Operating_System   707 non-null    object\n",
      " 6   SSD                707 non-null    int32 \n",
      " 7   HDD                707 non-null    int32 \n",
      " 8   Touch_Screen       707 non-null    object\n",
      "dtypes: int32(3), object(6)\n",
      "memory usage: 63.1+ KB\n"
     ]
    }
   ],
   "source": [
    " x.info()"
   ]
  },
  {
   "cell_type": "code",
   "execution_count": 159,
   "metadata": {
    "id": "bpF8t5dobU4p"
   },
   "outputs": [],
   "source": [
    "y=df[\"Price\"]\n"
   ]
  },
  {
   "cell_type": "code",
   "execution_count": 160,
   "metadata": {
    "id": "THynLLNvbck0"
   },
   "outputs": [],
   "source": [
    "# y"
   ]
  },
  {
   "cell_type": "code",
   "execution_count": 161,
   "metadata": {
    "id": "o3z-txNRbde1"
   },
   "outputs": [],
   "source": [
    "from sklearn.model_selection import train_test_split\n",
    "\n",
    "X_train, X_test, y_train, y_test = train_test_split(x, y, train_size=0.7, random_state=100)"
   ]
  },
  {
   "cell_type": "code",
   "execution_count": 162,
   "metadata": {
    "id": "4Jor2SJ7rrTA",
    "outputId": "2d5d675f-0f77-4ab5-97d3-e06adaf8808c"
   },
   "outputs": [
    {
     "name": "stdout",
     "output_type": "stream",
     "text": [
      "<class 'pandas.core.frame.DataFrame'>\n",
      "Int64Index: 494 entries, 355 to 527\n",
      "Data columns (total 9 columns):\n",
      " #   Column             Non-Null Count  Dtype \n",
      "---  ------             --------------  ----- \n",
      " 0   processor_company  494 non-null    object\n",
      " 1   Ram_1              494 non-null    int32 \n",
      " 2   Ram_type           494 non-null    object\n",
      " 3   Processor          494 non-null    object\n",
      " 4   Brand              494 non-null    object\n",
      " 5   Operating_System   494 non-null    object\n",
      " 6   SSD                494 non-null    int32 \n",
      " 7   HDD                494 non-null    int32 \n",
      " 8   Touch_Screen       494 non-null    object\n",
      "dtypes: int32(3), object(6)\n",
      "memory usage: 32.8+ KB\n"
     ]
    }
   ],
   "source": [
    "X_train.info()"
   ]
  },
  {
   "cell_type": "code",
   "execution_count": 163,
   "metadata": {
    "colab": {
     "base_uri": "https://localhost:8080/",
     "height": 270
    },
    "id": "2dydqc2JcLrY",
    "outputId": "b81167fd-e740-4a32-e09b-d6098a84ac6f"
   },
   "outputs": [
    {
     "data": {
      "text/html": [
       "<div>\n",
       "<style scoped>\n",
       "    .dataframe tbody tr th:only-of-type {\n",
       "        vertical-align: middle;\n",
       "    }\n",
       "\n",
       "    .dataframe tbody tr th {\n",
       "        vertical-align: top;\n",
       "    }\n",
       "\n",
       "    .dataframe thead th {\n",
       "        text-align: right;\n",
       "    }\n",
       "</style>\n",
       "<table border=\"1\" class=\"dataframe\">\n",
       "  <thead>\n",
       "    <tr style=\"text-align: right;\">\n",
       "      <th></th>\n",
       "      <th>processor_company</th>\n",
       "      <th>Ram_type</th>\n",
       "      <th>Processor</th>\n",
       "      <th>Brand</th>\n",
       "      <th>Operating_System</th>\n",
       "      <th>Touch_Screen</th>\n",
       "    </tr>\n",
       "  </thead>\n",
       "  <tbody>\n",
       "    <tr>\n",
       "      <th>355</th>\n",
       "      <td>Intel</td>\n",
       "      <td>DDR4</td>\n",
       "      <td>i3</td>\n",
       "      <td>DELL</td>\n",
       "      <td>win10</td>\n",
       "      <td>no</td>\n",
       "    </tr>\n",
       "    <tr>\n",
       "      <th>672</th>\n",
       "      <td>Intel</td>\n",
       "      <td>DDR4</td>\n",
       "      <td>i3</td>\n",
       "      <td>ASUS</td>\n",
       "      <td>win10</td>\n",
       "      <td>no</td>\n",
       "    </tr>\n",
       "    <tr>\n",
       "      <th>718</th>\n",
       "      <td>Intel</td>\n",
       "      <td>LPDDR5</td>\n",
       "      <td>i7</td>\n",
       "      <td>ASUS</td>\n",
       "      <td>win11</td>\n",
       "      <td>yes</td>\n",
       "    </tr>\n",
       "    <tr>\n",
       "      <th>661</th>\n",
       "      <td>AMD</td>\n",
       "      <td>DDR4</td>\n",
       "      <td>r7</td>\n",
       "      <td>ASUS</td>\n",
       "      <td>win11</td>\n",
       "      <td>no</td>\n",
       "    </tr>\n",
       "    <tr>\n",
       "      <th>112</th>\n",
       "      <td>AMD</td>\n",
       "      <td>DDR4</td>\n",
       "      <td>r7</td>\n",
       "      <td>MSI</td>\n",
       "      <td>win11</td>\n",
       "      <td>no</td>\n",
       "    </tr>\n",
       "  </tbody>\n",
       "</table>\n",
       "</div>"
      ],
      "text/plain": [
       "    processor_company Ram_type Processor Brand Operating_System Touch_Screen\n",
       "355             Intel     DDR4        i3  DELL            win10           no\n",
       "672             Intel     DDR4        i3  ASUS            win10           no\n",
       "718             Intel   LPDDR5        i7  ASUS            win11          yes\n",
       "661               AMD     DDR4        r7  ASUS            win11           no\n",
       "112               AMD     DDR4        r7   MSI            win11           no"
      ]
     },
     "execution_count": 163,
     "metadata": {},
     "output_type": "execute_result"
    }
   ],
   "source": [
    "X_train_cat = X_train.select_dtypes(include=['object'])\n",
    "\n",
    "X_train_cat.head()"
   ]
  },
  {
   "cell_type": "code",
   "execution_count": 164,
   "metadata": {
    "colab": {
     "base_uri": "https://localhost:8080/",
     "height": 206
    },
    "id": "MbG_wYBqcTuN",
    "outputId": "b26b5889-1808-4ab5-a10d-a4724610c06b"
   },
   "outputs": [
    {
     "data": {
      "text/html": [
       "<div>\n",
       "<style scoped>\n",
       "    .dataframe tbody tr th:only-of-type {\n",
       "        vertical-align: middle;\n",
       "    }\n",
       "\n",
       "    .dataframe tbody tr th {\n",
       "        vertical-align: top;\n",
       "    }\n",
       "\n",
       "    .dataframe thead th {\n",
       "        text-align: right;\n",
       "    }\n",
       "</style>\n",
       "<table border=\"1\" class=\"dataframe\">\n",
       "  <thead>\n",
       "    <tr style=\"text-align: right;\">\n",
       "      <th></th>\n",
       "      <th>Ram_1</th>\n",
       "      <th>SSD</th>\n",
       "      <th>HDD</th>\n",
       "    </tr>\n",
       "  </thead>\n",
       "  <tbody>\n",
       "    <tr>\n",
       "      <th>355</th>\n",
       "      <td>8</td>\n",
       "      <td>512</td>\n",
       "      <td>0</td>\n",
       "    </tr>\n",
       "    <tr>\n",
       "      <th>672</th>\n",
       "      <td>8</td>\n",
       "      <td>0</td>\n",
       "      <td>1020</td>\n",
       "    </tr>\n",
       "    <tr>\n",
       "      <th>718</th>\n",
       "      <td>16</td>\n",
       "      <td>512</td>\n",
       "      <td>0</td>\n",
       "    </tr>\n",
       "    <tr>\n",
       "      <th>661</th>\n",
       "      <td>16</td>\n",
       "      <td>1020</td>\n",
       "      <td>0</td>\n",
       "    </tr>\n",
       "    <tr>\n",
       "      <th>112</th>\n",
       "      <td>8</td>\n",
       "      <td>512</td>\n",
       "      <td>0</td>\n",
       "    </tr>\n",
       "  </tbody>\n",
       "</table>\n",
       "</div>"
      ],
      "text/plain": [
       "     Ram_1   SSD   HDD\n",
       "355      8   512     0\n",
       "672      8     0  1020\n",
       "718     16   512     0\n",
       "661     16  1020     0\n",
       "112      8   512     0"
      ]
     },
     "execution_count": 164,
     "metadata": {},
     "output_type": "execute_result"
    }
   ],
   "source": [
    "X_train_num = X_train.select_dtypes(include=['int'])\n",
    "\n",
    "X_train_num.head()"
   ]
  },
  {
   "cell_type": "code",
   "execution_count": 165,
   "metadata": {
    "colab": {
     "base_uri": "https://localhost:8080/",
     "height": 206
    },
    "id": "MOLLUF7Pcfns",
    "outputId": "5d3bc9b9-fa8a-48e2-d897-92a3f620411f"
   },
   "outputs": [
    {
     "data": {
      "text/html": [
       "<div>\n",
       "<style scoped>\n",
       "    .dataframe tbody tr th:only-of-type {\n",
       "        vertical-align: middle;\n",
       "    }\n",
       "\n",
       "    .dataframe tbody tr th {\n",
       "        vertical-align: top;\n",
       "    }\n",
       "\n",
       "    .dataframe thead th {\n",
       "        text-align: right;\n",
       "    }\n",
       "</style>\n",
       "<table border=\"1\" class=\"dataframe\">\n",
       "  <thead>\n",
       "    <tr style=\"text-align: right;\">\n",
       "      <th></th>\n",
       "      <th>Ram_1</th>\n",
       "      <th>SSD</th>\n",
       "      <th>HDD</th>\n",
       "    </tr>\n",
       "  </thead>\n",
       "  <tbody>\n",
       "    <tr>\n",
       "      <th>355</th>\n",
       "      <td>-0.608740</td>\n",
       "      <td>-0.209489</td>\n",
       "      <td>-0.280362</td>\n",
       "    </tr>\n",
       "    <tr>\n",
       "      <th>672</th>\n",
       "      <td>-0.608740</td>\n",
       "      <td>-1.812200</td>\n",
       "      <td>3.566822</td>\n",
       "    </tr>\n",
       "    <tr>\n",
       "      <th>718</th>\n",
       "      <td>0.879961</td>\n",
       "      <td>-0.209489</td>\n",
       "      <td>-0.280362</td>\n",
       "    </tr>\n",
       "    <tr>\n",
       "      <th>661</th>\n",
       "      <td>0.879961</td>\n",
       "      <td>1.380701</td>\n",
       "      <td>-0.280362</td>\n",
       "    </tr>\n",
       "    <tr>\n",
       "      <th>112</th>\n",
       "      <td>-0.608740</td>\n",
       "      <td>-0.209489</td>\n",
       "      <td>-0.280362</td>\n",
       "    </tr>\n",
       "  </tbody>\n",
       "</table>\n",
       "</div>"
      ],
      "text/plain": [
       "        Ram_1       SSD       HDD\n",
       "355 -0.608740 -0.209489 -0.280362\n",
       "672 -0.608740 -1.812200  3.566822\n",
       "718  0.879961 -0.209489 -0.280362\n",
       "661  0.879961  1.380701 -0.280362\n",
       "112 -0.608740 -0.209489 -0.280362"
      ]
     },
     "execution_count": 165,
     "metadata": {},
     "output_type": "execute_result"
    }
   ],
   "source": [
    "# scaling the numerical features\n",
    "from sklearn.preprocessing import StandardScaler\n",
    "\n",
    "scaler = StandardScaler()\n",
    "\n",
    "# column names are (annoyingly) lost after Scaling\n",
    "# (i.e. the dataframe is converted to a numpy ndarray)\n",
    "\n",
    "X_train_num_rescaled = pd.DataFrame(scaler.fit_transform(X_train_num), \n",
    "                                    columns = X_train_num.columns, \n",
    "                                    index = X_train_num.index)\n",
    "\n",
    "X_train_num_rescaled.head()"
   ]
  },
  {
   "cell_type": "code",
   "execution_count": 166,
   "metadata": {
    "colab": {
     "base_uri": "https://localhost:8080/",
     "height": 299
    },
    "id": "swtuVzBScuS0",
    "outputId": "610696cd-18a5-4775-f9a3-be31197b0c9b"
   },
   "outputs": [
    {
     "data": {
      "text/html": [
       "<div>\n",
       "<style scoped>\n",
       "    .dataframe tbody tr th:only-of-type {\n",
       "        vertical-align: middle;\n",
       "    }\n",
       "\n",
       "    .dataframe tbody tr th {\n",
       "        vertical-align: top;\n",
       "    }\n",
       "\n",
       "    .dataframe thead th {\n",
       "        text-align: right;\n",
       "    }\n",
       "</style>\n",
       "<table border=\"1\" class=\"dataframe\">\n",
       "  <thead>\n",
       "    <tr style=\"text-align: right;\">\n",
       "      <th></th>\n",
       "      <th>processor_company_Apple</th>\n",
       "      <th>processor_company_Intel</th>\n",
       "      <th>Ram_type_DDR5</th>\n",
       "      <th>Ram_type_LPDDR4</th>\n",
       "      <th>Ram_type_LPDDR4X</th>\n",
       "      <th>Ram_type_LPDDR5</th>\n",
       "      <th>Ram_type_Unified</th>\n",
       "      <th>Processor_Celeron</th>\n",
       "      <th>Processor_Dual</th>\n",
       "      <th>Processor_M1</th>\n",
       "      <th>...</th>\n",
       "      <th>Brand_Lenovo</th>\n",
       "      <th>Brand_MSI</th>\n",
       "      <th>Brand_RedmiBook</th>\n",
       "      <th>Brand_acer</th>\n",
       "      <th>Brand_realme</th>\n",
       "      <th>Operating_System_DOS</th>\n",
       "      <th>Operating_System_MacOS</th>\n",
       "      <th>Operating_System_win10</th>\n",
       "      <th>Operating_System_win11</th>\n",
       "      <th>Touch_Screen_yes</th>\n",
       "    </tr>\n",
       "  </thead>\n",
       "  <tbody>\n",
       "    <tr>\n",
       "      <th>355</th>\n",
       "      <td>0.0</td>\n",
       "      <td>1.0</td>\n",
       "      <td>0.0</td>\n",
       "      <td>0.0</td>\n",
       "      <td>0.0</td>\n",
       "      <td>0.0</td>\n",
       "      <td>0.0</td>\n",
       "      <td>0.0</td>\n",
       "      <td>0.0</td>\n",
       "      <td>0.0</td>\n",
       "      <td>...</td>\n",
       "      <td>0.0</td>\n",
       "      <td>0.0</td>\n",
       "      <td>0.0</td>\n",
       "      <td>0.0</td>\n",
       "      <td>0.0</td>\n",
       "      <td>0.0</td>\n",
       "      <td>0.0</td>\n",
       "      <td>1.0</td>\n",
       "      <td>0.0</td>\n",
       "      <td>0.0</td>\n",
       "    </tr>\n",
       "    <tr>\n",
       "      <th>672</th>\n",
       "      <td>0.0</td>\n",
       "      <td>1.0</td>\n",
       "      <td>0.0</td>\n",
       "      <td>0.0</td>\n",
       "      <td>0.0</td>\n",
       "      <td>0.0</td>\n",
       "      <td>0.0</td>\n",
       "      <td>0.0</td>\n",
       "      <td>0.0</td>\n",
       "      <td>0.0</td>\n",
       "      <td>...</td>\n",
       "      <td>0.0</td>\n",
       "      <td>0.0</td>\n",
       "      <td>0.0</td>\n",
       "      <td>0.0</td>\n",
       "      <td>0.0</td>\n",
       "      <td>0.0</td>\n",
       "      <td>0.0</td>\n",
       "      <td>1.0</td>\n",
       "      <td>0.0</td>\n",
       "      <td>0.0</td>\n",
       "    </tr>\n",
       "    <tr>\n",
       "      <th>718</th>\n",
       "      <td>0.0</td>\n",
       "      <td>1.0</td>\n",
       "      <td>0.0</td>\n",
       "      <td>0.0</td>\n",
       "      <td>0.0</td>\n",
       "      <td>1.0</td>\n",
       "      <td>0.0</td>\n",
       "      <td>0.0</td>\n",
       "      <td>0.0</td>\n",
       "      <td>0.0</td>\n",
       "      <td>...</td>\n",
       "      <td>0.0</td>\n",
       "      <td>0.0</td>\n",
       "      <td>0.0</td>\n",
       "      <td>0.0</td>\n",
       "      <td>0.0</td>\n",
       "      <td>0.0</td>\n",
       "      <td>0.0</td>\n",
       "      <td>0.0</td>\n",
       "      <td>1.0</td>\n",
       "      <td>1.0</td>\n",
       "    </tr>\n",
       "    <tr>\n",
       "      <th>661</th>\n",
       "      <td>0.0</td>\n",
       "      <td>0.0</td>\n",
       "      <td>0.0</td>\n",
       "      <td>0.0</td>\n",
       "      <td>0.0</td>\n",
       "      <td>0.0</td>\n",
       "      <td>0.0</td>\n",
       "      <td>0.0</td>\n",
       "      <td>0.0</td>\n",
       "      <td>0.0</td>\n",
       "      <td>...</td>\n",
       "      <td>0.0</td>\n",
       "      <td>0.0</td>\n",
       "      <td>0.0</td>\n",
       "      <td>0.0</td>\n",
       "      <td>0.0</td>\n",
       "      <td>0.0</td>\n",
       "      <td>0.0</td>\n",
       "      <td>0.0</td>\n",
       "      <td>1.0</td>\n",
       "      <td>0.0</td>\n",
       "    </tr>\n",
       "    <tr>\n",
       "      <th>112</th>\n",
       "      <td>0.0</td>\n",
       "      <td>0.0</td>\n",
       "      <td>0.0</td>\n",
       "      <td>0.0</td>\n",
       "      <td>0.0</td>\n",
       "      <td>0.0</td>\n",
       "      <td>0.0</td>\n",
       "      <td>0.0</td>\n",
       "      <td>0.0</td>\n",
       "      <td>0.0</td>\n",
       "      <td>...</td>\n",
       "      <td>0.0</td>\n",
       "      <td>1.0</td>\n",
       "      <td>0.0</td>\n",
       "      <td>0.0</td>\n",
       "      <td>0.0</td>\n",
       "      <td>0.0</td>\n",
       "      <td>0.0</td>\n",
       "      <td>0.0</td>\n",
       "      <td>1.0</td>\n",
       "      <td>0.0</td>\n",
       "    </tr>\n",
       "  </tbody>\n",
       "</table>\n",
       "<p>5 rows × 36 columns</p>\n",
       "</div>"
      ],
      "text/plain": [
       "     processor_company_Apple  processor_company_Intel  Ram_type_DDR5  \\\n",
       "355                      0.0                      1.0            0.0   \n",
       "672                      0.0                      1.0            0.0   \n",
       "718                      0.0                      1.0            0.0   \n",
       "661                      0.0                      0.0            0.0   \n",
       "112                      0.0                      0.0            0.0   \n",
       "\n",
       "     Ram_type_LPDDR4  Ram_type_LPDDR4X  Ram_type_LPDDR5  Ram_type_Unified  \\\n",
       "355              0.0               0.0              0.0               0.0   \n",
       "672              0.0               0.0              0.0               0.0   \n",
       "718              0.0               0.0              1.0               0.0   \n",
       "661              0.0               0.0              0.0               0.0   \n",
       "112              0.0               0.0              0.0               0.0   \n",
       "\n",
       "     Processor_Celeron  Processor_Dual  Processor_M1  ...  Brand_Lenovo  \\\n",
       "355                0.0             0.0           0.0  ...           0.0   \n",
       "672                0.0             0.0           0.0  ...           0.0   \n",
       "718                0.0             0.0           0.0  ...           0.0   \n",
       "661                0.0             0.0           0.0  ...           0.0   \n",
       "112                0.0             0.0           0.0  ...           0.0   \n",
       "\n",
       "     Brand_MSI  Brand_RedmiBook  Brand_acer  Brand_realme  \\\n",
       "355        0.0              0.0         0.0           0.0   \n",
       "672        0.0              0.0         0.0           0.0   \n",
       "718        0.0              0.0         0.0           0.0   \n",
       "661        0.0              0.0         0.0           0.0   \n",
       "112        1.0              0.0         0.0           0.0   \n",
       "\n",
       "     Operating_System_DOS  Operating_System_MacOS  Operating_System_win10  \\\n",
       "355                   0.0                     0.0                     1.0   \n",
       "672                   0.0                     0.0                     1.0   \n",
       "718                   0.0                     0.0                     0.0   \n",
       "661                   0.0                     0.0                     0.0   \n",
       "112                   0.0                     0.0                     0.0   \n",
       "\n",
       "     Operating_System_win11  Touch_Screen_yes  \n",
       "355                     0.0               0.0  \n",
       "672                     0.0               0.0  \n",
       "718                     1.0               1.0  \n",
       "661                     1.0               0.0  \n",
       "112                     1.0               0.0  \n",
       "\n",
       "[5 rows x 36 columns]"
      ]
     },
     "execution_count": 166,
     "metadata": {},
     "output_type": "execute_result"
    }
   ],
   "source": [
    "# OneHotEncoding the categorical features\n",
    "\n",
    "from sklearn.preprocessing import OneHotEncoder\n",
    "\n",
    "encoder = OneHotEncoder(drop='first', sparse=False)\n",
    "\n",
    "# column names are (annoyingly) lost after OneHotEncoding\n",
    "# (i.e. the dataframe is converted to a numpy ndarray)\n",
    "\n",
    "X_train_cat_ohe = pd.DataFrame(encoder.fit_transform(X_train_cat), \n",
    "                               columns=encoder.get_feature_names_out(X_train_cat.columns), \n",
    "                               index = X_train_cat.index)\n",
    "\n",
    "X_train_cat_ohe.head()"
   ]
  },
  {
   "cell_type": "code",
   "execution_count": 167,
   "metadata": {
    "colab": {
     "base_uri": "https://localhost:8080/",
     "height": 299
    },
    "id": "keFyRgsmc559",
    "outputId": "fda50c55-9a58-4bc5-c15a-2d51c5a1e846"
   },
   "outputs": [
    {
     "data": {
      "text/html": [
       "<div>\n",
       "<style scoped>\n",
       "    .dataframe tbody tr th:only-of-type {\n",
       "        vertical-align: middle;\n",
       "    }\n",
       "\n",
       "    .dataframe tbody tr th {\n",
       "        vertical-align: top;\n",
       "    }\n",
       "\n",
       "    .dataframe thead th {\n",
       "        text-align: right;\n",
       "    }\n",
       "</style>\n",
       "<table border=\"1\" class=\"dataframe\">\n",
       "  <thead>\n",
       "    <tr style=\"text-align: right;\">\n",
       "      <th></th>\n",
       "      <th>Ram_1</th>\n",
       "      <th>SSD</th>\n",
       "      <th>HDD</th>\n",
       "      <th>processor_company_Apple</th>\n",
       "      <th>processor_company_Intel</th>\n",
       "      <th>Ram_type_DDR5</th>\n",
       "      <th>Ram_type_LPDDR4</th>\n",
       "      <th>Ram_type_LPDDR4X</th>\n",
       "      <th>Ram_type_LPDDR5</th>\n",
       "      <th>Ram_type_Unified</th>\n",
       "      <th>...</th>\n",
       "      <th>Brand_Lenovo</th>\n",
       "      <th>Brand_MSI</th>\n",
       "      <th>Brand_RedmiBook</th>\n",
       "      <th>Brand_acer</th>\n",
       "      <th>Brand_realme</th>\n",
       "      <th>Operating_System_DOS</th>\n",
       "      <th>Operating_System_MacOS</th>\n",
       "      <th>Operating_System_win10</th>\n",
       "      <th>Operating_System_win11</th>\n",
       "      <th>Touch_Screen_yes</th>\n",
       "    </tr>\n",
       "  </thead>\n",
       "  <tbody>\n",
       "    <tr>\n",
       "      <th>355</th>\n",
       "      <td>-0.608740</td>\n",
       "      <td>-0.209489</td>\n",
       "      <td>-0.280362</td>\n",
       "      <td>0.0</td>\n",
       "      <td>1.0</td>\n",
       "      <td>0.0</td>\n",
       "      <td>0.0</td>\n",
       "      <td>0.0</td>\n",
       "      <td>0.0</td>\n",
       "      <td>0.0</td>\n",
       "      <td>...</td>\n",
       "      <td>0.0</td>\n",
       "      <td>0.0</td>\n",
       "      <td>0.0</td>\n",
       "      <td>0.0</td>\n",
       "      <td>0.0</td>\n",
       "      <td>0.0</td>\n",
       "      <td>0.0</td>\n",
       "      <td>1.0</td>\n",
       "      <td>0.0</td>\n",
       "      <td>0.0</td>\n",
       "    </tr>\n",
       "    <tr>\n",
       "      <th>672</th>\n",
       "      <td>-0.608740</td>\n",
       "      <td>-1.812200</td>\n",
       "      <td>3.566822</td>\n",
       "      <td>0.0</td>\n",
       "      <td>1.0</td>\n",
       "      <td>0.0</td>\n",
       "      <td>0.0</td>\n",
       "      <td>0.0</td>\n",
       "      <td>0.0</td>\n",
       "      <td>0.0</td>\n",
       "      <td>...</td>\n",
       "      <td>0.0</td>\n",
       "      <td>0.0</td>\n",
       "      <td>0.0</td>\n",
       "      <td>0.0</td>\n",
       "      <td>0.0</td>\n",
       "      <td>0.0</td>\n",
       "      <td>0.0</td>\n",
       "      <td>1.0</td>\n",
       "      <td>0.0</td>\n",
       "      <td>0.0</td>\n",
       "    </tr>\n",
       "    <tr>\n",
       "      <th>718</th>\n",
       "      <td>0.879961</td>\n",
       "      <td>-0.209489</td>\n",
       "      <td>-0.280362</td>\n",
       "      <td>0.0</td>\n",
       "      <td>1.0</td>\n",
       "      <td>0.0</td>\n",
       "      <td>0.0</td>\n",
       "      <td>0.0</td>\n",
       "      <td>1.0</td>\n",
       "      <td>0.0</td>\n",
       "      <td>...</td>\n",
       "      <td>0.0</td>\n",
       "      <td>0.0</td>\n",
       "      <td>0.0</td>\n",
       "      <td>0.0</td>\n",
       "      <td>0.0</td>\n",
       "      <td>0.0</td>\n",
       "      <td>0.0</td>\n",
       "      <td>0.0</td>\n",
       "      <td>1.0</td>\n",
       "      <td>1.0</td>\n",
       "    </tr>\n",
       "    <tr>\n",
       "      <th>661</th>\n",
       "      <td>0.879961</td>\n",
       "      <td>1.380701</td>\n",
       "      <td>-0.280362</td>\n",
       "      <td>0.0</td>\n",
       "      <td>0.0</td>\n",
       "      <td>0.0</td>\n",
       "      <td>0.0</td>\n",
       "      <td>0.0</td>\n",
       "      <td>0.0</td>\n",
       "      <td>0.0</td>\n",
       "      <td>...</td>\n",
       "      <td>0.0</td>\n",
       "      <td>0.0</td>\n",
       "      <td>0.0</td>\n",
       "      <td>0.0</td>\n",
       "      <td>0.0</td>\n",
       "      <td>0.0</td>\n",
       "      <td>0.0</td>\n",
       "      <td>0.0</td>\n",
       "      <td>1.0</td>\n",
       "      <td>0.0</td>\n",
       "    </tr>\n",
       "    <tr>\n",
       "      <th>112</th>\n",
       "      <td>-0.608740</td>\n",
       "      <td>-0.209489</td>\n",
       "      <td>-0.280362</td>\n",
       "      <td>0.0</td>\n",
       "      <td>0.0</td>\n",
       "      <td>0.0</td>\n",
       "      <td>0.0</td>\n",
       "      <td>0.0</td>\n",
       "      <td>0.0</td>\n",
       "      <td>0.0</td>\n",
       "      <td>...</td>\n",
       "      <td>0.0</td>\n",
       "      <td>1.0</td>\n",
       "      <td>0.0</td>\n",
       "      <td>0.0</td>\n",
       "      <td>0.0</td>\n",
       "      <td>0.0</td>\n",
       "      <td>0.0</td>\n",
       "      <td>0.0</td>\n",
       "      <td>1.0</td>\n",
       "      <td>0.0</td>\n",
       "    </tr>\n",
       "  </tbody>\n",
       "</table>\n",
       "<p>5 rows × 39 columns</p>\n",
       "</div>"
      ],
      "text/plain": [
       "        Ram_1       SSD       HDD  processor_company_Apple  \\\n",
       "355 -0.608740 -0.209489 -0.280362                      0.0   \n",
       "672 -0.608740 -1.812200  3.566822                      0.0   \n",
       "718  0.879961 -0.209489 -0.280362                      0.0   \n",
       "661  0.879961  1.380701 -0.280362                      0.0   \n",
       "112 -0.608740 -0.209489 -0.280362                      0.0   \n",
       "\n",
       "     processor_company_Intel  Ram_type_DDR5  Ram_type_LPDDR4  \\\n",
       "355                      1.0            0.0              0.0   \n",
       "672                      1.0            0.0              0.0   \n",
       "718                      1.0            0.0              0.0   \n",
       "661                      0.0            0.0              0.0   \n",
       "112                      0.0            0.0              0.0   \n",
       "\n",
       "     Ram_type_LPDDR4X  Ram_type_LPDDR5  Ram_type_Unified  ...  Brand_Lenovo  \\\n",
       "355               0.0              0.0               0.0  ...           0.0   \n",
       "672               0.0              0.0               0.0  ...           0.0   \n",
       "718               0.0              1.0               0.0  ...           0.0   \n",
       "661               0.0              0.0               0.0  ...           0.0   \n",
       "112               0.0              0.0               0.0  ...           0.0   \n",
       "\n",
       "     Brand_MSI  Brand_RedmiBook  Brand_acer  Brand_realme  \\\n",
       "355        0.0              0.0         0.0           0.0   \n",
       "672        0.0              0.0         0.0           0.0   \n",
       "718        0.0              0.0         0.0           0.0   \n",
       "661        0.0              0.0         0.0           0.0   \n",
       "112        1.0              0.0         0.0           0.0   \n",
       "\n",
       "     Operating_System_DOS  Operating_System_MacOS  Operating_System_win10  \\\n",
       "355                   0.0                     0.0                     1.0   \n",
       "672                   0.0                     0.0                     1.0   \n",
       "718                   0.0                     0.0                     0.0   \n",
       "661                   0.0                     0.0                     0.0   \n",
       "112                   0.0                     0.0                     0.0   \n",
       "\n",
       "     Operating_System_win11  Touch_Screen_yes  \n",
       "355                     0.0               0.0  \n",
       "672                     0.0               0.0  \n",
       "718                     1.0               1.0  \n",
       "661                     1.0               0.0  \n",
       "112                     1.0               0.0  \n",
       "\n",
       "[5 rows x 39 columns]"
      ]
     },
     "execution_count": 167,
     "metadata": {},
     "output_type": "execute_result"
    }
   ],
   "source": [
    "X_train_transformed = pd.concat([X_train_num_rescaled, X_train_cat_ohe], axis=1)\n",
    "\n",
    "X_train_transformed.head()"
   ]
  },
  {
   "cell_type": "code",
   "execution_count": 168,
   "metadata": {
    "colab": {
     "base_uri": "https://localhost:8080/",
     "height": 270
    },
    "id": "-xzw0kyLdZA8",
    "outputId": "bff71a2a-cb35-4b93-b7b8-ca8d36ce04d5"
   },
   "outputs": [
    {
     "data": {
      "text/html": [
       "<div>\n",
       "<style scoped>\n",
       "    .dataframe tbody tr th:only-of-type {\n",
       "        vertical-align: middle;\n",
       "    }\n",
       "\n",
       "    .dataframe tbody tr th {\n",
       "        vertical-align: top;\n",
       "    }\n",
       "\n",
       "    .dataframe thead th {\n",
       "        text-align: right;\n",
       "    }\n",
       "</style>\n",
       "<table border=\"1\" class=\"dataframe\">\n",
       "  <thead>\n",
       "    <tr style=\"text-align: right;\">\n",
       "      <th></th>\n",
       "      <th>processor_company</th>\n",
       "      <th>Ram_type</th>\n",
       "      <th>Processor</th>\n",
       "      <th>Brand</th>\n",
       "      <th>Operating_System</th>\n",
       "      <th>Touch_Screen</th>\n",
       "    </tr>\n",
       "  </thead>\n",
       "  <tbody>\n",
       "    <tr>\n",
       "      <th>576</th>\n",
       "      <td>Intel</td>\n",
       "      <td>DDR4</td>\n",
       "      <td>Pentium</td>\n",
       "      <td>DELL</td>\n",
       "      <td>win11</td>\n",
       "      <td>no</td>\n",
       "    </tr>\n",
       "    <tr>\n",
       "      <th>605</th>\n",
       "      <td>Intel</td>\n",
       "      <td>DDR5</td>\n",
       "      <td>i7</td>\n",
       "      <td>DELL</td>\n",
       "      <td>win11</td>\n",
       "      <td>no</td>\n",
       "    </tr>\n",
       "    <tr>\n",
       "      <th>699</th>\n",
       "      <td>AMD</td>\n",
       "      <td>DDR5</td>\n",
       "      <td>r7</td>\n",
       "      <td>ASUS</td>\n",
       "      <td>win11</td>\n",
       "      <td>no</td>\n",
       "    </tr>\n",
       "    <tr>\n",
       "      <th>153</th>\n",
       "      <td>Apple</td>\n",
       "      <td>Unified</td>\n",
       "      <td>M1P</td>\n",
       "      <td>APPLE</td>\n",
       "      <td>MacOS</td>\n",
       "      <td>no</td>\n",
       "    </tr>\n",
       "    <tr>\n",
       "      <th>443</th>\n",
       "      <td>Intel</td>\n",
       "      <td>DDR4</td>\n",
       "      <td>i7</td>\n",
       "      <td>MSI</td>\n",
       "      <td>win10</td>\n",
       "      <td>no</td>\n",
       "    </tr>\n",
       "  </tbody>\n",
       "</table>\n",
       "</div>"
      ],
      "text/plain": [
       "    processor_company Ram_type Processor  Brand Operating_System Touch_Screen\n",
       "576             Intel     DDR4   Pentium   DELL            win11           no\n",
       "605             Intel     DDR5        i7   DELL            win11           no\n",
       "699               AMD     DDR5        r7   ASUS            win11           no\n",
       "153             Apple  Unified       M1P  APPLE            MacOS           no\n",
       "443             Intel     DDR4        i7    MSI            win10           no"
      ]
     },
     "execution_count": 168,
     "metadata": {},
     "output_type": "execute_result"
    }
   ],
   "source": [
    "X_test_cat = X_test.select_dtypes(include=['object'])\n",
    "\n",
    "X_test_cat.head()"
   ]
  },
  {
   "cell_type": "code",
   "execution_count": 169,
   "metadata": {
    "colab": {
     "base_uri": "https://localhost:8080/",
     "height": 206
    },
    "id": "Dq6iDd0EdksA",
    "outputId": "2ce5240d-904e-4886-d128-67452c2d139f"
   },
   "outputs": [
    {
     "data": {
      "text/html": [
       "<div>\n",
       "<style scoped>\n",
       "    .dataframe tbody tr th:only-of-type {\n",
       "        vertical-align: middle;\n",
       "    }\n",
       "\n",
       "    .dataframe tbody tr th {\n",
       "        vertical-align: top;\n",
       "    }\n",
       "\n",
       "    .dataframe thead th {\n",
       "        text-align: right;\n",
       "    }\n",
       "</style>\n",
       "<table border=\"1\" class=\"dataframe\">\n",
       "  <thead>\n",
       "    <tr style=\"text-align: right;\">\n",
       "      <th></th>\n",
       "      <th>Ram_1</th>\n",
       "      <th>SSD</th>\n",
       "      <th>HDD</th>\n",
       "    </tr>\n",
       "  </thead>\n",
       "  <tbody>\n",
       "    <tr>\n",
       "      <th>576</th>\n",
       "      <td>8</td>\n",
       "      <td>256</td>\n",
       "      <td>0</td>\n",
       "    </tr>\n",
       "    <tr>\n",
       "      <th>605</th>\n",
       "      <td>16</td>\n",
       "      <td>1020</td>\n",
       "      <td>0</td>\n",
       "    </tr>\n",
       "    <tr>\n",
       "      <th>699</th>\n",
       "      <td>16</td>\n",
       "      <td>1020</td>\n",
       "      <td>0</td>\n",
       "    </tr>\n",
       "    <tr>\n",
       "      <th>153</th>\n",
       "      <td>16</td>\n",
       "      <td>1020</td>\n",
       "      <td>0</td>\n",
       "    </tr>\n",
       "    <tr>\n",
       "      <th>443</th>\n",
       "      <td>16</td>\n",
       "      <td>512</td>\n",
       "      <td>0</td>\n",
       "    </tr>\n",
       "  </tbody>\n",
       "</table>\n",
       "</div>"
      ],
      "text/plain": [
       "     Ram_1   SSD  HDD\n",
       "576      8   256    0\n",
       "605     16  1020    0\n",
       "699     16  1020    0\n",
       "153     16  1020    0\n",
       "443     16   512    0"
      ]
     },
     "execution_count": 169,
     "metadata": {},
     "output_type": "execute_result"
    }
   ],
   "source": [
    "X_test_num = X_test.select_dtypes(include=['int', 'float'])\n",
    "\n",
    "X_test_num.head()"
   ]
  },
  {
   "cell_type": "code",
   "execution_count": 170,
   "metadata": {
    "colab": {
     "base_uri": "https://localhost:8080/",
     "height": 206
    },
    "id": "ax7RmvB7dmkT",
    "outputId": "37fbf4d9-7bdb-4936-c98d-e9a541f09a66"
   },
   "outputs": [
    {
     "data": {
      "text/html": [
       "<div>\n",
       "<style scoped>\n",
       "    .dataframe tbody tr th:only-of-type {\n",
       "        vertical-align: middle;\n",
       "    }\n",
       "\n",
       "    .dataframe tbody tr th {\n",
       "        vertical-align: top;\n",
       "    }\n",
       "\n",
       "    .dataframe thead th {\n",
       "        text-align: right;\n",
       "    }\n",
       "</style>\n",
       "<table border=\"1\" class=\"dataframe\">\n",
       "  <thead>\n",
       "    <tr style=\"text-align: right;\">\n",
       "      <th></th>\n",
       "      <th>Ram_1</th>\n",
       "      <th>SSD</th>\n",
       "      <th>HDD</th>\n",
       "    </tr>\n",
       "  </thead>\n",
       "  <tbody>\n",
       "    <tr>\n",
       "      <th>576</th>\n",
       "      <td>-0.608740</td>\n",
       "      <td>-1.010844</td>\n",
       "      <td>-0.280362</td>\n",
       "    </tr>\n",
       "    <tr>\n",
       "      <th>605</th>\n",
       "      <td>0.879961</td>\n",
       "      <td>1.380701</td>\n",
       "      <td>-0.280362</td>\n",
       "    </tr>\n",
       "    <tr>\n",
       "      <th>699</th>\n",
       "      <td>0.879961</td>\n",
       "      <td>1.380701</td>\n",
       "      <td>-0.280362</td>\n",
       "    </tr>\n",
       "    <tr>\n",
       "      <th>153</th>\n",
       "      <td>0.879961</td>\n",
       "      <td>1.380701</td>\n",
       "      <td>-0.280362</td>\n",
       "    </tr>\n",
       "    <tr>\n",
       "      <th>443</th>\n",
       "      <td>0.879961</td>\n",
       "      <td>-0.209489</td>\n",
       "      <td>-0.280362</td>\n",
       "    </tr>\n",
       "  </tbody>\n",
       "</table>\n",
       "</div>"
      ],
      "text/plain": [
       "        Ram_1       SSD       HDD\n",
       "576 -0.608740 -1.010844 -0.280362\n",
       "605  0.879961  1.380701 -0.280362\n",
       "699  0.879961  1.380701 -0.280362\n",
       "153  0.879961  1.380701 -0.280362\n",
       "443  0.879961 -0.209489 -0.280362"
      ]
     },
     "execution_count": 170,
     "metadata": {},
     "output_type": "execute_result"
    }
   ],
   "source": [
    "X_test_num_rescaled = pd.DataFrame(scaler.transform(X_test_num), \n",
    "                                   columns = X_test_num.columns, \n",
    "                                   index = X_test_num.index)\n",
    "\n",
    "X_test_num_rescaled.head()"
   ]
  },
  {
   "cell_type": "code",
   "execution_count": 171,
   "metadata": {
    "colab": {
     "base_uri": "https://localhost:8080/"
    },
    "id": "DLUX39oZeUBM",
    "outputId": "01f8a0d1-c8f2-430c-d6f7-0ed4ce6b0e09"
   },
   "outputs": [
    {
     "data": {
      "text/plain": [
       "DDR4       159\n",
       "DDR5        29\n",
       "LPDDR4X     19\n",
       "LPDDR5       3\n",
       "Unified      2\n",
       "LPDDR4       1\n",
       "Name: Ram_type, dtype: int64"
      ]
     },
     "execution_count": 171,
     "metadata": {},
     "output_type": "execute_result"
    }
   ],
   "source": [
    "X_test_cat.Ram_type.value_counts()"
   ]
  },
  {
   "cell_type": "code",
   "execution_count": 172,
   "metadata": {
    "colab": {
     "base_uri": "https://localhost:8080/",
     "height": 299
    },
    "id": "2vr2q7_TdpDX",
    "outputId": "023274eb-0851-4a44-f055-53fe0237ffbc"
   },
   "outputs": [
    {
     "data": {
      "text/html": [
       "<div>\n",
       "<style scoped>\n",
       "    .dataframe tbody tr th:only-of-type {\n",
       "        vertical-align: middle;\n",
       "    }\n",
       "\n",
       "    .dataframe tbody tr th {\n",
       "        vertical-align: top;\n",
       "    }\n",
       "\n",
       "    .dataframe thead th {\n",
       "        text-align: right;\n",
       "    }\n",
       "</style>\n",
       "<table border=\"1\" class=\"dataframe\">\n",
       "  <thead>\n",
       "    <tr style=\"text-align: right;\">\n",
       "      <th></th>\n",
       "      <th>processor_company_Apple</th>\n",
       "      <th>processor_company_Intel</th>\n",
       "      <th>Ram_type_DDR5</th>\n",
       "      <th>Ram_type_LPDDR4</th>\n",
       "      <th>Ram_type_LPDDR4X</th>\n",
       "      <th>Ram_type_LPDDR5</th>\n",
       "      <th>Ram_type_Unified</th>\n",
       "      <th>Processor_Celeron</th>\n",
       "      <th>Processor_Dual</th>\n",
       "      <th>Processor_M1</th>\n",
       "      <th>...</th>\n",
       "      <th>Brand_Lenovo</th>\n",
       "      <th>Brand_MSI</th>\n",
       "      <th>Brand_RedmiBook</th>\n",
       "      <th>Brand_acer</th>\n",
       "      <th>Brand_realme</th>\n",
       "      <th>Operating_System_DOS</th>\n",
       "      <th>Operating_System_MacOS</th>\n",
       "      <th>Operating_System_win10</th>\n",
       "      <th>Operating_System_win11</th>\n",
       "      <th>Touch_Screen_yes</th>\n",
       "    </tr>\n",
       "  </thead>\n",
       "  <tbody>\n",
       "    <tr>\n",
       "      <th>576</th>\n",
       "      <td>0.0</td>\n",
       "      <td>1.0</td>\n",
       "      <td>0.0</td>\n",
       "      <td>0.0</td>\n",
       "      <td>0.0</td>\n",
       "      <td>0.0</td>\n",
       "      <td>0.0</td>\n",
       "      <td>0.0</td>\n",
       "      <td>0.0</td>\n",
       "      <td>0.0</td>\n",
       "      <td>...</td>\n",
       "      <td>0.0</td>\n",
       "      <td>0.0</td>\n",
       "      <td>0.0</td>\n",
       "      <td>0.0</td>\n",
       "      <td>0.0</td>\n",
       "      <td>0.0</td>\n",
       "      <td>0.0</td>\n",
       "      <td>0.0</td>\n",
       "      <td>1.0</td>\n",
       "      <td>0.0</td>\n",
       "    </tr>\n",
       "    <tr>\n",
       "      <th>605</th>\n",
       "      <td>0.0</td>\n",
       "      <td>1.0</td>\n",
       "      <td>1.0</td>\n",
       "      <td>0.0</td>\n",
       "      <td>0.0</td>\n",
       "      <td>0.0</td>\n",
       "      <td>0.0</td>\n",
       "      <td>0.0</td>\n",
       "      <td>0.0</td>\n",
       "      <td>0.0</td>\n",
       "      <td>...</td>\n",
       "      <td>0.0</td>\n",
       "      <td>0.0</td>\n",
       "      <td>0.0</td>\n",
       "      <td>0.0</td>\n",
       "      <td>0.0</td>\n",
       "      <td>0.0</td>\n",
       "      <td>0.0</td>\n",
       "      <td>0.0</td>\n",
       "      <td>1.0</td>\n",
       "      <td>0.0</td>\n",
       "    </tr>\n",
       "    <tr>\n",
       "      <th>699</th>\n",
       "      <td>0.0</td>\n",
       "      <td>0.0</td>\n",
       "      <td>1.0</td>\n",
       "      <td>0.0</td>\n",
       "      <td>0.0</td>\n",
       "      <td>0.0</td>\n",
       "      <td>0.0</td>\n",
       "      <td>0.0</td>\n",
       "      <td>0.0</td>\n",
       "      <td>0.0</td>\n",
       "      <td>...</td>\n",
       "      <td>0.0</td>\n",
       "      <td>0.0</td>\n",
       "      <td>0.0</td>\n",
       "      <td>0.0</td>\n",
       "      <td>0.0</td>\n",
       "      <td>0.0</td>\n",
       "      <td>0.0</td>\n",
       "      <td>0.0</td>\n",
       "      <td>1.0</td>\n",
       "      <td>0.0</td>\n",
       "    </tr>\n",
       "    <tr>\n",
       "      <th>153</th>\n",
       "      <td>1.0</td>\n",
       "      <td>0.0</td>\n",
       "      <td>0.0</td>\n",
       "      <td>0.0</td>\n",
       "      <td>0.0</td>\n",
       "      <td>0.0</td>\n",
       "      <td>1.0</td>\n",
       "      <td>0.0</td>\n",
       "      <td>0.0</td>\n",
       "      <td>0.0</td>\n",
       "      <td>...</td>\n",
       "      <td>0.0</td>\n",
       "      <td>0.0</td>\n",
       "      <td>0.0</td>\n",
       "      <td>0.0</td>\n",
       "      <td>0.0</td>\n",
       "      <td>0.0</td>\n",
       "      <td>1.0</td>\n",
       "      <td>0.0</td>\n",
       "      <td>0.0</td>\n",
       "      <td>0.0</td>\n",
       "    </tr>\n",
       "    <tr>\n",
       "      <th>443</th>\n",
       "      <td>0.0</td>\n",
       "      <td>1.0</td>\n",
       "      <td>0.0</td>\n",
       "      <td>0.0</td>\n",
       "      <td>0.0</td>\n",
       "      <td>0.0</td>\n",
       "      <td>0.0</td>\n",
       "      <td>0.0</td>\n",
       "      <td>0.0</td>\n",
       "      <td>0.0</td>\n",
       "      <td>...</td>\n",
       "      <td>0.0</td>\n",
       "      <td>1.0</td>\n",
       "      <td>0.0</td>\n",
       "      <td>0.0</td>\n",
       "      <td>0.0</td>\n",
       "      <td>0.0</td>\n",
       "      <td>0.0</td>\n",
       "      <td>1.0</td>\n",
       "      <td>0.0</td>\n",
       "      <td>0.0</td>\n",
       "    </tr>\n",
       "  </tbody>\n",
       "</table>\n",
       "<p>5 rows × 36 columns</p>\n",
       "</div>"
      ],
      "text/plain": [
       "     processor_company_Apple  processor_company_Intel  Ram_type_DDR5  \\\n",
       "576                      0.0                      1.0            0.0   \n",
       "605                      0.0                      1.0            1.0   \n",
       "699                      0.0                      0.0            1.0   \n",
       "153                      1.0                      0.0            0.0   \n",
       "443                      0.0                      1.0            0.0   \n",
       "\n",
       "     Ram_type_LPDDR4  Ram_type_LPDDR4X  Ram_type_LPDDR5  Ram_type_Unified  \\\n",
       "576              0.0               0.0              0.0               0.0   \n",
       "605              0.0               0.0              0.0               0.0   \n",
       "699              0.0               0.0              0.0               0.0   \n",
       "153              0.0               0.0              0.0               1.0   \n",
       "443              0.0               0.0              0.0               0.0   \n",
       "\n",
       "     Processor_Celeron  Processor_Dual  Processor_M1  ...  Brand_Lenovo  \\\n",
       "576                0.0             0.0           0.0  ...           0.0   \n",
       "605                0.0             0.0           0.0  ...           0.0   \n",
       "699                0.0             0.0           0.0  ...           0.0   \n",
       "153                0.0             0.0           0.0  ...           0.0   \n",
       "443                0.0             0.0           0.0  ...           0.0   \n",
       "\n",
       "     Brand_MSI  Brand_RedmiBook  Brand_acer  Brand_realme  \\\n",
       "576        0.0              0.0         0.0           0.0   \n",
       "605        0.0              0.0         0.0           0.0   \n",
       "699        0.0              0.0         0.0           0.0   \n",
       "153        0.0              0.0         0.0           0.0   \n",
       "443        1.0              0.0         0.0           0.0   \n",
       "\n",
       "     Operating_System_DOS  Operating_System_MacOS  Operating_System_win10  \\\n",
       "576                   0.0                     0.0                     0.0   \n",
       "605                   0.0                     0.0                     0.0   \n",
       "699                   0.0                     0.0                     0.0   \n",
       "153                   0.0                     1.0                     0.0   \n",
       "443                   0.0                     0.0                     1.0   \n",
       "\n",
       "     Operating_System_win11  Touch_Screen_yes  \n",
       "576                     1.0               0.0  \n",
       "605                     1.0               0.0  \n",
       "699                     1.0               0.0  \n",
       "153                     0.0               0.0  \n",
       "443                     0.0               0.0  \n",
       "\n",
       "[5 rows x 36 columns]"
      ]
     },
     "execution_count": 172,
     "metadata": {},
     "output_type": "execute_result"
    }
   ],
   "source": [
    "X_test_cat_ohe = pd.DataFrame(encoder.transform(X_test_cat), \n",
    "                               columns=encoder.get_feature_names_out(X_test_cat.columns), \n",
    "                               index = X_test_cat.index)\n",
    "\n",
    "X_test_cat_ohe.head()"
   ]
  },
  {
   "cell_type": "code",
   "execution_count": 173,
   "metadata": {
    "colab": {
     "base_uri": "https://localhost:8080/",
     "height": 299
    },
    "id": "FMVChIzzeGYX",
    "outputId": "b964f963-dc50-4e36-a34a-ac9d9daf7e0d"
   },
   "outputs": [
    {
     "data": {
      "text/html": [
       "<div>\n",
       "<style scoped>\n",
       "    .dataframe tbody tr th:only-of-type {\n",
       "        vertical-align: middle;\n",
       "    }\n",
       "\n",
       "    .dataframe tbody tr th {\n",
       "        vertical-align: top;\n",
       "    }\n",
       "\n",
       "    .dataframe thead th {\n",
       "        text-align: right;\n",
       "    }\n",
       "</style>\n",
       "<table border=\"1\" class=\"dataframe\">\n",
       "  <thead>\n",
       "    <tr style=\"text-align: right;\">\n",
       "      <th></th>\n",
       "      <th>Ram_1</th>\n",
       "      <th>SSD</th>\n",
       "      <th>HDD</th>\n",
       "      <th>processor_company_Apple</th>\n",
       "      <th>processor_company_Intel</th>\n",
       "      <th>Ram_type_DDR5</th>\n",
       "      <th>Ram_type_LPDDR4</th>\n",
       "      <th>Ram_type_LPDDR4X</th>\n",
       "      <th>Ram_type_LPDDR5</th>\n",
       "      <th>Ram_type_Unified</th>\n",
       "      <th>...</th>\n",
       "      <th>Brand_Lenovo</th>\n",
       "      <th>Brand_MSI</th>\n",
       "      <th>Brand_RedmiBook</th>\n",
       "      <th>Brand_acer</th>\n",
       "      <th>Brand_realme</th>\n",
       "      <th>Operating_System_DOS</th>\n",
       "      <th>Operating_System_MacOS</th>\n",
       "      <th>Operating_System_win10</th>\n",
       "      <th>Operating_System_win11</th>\n",
       "      <th>Touch_Screen_yes</th>\n",
       "    </tr>\n",
       "  </thead>\n",
       "  <tbody>\n",
       "    <tr>\n",
       "      <th>576</th>\n",
       "      <td>-0.608740</td>\n",
       "      <td>-1.010844</td>\n",
       "      <td>-0.280362</td>\n",
       "      <td>0.0</td>\n",
       "      <td>1.0</td>\n",
       "      <td>0.0</td>\n",
       "      <td>0.0</td>\n",
       "      <td>0.0</td>\n",
       "      <td>0.0</td>\n",
       "      <td>0.0</td>\n",
       "      <td>...</td>\n",
       "      <td>0.0</td>\n",
       "      <td>0.0</td>\n",
       "      <td>0.0</td>\n",
       "      <td>0.0</td>\n",
       "      <td>0.0</td>\n",
       "      <td>0.0</td>\n",
       "      <td>0.0</td>\n",
       "      <td>0.0</td>\n",
       "      <td>1.0</td>\n",
       "      <td>0.0</td>\n",
       "    </tr>\n",
       "    <tr>\n",
       "      <th>605</th>\n",
       "      <td>0.879961</td>\n",
       "      <td>1.380701</td>\n",
       "      <td>-0.280362</td>\n",
       "      <td>0.0</td>\n",
       "      <td>1.0</td>\n",
       "      <td>1.0</td>\n",
       "      <td>0.0</td>\n",
       "      <td>0.0</td>\n",
       "      <td>0.0</td>\n",
       "      <td>0.0</td>\n",
       "      <td>...</td>\n",
       "      <td>0.0</td>\n",
       "      <td>0.0</td>\n",
       "      <td>0.0</td>\n",
       "      <td>0.0</td>\n",
       "      <td>0.0</td>\n",
       "      <td>0.0</td>\n",
       "      <td>0.0</td>\n",
       "      <td>0.0</td>\n",
       "      <td>1.0</td>\n",
       "      <td>0.0</td>\n",
       "    </tr>\n",
       "    <tr>\n",
       "      <th>699</th>\n",
       "      <td>0.879961</td>\n",
       "      <td>1.380701</td>\n",
       "      <td>-0.280362</td>\n",
       "      <td>0.0</td>\n",
       "      <td>0.0</td>\n",
       "      <td>1.0</td>\n",
       "      <td>0.0</td>\n",
       "      <td>0.0</td>\n",
       "      <td>0.0</td>\n",
       "      <td>0.0</td>\n",
       "      <td>...</td>\n",
       "      <td>0.0</td>\n",
       "      <td>0.0</td>\n",
       "      <td>0.0</td>\n",
       "      <td>0.0</td>\n",
       "      <td>0.0</td>\n",
       "      <td>0.0</td>\n",
       "      <td>0.0</td>\n",
       "      <td>0.0</td>\n",
       "      <td>1.0</td>\n",
       "      <td>0.0</td>\n",
       "    </tr>\n",
       "    <tr>\n",
       "      <th>153</th>\n",
       "      <td>0.879961</td>\n",
       "      <td>1.380701</td>\n",
       "      <td>-0.280362</td>\n",
       "      <td>1.0</td>\n",
       "      <td>0.0</td>\n",
       "      <td>0.0</td>\n",
       "      <td>0.0</td>\n",
       "      <td>0.0</td>\n",
       "      <td>0.0</td>\n",
       "      <td>1.0</td>\n",
       "      <td>...</td>\n",
       "      <td>0.0</td>\n",
       "      <td>0.0</td>\n",
       "      <td>0.0</td>\n",
       "      <td>0.0</td>\n",
       "      <td>0.0</td>\n",
       "      <td>0.0</td>\n",
       "      <td>1.0</td>\n",
       "      <td>0.0</td>\n",
       "      <td>0.0</td>\n",
       "      <td>0.0</td>\n",
       "    </tr>\n",
       "    <tr>\n",
       "      <th>443</th>\n",
       "      <td>0.879961</td>\n",
       "      <td>-0.209489</td>\n",
       "      <td>-0.280362</td>\n",
       "      <td>0.0</td>\n",
       "      <td>1.0</td>\n",
       "      <td>0.0</td>\n",
       "      <td>0.0</td>\n",
       "      <td>0.0</td>\n",
       "      <td>0.0</td>\n",
       "      <td>0.0</td>\n",
       "      <td>...</td>\n",
       "      <td>0.0</td>\n",
       "      <td>1.0</td>\n",
       "      <td>0.0</td>\n",
       "      <td>0.0</td>\n",
       "      <td>0.0</td>\n",
       "      <td>0.0</td>\n",
       "      <td>0.0</td>\n",
       "      <td>1.0</td>\n",
       "      <td>0.0</td>\n",
       "      <td>0.0</td>\n",
       "    </tr>\n",
       "  </tbody>\n",
       "</table>\n",
       "<p>5 rows × 39 columns</p>\n",
       "</div>"
      ],
      "text/plain": [
       "        Ram_1       SSD       HDD  processor_company_Apple  \\\n",
       "576 -0.608740 -1.010844 -0.280362                      0.0   \n",
       "605  0.879961  1.380701 -0.280362                      0.0   \n",
       "699  0.879961  1.380701 -0.280362                      0.0   \n",
       "153  0.879961  1.380701 -0.280362                      1.0   \n",
       "443  0.879961 -0.209489 -0.280362                      0.0   \n",
       "\n",
       "     processor_company_Intel  Ram_type_DDR5  Ram_type_LPDDR4  \\\n",
       "576                      1.0            0.0              0.0   \n",
       "605                      1.0            1.0              0.0   \n",
       "699                      0.0            1.0              0.0   \n",
       "153                      0.0            0.0              0.0   \n",
       "443                      1.0            0.0              0.0   \n",
       "\n",
       "     Ram_type_LPDDR4X  Ram_type_LPDDR5  Ram_type_Unified  ...  Brand_Lenovo  \\\n",
       "576               0.0              0.0               0.0  ...           0.0   \n",
       "605               0.0              0.0               0.0  ...           0.0   \n",
       "699               0.0              0.0               0.0  ...           0.0   \n",
       "153               0.0              0.0               1.0  ...           0.0   \n",
       "443               0.0              0.0               0.0  ...           0.0   \n",
       "\n",
       "     Brand_MSI  Brand_RedmiBook  Brand_acer  Brand_realme  \\\n",
       "576        0.0              0.0         0.0           0.0   \n",
       "605        0.0              0.0         0.0           0.0   \n",
       "699        0.0              0.0         0.0           0.0   \n",
       "153        0.0              0.0         0.0           0.0   \n",
       "443        1.0              0.0         0.0           0.0   \n",
       "\n",
       "     Operating_System_DOS  Operating_System_MacOS  Operating_System_win10  \\\n",
       "576                   0.0                     0.0                     0.0   \n",
       "605                   0.0                     0.0                     0.0   \n",
       "699                   0.0                     0.0                     0.0   \n",
       "153                   0.0                     1.0                     0.0   \n",
       "443                   0.0                     0.0                     1.0   \n",
       "\n",
       "     Operating_System_win11  Touch_Screen_yes  \n",
       "576                     1.0               0.0  \n",
       "605                     1.0               0.0  \n",
       "699                     1.0               0.0  \n",
       "153                     0.0               0.0  \n",
       "443                     0.0               0.0  \n",
       "\n",
       "[5 rows x 39 columns]"
      ]
     },
     "execution_count": 173,
     "metadata": {},
     "output_type": "execute_result"
    }
   ],
   "source": [
    "X_test_transformed = pd.concat([X_test_num_rescaled, X_test_cat_ohe], axis=1)\n",
    "\n",
    "X_test_transformed.head()"
   ]
  },
  {
   "cell_type": "code",
   "execution_count": null,
   "metadata": {
    "id": "pNW2ii7yB_77"
   },
   "outputs": [],
   "source": []
  },
  {
   "cell_type": "code",
   "execution_count": null,
   "metadata": {
    "id": "7wj7D5uMijvw"
   },
   "outputs": [],
   "source": []
  },
  {
   "cell_type": "code",
   "execution_count": 174,
   "metadata": {
    "id": "20PK-kjAijed",
    "outputId": "3973f6a4-6c47-41ff-c65b-208078012bec"
   },
   "outputs": [
    {
     "data": {
      "text/html": [
       "<style>#sk-container-id-1 {color: black;background-color: white;}#sk-container-id-1 pre{padding: 0;}#sk-container-id-1 div.sk-toggleable {background-color: white;}#sk-container-id-1 label.sk-toggleable__label {cursor: pointer;display: block;width: 100%;margin-bottom: 0;padding: 0.3em;box-sizing: border-box;text-align: center;}#sk-container-id-1 label.sk-toggleable__label-arrow:before {content: \"▸\";float: left;margin-right: 0.25em;color: #696969;}#sk-container-id-1 label.sk-toggleable__label-arrow:hover:before {color: black;}#sk-container-id-1 div.sk-estimator:hover label.sk-toggleable__label-arrow:before {color: black;}#sk-container-id-1 div.sk-toggleable__content {max-height: 0;max-width: 0;overflow: hidden;text-align: left;background-color: #f0f8ff;}#sk-container-id-1 div.sk-toggleable__content pre {margin: 0.2em;color: black;border-radius: 0.25em;background-color: #f0f8ff;}#sk-container-id-1 input.sk-toggleable__control:checked~div.sk-toggleable__content {max-height: 200px;max-width: 100%;overflow: auto;}#sk-container-id-1 input.sk-toggleable__control:checked~label.sk-toggleable__label-arrow:before {content: \"▾\";}#sk-container-id-1 div.sk-estimator input.sk-toggleable__control:checked~label.sk-toggleable__label {background-color: #d4ebff;}#sk-container-id-1 div.sk-label input.sk-toggleable__control:checked~label.sk-toggleable__label {background-color: #d4ebff;}#sk-container-id-1 input.sk-hidden--visually {border: 0;clip: rect(1px 1px 1px 1px);clip: rect(1px, 1px, 1px, 1px);height: 1px;margin: -1px;overflow: hidden;padding: 0;position: absolute;width: 1px;}#sk-container-id-1 div.sk-estimator {font-family: monospace;background-color: #f0f8ff;border: 1px dotted black;border-radius: 0.25em;box-sizing: border-box;margin-bottom: 0.5em;}#sk-container-id-1 div.sk-estimator:hover {background-color: #d4ebff;}#sk-container-id-1 div.sk-parallel-item::after {content: \"\";width: 100%;border-bottom: 1px solid gray;flex-grow: 1;}#sk-container-id-1 div.sk-label:hover label.sk-toggleable__label {background-color: #d4ebff;}#sk-container-id-1 div.sk-serial::before {content: \"\";position: absolute;border-left: 1px solid gray;box-sizing: border-box;top: 0;bottom: 0;left: 50%;z-index: 0;}#sk-container-id-1 div.sk-serial {display: flex;flex-direction: column;align-items: center;background-color: white;padding-right: 0.2em;padding-left: 0.2em;position: relative;}#sk-container-id-1 div.sk-item {position: relative;z-index: 1;}#sk-container-id-1 div.sk-parallel {display: flex;align-items: stretch;justify-content: center;background-color: white;position: relative;}#sk-container-id-1 div.sk-item::before, #sk-container-id-1 div.sk-parallel-item::before {content: \"\";position: absolute;border-left: 1px solid gray;box-sizing: border-box;top: 0;bottom: 0;left: 50%;z-index: -1;}#sk-container-id-1 div.sk-parallel-item {display: flex;flex-direction: column;z-index: 1;position: relative;background-color: white;}#sk-container-id-1 div.sk-parallel-item:first-child::after {align-self: flex-end;width: 50%;}#sk-container-id-1 div.sk-parallel-item:last-child::after {align-self: flex-start;width: 50%;}#sk-container-id-1 div.sk-parallel-item:only-child::after {width: 0;}#sk-container-id-1 div.sk-dashed-wrapped {border: 1px dashed gray;margin: 0 0.4em 0.5em 0.4em;box-sizing: border-box;padding-bottom: 0.4em;background-color: white;}#sk-container-id-1 div.sk-label label {font-family: monospace;font-weight: bold;display: inline-block;line-height: 1.2em;}#sk-container-id-1 div.sk-label-container {text-align: center;}#sk-container-id-1 div.sk-container {/* jupyter's `normalize.less` sets `[hidden] { display: none; }` but bootstrap.min.css set `[hidden] { display: none !important; }` so we also need the `!important` here to be able to override the default hidden behavior on the sphinx rendered scikit-learn.org. See: https://github.com/scikit-learn/scikit-learn/issues/21755 */display: inline-block !important;position: relative;}#sk-container-id-1 div.sk-text-repr-fallback {display: none;}</style><div id=\"sk-container-id-1\" class=\"sk-top-container\"><div class=\"sk-text-repr-fallback\"><pre>LinearRegression()</pre><b>In a Jupyter environment, please rerun this cell to show the HTML representation or trust the notebook. <br />On GitHub, the HTML representation is unable to render, please try loading this page with nbviewer.org.</b></div><div class=\"sk-container\" hidden><div class=\"sk-item\"><div class=\"sk-estimator sk-toggleable\"><input class=\"sk-toggleable__control sk-hidden--visually\" id=\"sk-estimator-id-1\" type=\"checkbox\" checked><label for=\"sk-estimator-id-1\" class=\"sk-toggleable__label sk-toggleable__label-arrow\">LinearRegression</label><div class=\"sk-toggleable__content\"><pre>LinearRegression()</pre></div></div></div></div></div>"
      ],
      "text/plain": [
       "LinearRegression()"
      ]
     },
     "execution_count": 174,
     "metadata": {},
     "output_type": "execute_result"
    }
   ],
   "source": [
    "from sklearn.linear_model import LinearRegression\n",
    "regressor = LinearRegression()\n",
    "regressor.fit(X_train_transformed, y_train)"
   ]
  },
  {
   "cell_type": "code",
   "execution_count": 175,
   "metadata": {
    "id": "D7TMpVzwiskm"
   },
   "outputs": [],
   "source": [
    "y_test_pred_lr = regressor.predict(X_test_transformed)"
   ]
  },
  {
   "cell_type": "code",
   "execution_count": 176,
   "metadata": {
    "id": "6W87dxZBiuPr",
    "outputId": "79c76139-f4e6-4da5-d0d9-6ddde77e9566"
   },
   "outputs": [
    {
     "data": {
      "text/html": [
       "<div>\n",
       "<style scoped>\n",
       "    .dataframe tbody tr th:only-of-type {\n",
       "        vertical-align: middle;\n",
       "    }\n",
       "\n",
       "    .dataframe tbody tr th {\n",
       "        vertical-align: top;\n",
       "    }\n",
       "\n",
       "    .dataframe thead th {\n",
       "        text-align: right;\n",
       "    }\n",
       "</style>\n",
       "<table border=\"1\" class=\"dataframe\">\n",
       "  <thead>\n",
       "    <tr style=\"text-align: right;\">\n",
       "      <th></th>\n",
       "      <th>Actual</th>\n",
       "      <th>Predicted</th>\n",
       "    </tr>\n",
       "  </thead>\n",
       "  <tbody>\n",
       "    <tr>\n",
       "      <th>576</th>\n",
       "      <td>36990</td>\n",
       "      <td>36460.988969</td>\n",
       "    </tr>\n",
       "    <tr>\n",
       "      <th>605</th>\n",
       "      <td>137990</td>\n",
       "      <td>164362.656500</td>\n",
       "    </tr>\n",
       "    <tr>\n",
       "      <th>699</th>\n",
       "      <td>155990</td>\n",
       "      <td>140468.464064</td>\n",
       "    </tr>\n",
       "    <tr>\n",
       "      <th>153</th>\n",
       "      <td>241990</td>\n",
       "      <td>230111.457913</td>\n",
       "    </tr>\n",
       "    <tr>\n",
       "      <th>443</th>\n",
       "      <td>107790</td>\n",
       "      <td>108137.515410</td>\n",
       "    </tr>\n",
       "  </tbody>\n",
       "</table>\n",
       "</div>"
      ],
      "text/plain": [
       "     Actual      Predicted\n",
       "576   36990   36460.988969\n",
       "605  137990  164362.656500\n",
       "699  155990  140468.464064\n",
       "153  241990  230111.457913\n",
       "443  107790  108137.515410"
      ]
     },
     "execution_count": 176,
     "metadata": {},
     "output_type": "execute_result"
    }
   ],
   "source": [
    "temp_df = pd.DataFrame({'Actual': y_test, 'Predicted': y_test_pred_lr})\n",
    "\n",
    "temp_df.head()"
   ]
  },
  {
   "cell_type": "code",
   "execution_count": 177,
   "metadata": {
    "id": "IjcQjaNaiv-Q",
    "outputId": "ab6be25d-759a-40f6-ebfd-2aca90feca9f"
   },
   "outputs": [
    {
     "data": {
      "text/plain": [
       "<AxesSubplot:xlabel='Price', ylabel='Count'>"
      ]
     },
     "execution_count": 177,
     "metadata": {},
     "output_type": "execute_result"
    },
    {
     "data": {
      "image/png": "[encoded data removed]",
      "text/plain": [
       "<Figure size 432x288 with 1 Axes>"
      ]
     },
     "metadata": {
      "needs_background": "light"
     },
     "output_type": "display_data"
    }
   ],
   "source": [
    "sns.histplot(y_test, color='blue', alpha=0.5)\n",
    "sns.histplot(y_test_pred_lr, color='red', alpha=0.5)\n"
   ]
  },
  {
   "cell_type": "code",
   "execution_count": 178,
   "metadata": {
    "id": "IAs9vKZgi4Xz",
    "outputId": "b7c0e2a3-624e-40ae-c953-10c33cd613f0"
   },
   "outputs": [
    {
     "name": "stdout",
     "output_type": "stream",
     "text": [
      "Mean Absolute Error:  10280.885836617825\n",
      "Mean Squared Error:  268861798.1909887\n",
      "Root Mean Squared Error:  16397.005769072253\n"
     ]
    }
   ],
   "source": [
    "from sklearn import metrics\n",
    "\n",
    "print('Mean Absolute Error: ', metrics.mean_absolute_error(y_test, y_test_pred_lr))\n",
    "\n",
    "print('Mean Squared Error: ', metrics.mean_squared_error(y_test, y_test_pred_lr))\n",
    "\n",
    "print('Root Mean Squared Error: ', np.sqrt(metrics.mean_squared_error(y_test, y_test_pred_lr)))\n"
   ]
  },
  {
   "cell_type": "code",
   "execution_count": 179,
   "metadata": {
    "id": "d15PIXWVjUeh",
    "outputId": "f9612f4f-0b1a-4359-9c53-aaabdbe0873f"
   },
   "outputs": [
    {
     "data": {
      "text/html": [
       "<style>#sk-container-id-2 {color: black;background-color: white;}#sk-container-id-2 pre{padding: 0;}#sk-container-id-2 div.sk-toggleable {background-color: white;}#sk-container-id-2 label.sk-toggleable__label {cursor: pointer;display: block;width: 100%;margin-bottom: 0;padding: 0.3em;box-sizing: border-box;text-align: center;}#sk-container-id-2 label.sk-toggleable__label-arrow:before {content: \"▸\";float: left;margin-right: 0.25em;color: #696969;}#sk-container-id-2 label.sk-toggleable__label-arrow:hover:before {color: black;}#sk-container-id-2 div.sk-estimator:hover label.sk-toggleable__label-arrow:before {color: black;}#sk-container-id-2 div.sk-toggleable__content {max-height: 0;max-width: 0;overflow: hidden;text-align: left;background-color: #f0f8ff;}#sk-container-id-2 div.sk-toggleable__content pre {margin: 0.2em;color: black;border-radius: 0.25em;background-color: #f0f8ff;}#sk-container-id-2 input.sk-toggleable__control:checked~div.sk-toggleable__content {max-height: 200px;max-width: 100%;overflow: auto;}#sk-container-id-2 input.sk-toggleable__control:checked~label.sk-toggleable__label-arrow:before {content: \"▾\";}#sk-container-id-2 div.sk-estimator input.sk-toggleable__control:checked~label.sk-toggleable__label {background-color: #d4ebff;}#sk-container-id-2 div.sk-label input.sk-toggleable__control:checked~label.sk-toggleable__label {background-color: #d4ebff;}#sk-container-id-2 input.sk-hidden--visually {border: 0;clip: rect(1px 1px 1px 1px);clip: rect(1px, 1px, 1px, 1px);height: 1px;margin: -1px;overflow: hidden;padding: 0;position: absolute;width: 1px;}#sk-container-id-2 div.sk-estimator {font-family: monospace;background-color: #f0f8ff;border: 1px dotted black;border-radius: 0.25em;box-sizing: border-box;margin-bottom: 0.5em;}#sk-container-id-2 div.sk-estimator:hover {background-color: #d4ebff;}#sk-container-id-2 div.sk-parallel-item::after {content: \"\";width: 100%;border-bottom: 1px solid gray;flex-grow: 1;}#sk-container-id-2 div.sk-label:hover label.sk-toggleable__label {background-color: #d4ebff;}#sk-container-id-2 div.sk-serial::before {content: \"\";position: absolute;border-left: 1px solid gray;box-sizing: border-box;top: 0;bottom: 0;left: 50%;z-index: 0;}#sk-container-id-2 div.sk-serial {display: flex;flex-direction: column;align-items: center;background-color: white;padding-right: 0.2em;padding-left: 0.2em;position: relative;}#sk-container-id-2 div.sk-item {position: relative;z-index: 1;}#sk-container-id-2 div.sk-parallel {display: flex;align-items: stretch;justify-content: center;background-color: white;position: relative;}#sk-container-id-2 div.sk-item::before, #sk-container-id-2 div.sk-parallel-item::before {content: \"\";position: absolute;border-left: 1px solid gray;box-sizing: border-box;top: 0;bottom: 0;left: 50%;z-index: -1;}#sk-container-id-2 div.sk-parallel-item {display: flex;flex-direction: column;z-index: 1;position: relative;background-color: white;}#sk-container-id-2 div.sk-parallel-item:first-child::after {align-self: flex-end;width: 50%;}#sk-container-id-2 div.sk-parallel-item:last-child::after {align-self: flex-start;width: 50%;}#sk-container-id-2 div.sk-parallel-item:only-child::after {width: 0;}#sk-container-id-2 div.sk-dashed-wrapped {border: 1px dashed gray;margin: 0 0.4em 0.5em 0.4em;box-sizing: border-box;padding-bottom: 0.4em;background-color: white;}#sk-container-id-2 div.sk-label label {font-family: monospace;font-weight: bold;display: inline-block;line-height: 1.2em;}#sk-container-id-2 div.sk-label-container {text-align: center;}#sk-container-id-2 div.sk-container {/* jupyter's `normalize.less` sets `[hidden] { display: none; }` but bootstrap.min.css set `[hidden] { display: none !important; }` so we also need the `!important` here to be able to override the default hidden behavior on the sphinx rendered scikit-learn.org. See: https://github.com/scikit-learn/scikit-learn/issues/21755 */display: inline-block !important;position: relative;}#sk-container-id-2 div.sk-text-repr-fallback {display: none;}</style><div id=\"sk-container-id-2\" class=\"sk-top-container\"><div class=\"sk-text-repr-fallback\"><pre>DecisionTreeRegressor()</pre><b>In a Jupyter environment, please rerun this cell to show the HTML representation or trust the notebook. <br />On GitHub, the HTML representation is unable to render, please try loading this page with nbviewer.org.</b></div><div class=\"sk-container\" hidden><div class=\"sk-item\"><div class=\"sk-estimator sk-toggleable\"><input class=\"sk-toggleable__control sk-hidden--visually\" id=\"sk-estimator-id-2\" type=\"checkbox\" checked><label for=\"sk-estimator-id-2\" class=\"sk-toggleable__label sk-toggleable__label-arrow\">DecisionTreeRegressor</label><div class=\"sk-toggleable__content\"><pre>DecisionTreeRegressor()</pre></div></div></div></div></div>"
      ],
      "text/plain": [
       "DecisionTreeRegressor()"
      ]
     },
     "execution_count": 179,
     "metadata": {},
     "output_type": "execute_result"
    }
   ],
   "source": [
    "from sklearn.tree import DecisionTreeRegressor\n",
    "regressor = DecisionTreeRegressor()\n",
    "regressor.fit(X_train_transformed, y_train)"
   ]
  },
  {
   "cell_type": "code",
   "execution_count": 180,
   "metadata": {
    "id": "eGDTBBaAjYjK"
   },
   "outputs": [],
   "source": [
    "y_test_pred_dt = regressor.predict(X_test_transformed)"
   ]
  },
  {
   "cell_type": "code",
   "execution_count": 181,
   "metadata": {
    "id": "4j8WUa6ujaIt",
    "outputId": "95f2f7b1-ec76-424f-e68f-6c4445bdaa36"
   },
   "outputs": [
    {
     "data": {
      "text/html": [
       "<div>\n",
       "<style scoped>\n",
       "    .dataframe tbody tr th:only-of-type {\n",
       "        vertical-align: middle;\n",
       "    }\n",
       "\n",
       "    .dataframe tbody tr th {\n",
       "        vertical-align: top;\n",
       "    }\n",
       "\n",
       "    .dataframe thead th {\n",
       "        text-align: right;\n",
       "    }\n",
       "</style>\n",
       "<table border=\"1\" class=\"dataframe\">\n",
       "  <thead>\n",
       "    <tr style=\"text-align: right;\">\n",
       "      <th></th>\n",
       "      <th>Actual</th>\n",
       "      <th>Predicted</th>\n",
       "    </tr>\n",
       "  </thead>\n",
       "  <tbody>\n",
       "    <tr>\n",
       "      <th>576</th>\n",
       "      <td>36990</td>\n",
       "      <td>33709.0</td>\n",
       "    </tr>\n",
       "    <tr>\n",
       "      <th>605</th>\n",
       "      <td>137990</td>\n",
       "      <td>116490.0</td>\n",
       "    </tr>\n",
       "    <tr>\n",
       "      <th>699</th>\n",
       "      <td>155990</td>\n",
       "      <td>135490.0</td>\n",
       "    </tr>\n",
       "    <tr>\n",
       "      <th>153</th>\n",
       "      <td>241990</td>\n",
       "      <td>232490.0</td>\n",
       "    </tr>\n",
       "    <tr>\n",
       "      <th>443</th>\n",
       "      <td>107790</td>\n",
       "      <td>109990.0</td>\n",
       "    </tr>\n",
       "  </tbody>\n",
       "</table>\n",
       "</div>"
      ],
      "text/plain": [
       "     Actual  Predicted\n",
       "576   36990    33709.0\n",
       "605  137990   116490.0\n",
       "699  155990   135490.0\n",
       "153  241990   232490.0\n",
       "443  107790   109990.0"
      ]
     },
     "execution_count": 181,
     "metadata": {},
     "output_type": "execute_result"
    }
   ],
   "source": [
    "temp_df = pd.DataFrame({'Actual': y_test, 'Predicted': y_test_pred_dt})\n",
    "\n",
    "temp_df.head()"
   ]
  },
  {
   "cell_type": "code",
   "execution_count": 182,
   "metadata": {
    "id": "pmNrj-FyjcBl",
    "outputId": "b6eb076d-27d0-4747-e9e9-0ce6e914b0ef"
   },
   "outputs": [
    {
     "data": {
      "text/plain": [
       "<AxesSubplot:xlabel='Price', ylabel='Count'>"
      ]
     },
     "execution_count": 182,
     "metadata": {},
     "output_type": "execute_result"
    },
    {
     "data": {
      "image/png": "[encoded data removed]",
      "text/plain": [
       "<Figure size 432x288 with 1 Axes>"
      ]
     },
     "metadata": {
      "needs_background": "light"
     },
     "output_type": "display_data"
    }
   ],
   "source": [
    "sns.histplot(y_test, color='blue', alpha=0.5)\n",
    "sns.histplot(y_test_pred_dt, color='red', alpha=0.5)"
   ]
  },
  {
   "cell_type": "code",
   "execution_count": 183,
   "metadata": {
    "id": "kp_Kxu5Bjdgn",
    "outputId": "6642f7dd-04cd-454f-fe26-8bb791ccd165"
   },
   "outputs": [
    {
     "name": "stdout",
     "output_type": "stream",
     "text": [
      "Mean Absolute Error:  8922.84944109099\n",
      "Mean Squared Error:  392348617.2183177\n",
      "Root Mean Squared Error:  19807.79183095172\n"
     ]
    }
   ],
   "source": [
    "print('Mean Absolute Error: ', metrics.mean_absolute_error(y_test, y_test_pred_dt))\n",
    "\n",
    "print('Mean Squared Error: ', metrics.mean_squared_error(y_test, y_test_pred_dt))\n",
    "\n",
    "print('Root Mean Squared Error: ', np.sqrt(metrics.mean_squared_error(y_test, y_test_pred_dt)))\n"
   ]
  },
  {
   "cell_type": "code",
   "execution_count": 184,
   "metadata": {
    "id": "QypCF2aZjfhH",
    "outputId": "359a4c73-4c13-464a-f06f-7d6ce204dffa"
   },
   "outputs": [
    {
     "data": {
      "text/html": [
       "<style>#sk-container-id-3 {color: black;background-color: white;}#sk-container-id-3 pre{padding: 0;}#sk-container-id-3 div.sk-toggleable {background-color: white;}#sk-container-id-3 label.sk-toggleable__label {cursor: pointer;display: block;width: 100%;margin-bottom: 0;padding: 0.3em;box-sizing: border-box;text-align: center;}#sk-container-id-3 label.sk-toggleable__label-arrow:before {content: \"▸\";float: left;margin-right: 0.25em;color: #696969;}#sk-container-id-3 label.sk-toggleable__label-arrow:hover:before {color: black;}#sk-container-id-3 div.sk-estimator:hover label.sk-toggleable__label-arrow:before {color: black;}#sk-container-id-3 div.sk-toggleable__content {max-height: 0;max-width: 0;overflow: hidden;text-align: left;background-color: #f0f8ff;}#sk-container-id-3 div.sk-toggleable__content pre {margin: 0.2em;color: black;border-radius: 0.25em;background-color: #f0f8ff;}#sk-container-id-3 input.sk-toggleable__control:checked~div.sk-toggleable__content {max-height: 200px;max-width: 100%;overflow: auto;}#sk-container-id-3 input.sk-toggleable__control:checked~label.sk-toggleable__label-arrow:before {content: \"▾\";}#sk-container-id-3 div.sk-estimator input.sk-toggleable__control:checked~label.sk-toggleable__label {background-color: #d4ebff;}#sk-container-id-3 div.sk-label input.sk-toggleable__control:checked~label.sk-toggleable__label {background-color: #d4ebff;}#sk-container-id-3 input.sk-hidden--visually {border: 0;clip: rect(1px 1px 1px 1px);clip: rect(1px, 1px, 1px, 1px);height: 1px;margin: -1px;overflow: hidden;padding: 0;position: absolute;width: 1px;}#sk-container-id-3 div.sk-estimator {font-family: monospace;background-color: #f0f8ff;border: 1px dotted black;border-radius: 0.25em;box-sizing: border-box;margin-bottom: 0.5em;}#sk-container-id-3 div.sk-estimator:hover {background-color: #d4ebff;}#sk-container-id-3 div.sk-parallel-item::after {content: \"\";width: 100%;border-bottom: 1px solid gray;flex-grow: 1;}#sk-container-id-3 div.sk-label:hover label.sk-toggleable__label {background-color: #d4ebff;}#sk-container-id-3 div.sk-serial::before {content: \"\";position: absolute;border-left: 1px solid gray;box-sizing: border-box;top: 0;bottom: 0;left: 50%;z-index: 0;}#sk-container-id-3 div.sk-serial {display: flex;flex-direction: column;align-items: center;background-color: white;padding-right: 0.2em;padding-left: 0.2em;position: relative;}#sk-container-id-3 div.sk-item {position: relative;z-index: 1;}#sk-container-id-3 div.sk-parallel {display: flex;align-items: stretch;justify-content: center;background-color: white;position: relative;}#sk-container-id-3 div.sk-item::before, #sk-container-id-3 div.sk-parallel-item::before {content: \"\";position: absolute;border-left: 1px solid gray;box-sizing: border-box;top: 0;bottom: 0;left: 50%;z-index: -1;}#sk-container-id-3 div.sk-parallel-item {display: flex;flex-direction: column;z-index: 1;position: relative;background-color: white;}#sk-container-id-3 div.sk-parallel-item:first-child::after {align-self: flex-end;width: 50%;}#sk-container-id-3 div.sk-parallel-item:last-child::after {align-self: flex-start;width: 50%;}#sk-container-id-3 div.sk-parallel-item:only-child::after {width: 0;}#sk-container-id-3 div.sk-dashed-wrapped {border: 1px dashed gray;margin: 0 0.4em 0.5em 0.4em;box-sizing: border-box;padding-bottom: 0.4em;background-color: white;}#sk-container-id-3 div.sk-label label {font-family: monospace;font-weight: bold;display: inline-block;line-height: 1.2em;}#sk-container-id-3 div.sk-label-container {text-align: center;}#sk-container-id-3 div.sk-container {/* jupyter's `normalize.less` sets `[hidden] { display: none; }` but bootstrap.min.css set `[hidden] { display: none !important; }` so we also need the `!important` here to be able to override the default hidden behavior on the sphinx rendered scikit-learn.org. See: https://github.com/scikit-learn/scikit-learn/issues/21755 */display: inline-block !important;position: relative;}#sk-container-id-3 div.sk-text-repr-fallback {display: none;}</style><div id=\"sk-container-id-3\" class=\"sk-top-container\"><div class=\"sk-text-repr-fallback\"><pre>RandomForestRegressor()</pre><b>In a Jupyter environment, please rerun this cell to show the HTML representation or trust the notebook. <br />On GitHub, the HTML representation is unable to render, please try loading this page with nbviewer.org.</b></div><div class=\"sk-container\" hidden><div class=\"sk-item\"><div class=\"sk-estimator sk-toggleable\"><input class=\"sk-toggleable__control sk-hidden--visually\" id=\"sk-estimator-id-3\" type=\"checkbox\" checked><label for=\"sk-estimator-id-3\" class=\"sk-toggleable__label sk-toggleable__label-arrow\">RandomForestRegressor</label><div class=\"sk-toggleable__content\"><pre>RandomForestRegressor()</pre></div></div></div></div></div>"
      ],
      "text/plain": [
       "RandomForestRegressor()"
      ]
     },
     "execution_count": 184,
     "metadata": {},
     "output_type": "execute_result"
    }
   ],
   "source": [
    "from sklearn.ensemble import RandomForestRegressor\n",
    "rf_regressor = RandomForestRegressor()\n",
    "rf_regressor.fit(X_train_transformed, y_train)"
   ]
  },
  {
   "cell_type": "code",
   "execution_count": 185,
   "metadata": {
    "id": "thXdikBDrrTJ"
   },
   "outputs": [],
   "source": [
    "y_test_pred_rg = rf_regressor.predict(X_test_transformed)"
   ]
  },
  {
   "cell_type": "code",
   "execution_count": 186,
   "metadata": {
    "id": "JVID7HserrTJ",
    "outputId": "9fb0ca78-0456-45ef-e646-24f8045390f0"
   },
   "outputs": [
    {
     "data": {
      "text/html": [
       "<div>\n",
       "<style scoped>\n",
       "    .dataframe tbody tr th:only-of-type {\n",
       "        vertical-align: middle;\n",
       "    }\n",
       "\n",
       "    .dataframe tbody tr th {\n",
       "        vertical-align: top;\n",
       "    }\n",
       "\n",
       "    .dataframe thead th {\n",
       "        text-align: right;\n",
       "    }\n",
       "</style>\n",
       "<table border=\"1\" class=\"dataframe\">\n",
       "  <thead>\n",
       "    <tr style=\"text-align: right;\">\n",
       "      <th></th>\n",
       "      <th>Actual</th>\n",
       "      <th>Predicted</th>\n",
       "    </tr>\n",
       "  </thead>\n",
       "  <tbody>\n",
       "    <tr>\n",
       "      <th>576</th>\n",
       "      <td>36990</td>\n",
       "      <td>34823.565333</td>\n",
       "    </tr>\n",
       "    <tr>\n",
       "      <th>605</th>\n",
       "      <td>137990</td>\n",
       "      <td>131422.095960</td>\n",
       "    </tr>\n",
       "    <tr>\n",
       "      <th>699</th>\n",
       "      <td>155990</td>\n",
       "      <td>137127.045455</td>\n",
       "    </tr>\n",
       "    <tr>\n",
       "      <th>153</th>\n",
       "      <td>241990</td>\n",
       "      <td>222673.833333</td>\n",
       "    </tr>\n",
       "    <tr>\n",
       "      <th>443</th>\n",
       "      <td>107790</td>\n",
       "      <td>107268.340000</td>\n",
       "    </tr>\n",
       "  </tbody>\n",
       "</table>\n",
       "</div>"
      ],
      "text/plain": [
       "     Actual      Predicted\n",
       "576   36990   34823.565333\n",
       "605  137990  131422.095960\n",
       "699  155990  137127.045455\n",
       "153  241990  222673.833333\n",
       "443  107790  107268.340000"
      ]
     },
     "execution_count": 186,
     "metadata": {},
     "output_type": "execute_result"
    }
   ],
   "source": [
    "temp_df = pd.DataFrame({'Actual': y_test, 'Predicted': y_test_pred_rg})\n",
    "\n",
    "temp_df.head()"
   ]
  },
  {
   "cell_type": "code",
   "execution_count": 187,
   "metadata": {
    "id": "1JK-dpX-rrTJ",
    "outputId": "9adbf341-686c-4d3d-c3ea-dc6898bf7604"
   },
   "outputs": [
    {
     "data": {
      "text/plain": [
       "<AxesSubplot:xlabel='Price', ylabel='Count'>"
      ]
     },
     "execution_count": 187,
     "metadata": {},
     "output_type": "execute_result"
    },
    {
     "data": {
      "image/png": "[encoded data removed]",
      "text/plain": [
       "<Figure size 432x288 with 1 Axes>"
      ]
     },
     "metadata": {
      "needs_background": "light"
     },
     "output_type": "display_data"
    }
   ],
   "source": [
    "sns.histplot(y_test, color='blue', alpha=0.5)\n",
    "sns.histplot(y_test_pred_rg, color='red', alpha=0.5)"
   ]
  },
  {
   "cell_type": "code",
   "execution_count": 189,
   "metadata": {
    "id": "Z4cGsV0-rrTJ",
    "outputId": "c2344f72-3f50-48b7-bb22-5cca85c514f3"
   },
   "outputs": [
    {
     "name": "stdout",
     "output_type": "stream",
     "text": [
      "Mean Absolute Error:  7485.283371677052\n",
      "Mean Squared Error:  222778518.83580124\n",
      "Root Mean Squared Error:  14925.766942968165\n"
     ]
    }
   ],
   "source": [
    "print('Mean Absolute Error: ', metrics.mean_absolute_error(y_test, y_test_pred_rg))\n",
    "\n",
    "print('Mean Squared Error: ', metrics.mean_squared_error(y_test, y_test_pred_rg))\n",
    "\n",
    "print('Root Mean Squared Error: ', np.sqrt(metrics.mean_squared_error(y_test, y_test_pred_rg)))\n"
   ]
  },
  {
   "cell_type": "code",
   "execution_count": 190,
   "metadata": {
    "id": "6Y8CudgmDdH3"
   },
   "outputs": [
    {
     "name": "stdout",
     "output_type": "stream",
     "text": [
      "r2_score: 0.9265873920146794\n"
     ]
    }
   ],
   "source": [
    "print(\"r2_score:\",metrics.r2_score(y_test, y_test_pred_rg))\n"
   ]
  },
  {
   "cell_type": "code",
   "execution_count": 191,
   "metadata": {
    "id": "gNpwLJmYrrTL"
   },
   "outputs": [],
   "source": [
    "# from pickle import dump\n",
    "# dump(encoder,open(r\"C:\\Users\\Dell\\Downloads\\encoder.pkl\",\"wb\"))\n",
    "# dump(scaler,open(r\"C:\\Users\\Dell\\Downloads\\scaler.pkl\",\"wb\"))\n",
    "# dump(rf_regressor,open(r\"C:\\Users\\Dell\\Downloads\\model_1.pkl\",\"wb\"))"
   ]
  },
  {
   "cell_type": "markdown",
   "metadata": {},
   "source": [
    "#### Factors effecting the Price of laptop"
   ]
  },
  {
   "cell_type": "markdown",
   "metadata": {},
   "source": [
    "#### 1.RAM and storage: More RAM and storage will generally increase the price of a laptop."
   ]
  },
  {
   "cell_type": "markdown",
   "metadata": {},
   "source": [
    "#### 2.Processor: The processor is the \"brain\" of the laptop, and a more powerful processor will generally result in a more expensive laptop."
   ]
  },
  {
   "cell_type": "markdown",
   "metadata": {},
   "source": [
    "#### 3.Operating system: Laptops with certain operating systems, such as macOS, tend to be more expensive than those with other operating systems like Windows."
   ]
  },
  {
   "cell_type": "markdown",
   "metadata": {},
   "source": [
    "#### 4.Laptops with touchscreen tend to be slightly more expensive than those without touchscreen, as the median price for touchscreen laptops is higher than that for non-touchscreen laptops."
   ]
  },
  {
   "cell_type": "code",
   "execution_count": null,
   "metadata": {},
   "outputs": [],
   "source": []
  }
 ],
 "metadata": {
  "colab": {
   "provenance": []
  },
  "kernelspec": {
   "display_name": "Python 3 (ipykernel)",
   "language": "python",
   "name": "python3"
  },
  "language_info": {
   "codemirror_mode": {
    "name": "ipython",
    "version": 3
   },
   "file_extension": ".py",
   "mimetype": "text/x-python",
   "name": "python",
   "nbconvert_exporter": "python",
   "pygments_lexer": "ipython3",
   "version": "3.9.12"
  }
 },
 "nbformat": 4,
 "nbformat_minor": 1
}
